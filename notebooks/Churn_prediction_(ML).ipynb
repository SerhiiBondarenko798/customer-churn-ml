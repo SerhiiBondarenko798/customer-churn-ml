{
  "cells": [
    {
      "cell_type": "code",
      "execution_count": null,
      "metadata": {
        "colab": {
          "base_uri": "https://localhost:8080/"
        },
        "id": "e1H864Qyu1x_",
        "outputId": "ea7acda6-6adb-4424-b772-72e482b4b469"
      },
      "outputs": [
        {
          "output_type": "stream",
          "name": "stdout",
          "text": [
            "Drive already mounted at /content/drive; to attempt to forcibly remount, call drive.mount(\"/content/drive\", force_remount=True).\n"
          ]
        }
      ],
      "source": [
        "from google.colab import drive\n",
        "drive.mount('/content/drive')"
      ]
    },
    {
      "cell_type": "code",
      "execution_count": null,
      "metadata": {
        "id": "nDRwH5mECVAs"
      },
      "outputs": [],
      "source": [
        "import spacy\n",
        "from spacy import displacy\n",
        "\n",
        "nlp = spacy.load(\"en_core_web_sm\")"
      ]
    },
    {
      "cell_type": "code",
      "execution_count": null,
      "metadata": {
        "colab": {
          "base_uri": "https://localhost:8080/"
        },
        "id": "8kRggEbHu_yE",
        "outputId": "d158021e-6f0e-41ad-fdad-8a67eccbbe99"
      },
      "outputs": [
        {
          "output_type": "stream",
          "name": "stderr",
          "text": [
            "[nltk_data] Downloading package stopwords to /root/nltk_data...\n",
            "[nltk_data]   Package stopwords is already up-to-date!\n",
            "[nltk_data] Downloading package averaged_perceptron_tagger to\n",
            "[nltk_data]     /root/nltk_data...\n",
            "[nltk_data]   Package averaged_perceptron_tagger is already up-to-\n",
            "[nltk_data]       date!\n",
            "[nltk_data] Downloading package wordnet to /root/nltk_data...\n",
            "[nltk_data]   Package wordnet is already up-to-date!\n",
            "[nltk_data] Downloading package omw-1.4 to /root/nltk_data...\n",
            "[nltk_data]   Package omw-1.4 is already up-to-date!\n",
            "[nltk_data] Downloading package vader_lexicon to /root/nltk_data...\n",
            "[nltk_data]   Package vader_lexicon is already up-to-date!\n",
            "[nltk_data] Downloading package averaged_perceptron_tagger_eng to\n",
            "[nltk_data]     /root/nltk_data...\n",
            "[nltk_data]   Unzipping taggers/averaged_perceptron_tagger_eng.zip.\n"
          ]
        },
        {
          "output_type": "execute_result",
          "data": {
            "text/plain": [
              "True"
            ]
          },
          "metadata": {},
          "execution_count": 14
        }
      ],
      "source": [
        "import nltk\n",
        "nltk.download('stopwords')\n",
        "nltk.download('averaged_perceptron_tagger')\n",
        "nltk.download('wordnet')\n",
        "nltk.download('omw-1.4')\n",
        "nltk.download('vader_lexicon')\n",
        "nltk.download('averaged_perceptron_tagger_eng')"
      ]
    },
    {
      "cell_type": "code",
      "execution_count": null,
      "metadata": {
        "id": "sCzvJ3anCyTv"
      },
      "outputs": [],
      "source": [
        "import numpy as np\n",
        "import pandas as pd\n",
        "import tensorflow as tf\n",
        "import seaborn as sns\n",
        "import matplotlib.pyplot as plt\n",
        "%matplotlib inline\n",
        "from sklearn.model_selection import train_test_split\n",
        "from sklearn.metrics import f1_score\n",
        "import sklearn.base as skb\n",
        "import sklearn.metrics as skm\n",
        "import sklearn.model_selection as skms\n",
        "import sklearn.preprocessing as skp\n",
        "import sklearn.linear_model as sklm\n",
        "import warnings\n",
        "import string\n",
        "from nltk import pos_tag\n",
        "from nltk.corpus import stopwords\n",
        "from nltk.tokenize import WhitespaceTokenizer\n",
        "from nltk.stem import WordNetLemmatizer\n",
        "from xgboost import XGBClassifier\n",
        "import joblib\n",
        "from gensim.test.utils import common_texts\n",
        "from gensim.models.doc2vec import Doc2Vec, TaggedDocument\n",
        "from nltk.sentiment.vader import SentimentIntensityAnalyzer\n",
        "from collections import OrderedDict\n",
        "warnings.filterwarnings('ignore')\n",
        "import random\n",
        "from nltk.corpus import wordnet\n",
        "seed = 5\n",
        "np.random.seed(seed)\n",
        "\n",
        "sns.set_style('whitegrid')\n",
        "plt.style.use('seaborn-v0_8-deep')\n",
        "plt.style.use('fivethirtyeight')\n",
        "plt.rcParams['font.family'] = 'sans-serif'\n",
        "plt.rcParams['font.monospace'] = 'Ubunto Mono'\n",
        "plt.rcParams['font.size'] = 10\n",
        "plt.rcParams['axes.labelsize'] = 12\n",
        "plt.rcParams['axes.titlesize'] = 12\n",
        "plt.rcParams['xtick.labelsize'] = 8\n",
        "plt.rcParams['ytick.labelsize'] = 8\n",
        "plt.rcParams['legend.fontsize'] = 12\n",
        "plt.rcParams['figure.titlesize'] = 14\n",
        "plt.rcParams['figure.figsize'] = (12,8)"
      ]
    },
    {
      "cell_type": "code",
      "execution_count": null,
      "metadata": {
        "id": "16QUNLYPeH4F"
      },
      "outputs": [],
      "source": [
        "#SENTIMENT_ANALYSIS_PART"
      ]
    },
    {
      "cell_type": "code",
      "execution_count": null,
      "metadata": {
        "id": "XV9WmzpoeG1G"
      },
      "outputs": [],
      "source": [
        "def get_wordnet_pos(pos_tag):\n",
        "    if pos_tag.startswith('J'):\n",
        "        return wordnet.ADJ\n",
        "    elif pos_tag.startswith('V'):\n",
        "        return wordnet.VERB\n",
        "    elif pos_tag.startswith('N'):\n",
        "        return wordnet.NOUN\n",
        "    elif pos_tag.startswith('R'):\n",
        "        return wordnet.ADV\n",
        "    else:\n",
        "        return wordnet.NOUN\n",
        "\n",
        "\n",
        "\n",
        "def clean_text(text):\n",
        "    text = text.lower()  # Convert text to lowercase\n",
        "    text = [word.strip(string.punctuation) for word in text.split(\" \")]  # Tokenize and remove punctuation\n",
        "    text = [word for word in text if not any(c.isdigit() for c in word)]  # Remove words with numbers\n",
        "    stop = stopwords.words('english')  # Define stopwords\n",
        "    text = [x for x in text if x not in stop]  # Remove stopwords\n",
        "    pos_tags = pos_tag(text)  # POS tagging\n",
        "    text = [WordNetLemmatizer().lemmatize(t[0], get_wordnet_pos(t[1])) for t in pos_tags]  # Lemmatization\n",
        "    text = [t for t in text if len(t) > 1]  # Remove words with only one letter\n",
        "    return \" \".join(text)\n",
        "\n",
        "def sentiment_feedback(sentiment_df, doc2vec_model, tfidf_vectorizer, xgb):\n",
        "\n",
        "    sentiment_df.dropna()\n",
        "    sentiment_df.mask(sentiment_df.eq('None')).dropna()\n",
        "    sentiment_df.mask(sentiment_df.astype(object).eq('None')).dropna()\n",
        "    sentiment_df = sentiment_df.replace(to_replace='None', value=np.nan).dropna()\n",
        "    sentiment_df = sentiment_df.rename(columns={\"content\": \"review\"})\n",
        "\n",
        "    sentiment_df[\"review_clean\"] = sentiment_df[\"review\"].apply(lambda x: clean_text(x))\n",
        "    sentiment_df[\"summary_clean\"] = sentiment_df[\"summary\"].apply(lambda x: clean_text(x))\n",
        "\n",
        "    sid = SentimentIntensityAnalyzer()\n",
        "    sentiment_df[\"sentiments\"] = sentiment_df[\"review\"].apply(lambda x: sid.polarity_scores(x))\n",
        "    sentiment_df = pd.concat([sentiment_df.drop(['sentiments'], axis=1), sentiment_df['sentiments'].apply(pd.Series)], axis=1)\n",
        "    sentiment_df = sentiment_df.rename(columns={\"neg\": \"neg_rw\", \"neu\": \"neu_rw\",\"pos\": \"pos_rw\", \"compound\": \"compound_rw\"})\n",
        "\n",
        "    sentiment_df[\"sentiments_sm\"] = sentiment_df[\"summary\"].apply(lambda x: sid.polarity_scores(x))\n",
        "    sentiment_df = pd.concat([sentiment_df.drop(['sentiments_sm'], axis=1), sentiment_df['sentiments_sm'].apply(pd.Series)], axis=1)\n",
        "    sentiment_df = sentiment_df.rename(columns={\"neg\": \"neg_sm\", \"neu\": \"neu_sm\",\"pos\": \"pos_sm\", \"compound\": \"compound_sm\"})\n",
        "    sentiment_df = sentiment_df.rename(columns={\"neg_rw\": \"neg\", \"neu_rw\": \"neu\",\"pos_rw\": \"pos\", \"compound_rw\": \"compound\"})\n",
        "\n",
        "    # add number of characters column\n",
        "    sentiment_df[\"nb_chars\"] = sentiment_df[\"review\"].apply(lambda x: len(x))\n",
        "    sentiment_df[\"nb_chars_sm\"] = sentiment_df[\"summary\"].apply(lambda x: len(x))\n",
        "\n",
        "    # add number of words column\n",
        "    sentiment_df[\"nb_words\"] = sentiment_df[\"review\"].apply(lambda x: len(x.split(\" \")))\n",
        "    sentiment_df[\"nb_words_sm\"] = sentiment_df[\"summary\"].apply(lambda x: len(x.split(\" \")))\n",
        "\n",
        "    # transform each document into a vector data\n",
        "\n",
        "    doc2vec_df = sentiment_df[\"review_clean\"].apply(lambda x: doc2vec_model.infer_vector(x.split(\" \"))).apply(pd.Series)\n",
        "    doc2vec_df.columns = [\"doc2vec_rw_vector_\" + str(x) for x in doc2vec_df.columns]\n",
        "    sentiment_df = pd.concat([sentiment_df, doc2vec_df], axis=1)\n",
        "    doc2vec_df_sm = sentiment_df[\"summary_clean\"].apply(lambda x: doc2vec_model.infer_vector(x.split(\" \"))).apply(pd.Series)\n",
        "    doc2vec_df_sm.columns = [\"doc2vec_sm_vector_\" + str(x) for x in doc2vec_df_sm.columns]\n",
        "    sentiment_df = pd.concat([sentiment_df, doc2vec_df_sm], axis=1)\n",
        "\n",
        "\n",
        "    merge_clean = sentiment_df[[\"review_clean\", \"summary_clean\"]].apply(lambda x: \" \".join(x), axis=1)\n",
        "    merge_clean = merge_clean.apply(lambda x: list(OrderedDict.fromkeys(x.split(\" \"))))\n",
        "    merge_clean = merge_clean.apply(lambda x: \" \".join(x))\n",
        "\n",
        "    tfidf_result = tfidf_vectorizer.transform(merge_clean).toarray()\n",
        "    tfidf_df = pd.DataFrame(tfidf_result, columns=tfidf_vectorizer.get_feature_names_out())\n",
        "    tfidf_df.columns = [\"word_\" + str(x) for x in tfidf_df.columns]\n",
        "    tfidf_df.index = sentiment_df.index\n",
        "    sentiment_df = pd.concat([sentiment_df, tfidf_df], axis=1)\n",
        "\n",
        "    sentiment_df = sentiment_df.loc[:, ~sentiment_df.columns.duplicated()].copy()\n",
        "\n",
        "    ignore_cols = [\"review\", \"review_clean\", \"summary\",'summary_clean']\n",
        "    features = [c for c in sentiment_df.columns if c not in ignore_cols]\n",
        "\n",
        "    X_test = sentiment_df[features]\n",
        "\n",
        "    y_pred_list = xgb.predict_proba(X_test)\n",
        "    y_pred = [np.max(x) for x in y_pred_list]\n",
        "    y_pred_f = xgb.predict(X_test)\n",
        "    y_pred_f = list(y_pred_f)\n",
        "    output_df = pd.DataFrame(list(zip(y_pred_f, y_pred)), columns=['sentiment','sent_score'])\n",
        "\n",
        "    return output_df\n"
      ]
    },
    {
      "cell_type": "markdown",
      "metadata": {
        "id": "749aoLjAvVxZ"
      },
      "source": [
        "CHURN PREDICTION PART"
      ]
    },
    {
      "cell_type": "code",
      "source": [
        "# --- Load NLP models ---\n",
        "doc2vec_model = Doc2Vec.load('/content/drive/MyDrive/churn_prediction/models/sentimenta_doc2vec_model')\n",
        "tfidf_vectorizer = joblib.load('/content/drive/MyDrive/churn_prediction/models/sentimenta_tfidf_model')\n",
        "xgb_model = joblib.load('/content/drive/MyDrive/churn_prediction/models/sentimenta_xgb_model.pkl')\n"
      ],
      "metadata": {
        "id": "o_F7O2aDrjAh"
      },
      "execution_count": null,
      "outputs": []
    },
    {
      "cell_type": "code",
      "source": [
        "\n",
        "# --- Load data ---\n",
        "df = pd.read_csv('/content/drive/MyDrive/churn_prediction/data/customers/churn_train.csv')\n",
        "df_test = pd.read_csv('/content/drive/MyDrive/churn_prediction/data/customers/churn_test.csv')\n",
        "df = df.rename(columns={\"churn_score\": \"churn_risk_score\", 'content': 'feedback'})\n",
        "df_test = df_test.rename(columns={'content':'feedback'})\n",
        "df['region_category'] = df['region_category'].fillna('Other')\n",
        "df_test['region_category'] = df_test['region_category'].fillna('Other')\n",
        "df['avg_transaction_value'] *= 0.01\n",
        "df_test['avg_transaction_value'] = df_test['avg_transaction_value'].apply(lambda x: x*0.01)# Scale transaction value for better analysis\n"
      ],
      "metadata": {
        "id": "SabPRE9Rrn7p"
      },
      "execution_count": null,
      "outputs": []
    },
    {
      "cell_type": "code",
      "source": [
        "# --- Preprocess sentiment data ---\n",
        "\n",
        "to_sentiment_df = pd.DataFrame(df[['feedback','summary']], columns=['feedback','summary'])\n",
        "to_sentiment_df = to_sentiment_df.rename(columns={'feedback':'content'})\n",
        "to_sentiment_df_test = pd.DataFrame(df_test[['feedback','summary']], columns=['feedback','summary'])\n",
        "to_sentiment_df_test = to_sentiment_df_test.rename(columns={'feedback':'content'})\n",
        "\n",
        "output_sentiment_df = sentiment_feedback(to_sentiment_df, doc2vec_model, tfidf_vectorizer, xgb_model)\n",
        "output_sentiment_df_test = sentiment_feedback(to_sentiment_df_test, doc2vec_model, tfidf_vectorizer, xgb_model)\n",
        "\n",
        "\n",
        "output_sentiment_df.index = df.index\n",
        "output_sentiment_df_test.index = df_test.index\n",
        "df = pd.concat([df,output_sentiment_df], axis=1)\n",
        "df_test = pd.concat([df_test,output_sentiment_df_test], axis=1)\n",
        "\n",
        "df=df.drop('Unnamed: 0', axis=1)\n",
        "df_test=df_test.drop('Unnamed: 0', axis=1)\n",
        "df_test=df_test.drop('sentiments', axis=1)\n"
      ],
      "metadata": {
        "id": "YqjgdOR7r5Ry"
      },
      "execution_count": null,
      "outputs": []
    },
    {
      "cell_type": "code",
      "source": [
        "targetFeature = 'churn_risk_score'"
      ],
      "metadata": {
        "id": "9mqLSTv0yhEe"
      },
      "execution_count": null,
      "outputs": []
    },
    {
      "cell_type": "code",
      "execution_count": null,
      "metadata": {
        "id": "SheaXXzMc_Kw"
      },
      "outputs": [],
      "source": [
        "# --- Separate numerical and categorical features ---\n",
        "def divide_features(df):\n",
        "    \"\"\"Separates numerical and categorical features.\"\"\"\n",
        "    numerical_features = df.select_dtypes(include=[np.number])\n",
        "    categorical_features = df.select_dtypes(include=[object])\n",
        "    return numerical_features, categorical_features\n",
        "\n",
        "num_features, cat_features = divide_features(df)"
      ]
    },
    {
      "cell_type": "code",
      "execution_count": null,
      "metadata": {
        "id": "1h4ZqHl8dWTu"
      },
      "outputs": [],
      "source": [
        "df.drop(['customer_id','Name','security_no','referral_id'],axis=1,inplace=True)\n",
        "df_test.drop(['customer_id','Name','security_no','referral_id'],axis=1,inplace=True)"
      ]
    },
    {
      "cell_type": "code",
      "source": [
        "num_feature, cat_feature = divide_features(df)"
      ],
      "metadata": {
        "id": "i_pdp00tyxvt"
      },
      "execution_count": null,
      "outputs": []
    },
    {
      "cell_type": "code",
      "execution_count": null,
      "metadata": {
        "id": "nZNCrQUkdlPm"
      },
      "outputs": [],
      "source": [
        "cat_feature['avg_frequency_login_days'].replace(['Error'],np.nan,inplace=True)"
      ]
    },
    {
      "cell_type": "code",
      "execution_count": null,
      "metadata": {
        "id": "OTs0IxMadngm"
      },
      "outputs": [],
      "source": [
        "arr = cat_feature['avg_frequency_login_days'].unique()"
      ]
    },
    {
      "cell_type": "code",
      "execution_count": null,
      "metadata": {
        "id": "wTyAZ-6bds1l",
        "colab": {
          "base_uri": "https://localhost:8080/",
          "height": 717
        },
        "outputId": "3649317e-fc60-4031-e05c-c3eb278ee7ec"
      },
      "outputs": [
        {
          "output_type": "execute_result",
          "data": {
            "text/plain": [
              "<Axes: >"
            ]
          },
          "metadata": {},
          "execution_count": 30
        },
        {
          "output_type": "display_data",
          "data": {
            "text/plain": [
              "<Figure size 1200x800 with 1 Axes>"
            ],
            "image/png": "[encoded data removed]"
          },
          "metadata": {}
        }
      ],
      "source": [
        "cat_feature['avg_frequency_login_days'].astype('float64').plot(kind='box')"
      ]
    },
    {
      "cell_type": "code",
      "execution_count": null,
      "metadata": {
        "id": "cqiNYqc0lQRQ"
      },
      "outputs": [],
      "source": [
        "df['avg_frequency_login_days'].replace(['Error'],np.nan,inplace=True)\n",
        "df_test['avg_frequency_login_days'].replace(['Error'],np.nan,inplace=True)"
      ]
    },
    {
      "cell_type": "code",
      "execution_count": null,
      "metadata": {
        "id": "enu-kqQLlQMA"
      },
      "outputs": [],
      "source": [
        "df['avg_frequency_login_days'] = df['avg_frequency_login_days'].astype('float64')\n",
        "df_test['avg_frequency_login_days'] = df_test['avg_frequency_login_days'].astype('float64')"
      ]
    },
    {
      "cell_type": "code",
      "execution_count": null,
      "metadata": {
        "id": "v-DDtXwvlQI3"
      },
      "outputs": [],
      "source": [
        "num_feature,cat_feature = divide_features(df)"
      ]
    },
    {
      "cell_type": "code",
      "execution_count": null,
      "metadata": {
        "id": "2UK6BAaKlP-j"
      },
      "outputs": [],
      "source": [
        "skewed_features = num_feature.apply(lambda x:x.skew()).sort_values(ascending=False)"
      ]
    },
    {
      "cell_type": "code",
      "execution_count": null,
      "metadata": {
        "id": "yT9JMD4slwPS"
      },
      "outputs": [],
      "source": [
        "# Dropping all rows whose 'avg_time_spent' is negative\n",
        "low = df['avg_time_spent'] < 0\n",
        "low = np.where(low)\n",
        "df.drop(low[0],inplace=True)"
      ]
    },
    {
      "cell_type": "code",
      "execution_count": null,
      "metadata": {
        "id": "pLCNuEoYlwLk",
        "colab": {
          "base_uri": "https://localhost:8080/",
          "height": 774
        },
        "outputId": "74f5095b-6f22-4c7d-f282-5aeeba79c934"
      },
      "outputs": [
        {
          "output_type": "execute_result",
          "data": {
            "text/plain": [
              "age                                0\n",
              "gender                             0\n",
              "region_category                    0\n",
              "membership_category                0\n",
              "joining_date                       0\n",
              "joined_through_referral            0\n",
              "preferred_offer_types            273\n",
              "medium_of_operation                0\n",
              "internet_option                    0\n",
              "last_visit_time                    0\n",
              "days_since_last_login              0\n",
              "avg_time_spent                     0\n",
              "avg_transaction_value              0\n",
              "avg_frequency_login_days        3342\n",
              "points_in_wallet                3291\n",
              "used_special_discount              0\n",
              "offer_application_preference       0\n",
              "churn_risk_score                   0\n",
              "feedback                           0\n",
              "summary                            0\n",
              "sentiment                          0\n",
              "sent_score                         0\n",
              "dtype: int64"
            ],
            "text/html": [
              "<div>\n",
              "<style scoped>\n",
              "    .dataframe tbody tr th:only-of-type {\n",
              "        vertical-align: middle;\n",
              "    }\n",
              "\n",
              "    .dataframe tbody tr th {\n",
              "        vertical-align: top;\n",
              "    }\n",
              "\n",
              "    .dataframe thead th {\n",
              "        text-align: right;\n",
              "    }\n",
              "</style>\n",
              "<table border=\"1\" class=\"dataframe\">\n",
              "  <thead>\n",
              "    <tr style=\"text-align: right;\">\n",
              "      <th></th>\n",
              "      <th>0</th>\n",
              "    </tr>\n",
              "  </thead>\n",
              "  <tbody>\n",
              "    <tr>\n",
              "      <th>age</th>\n",
              "      <td>0</td>\n",
              "    </tr>\n",
              "    <tr>\n",
              "      <th>gender</th>\n",
              "      <td>0</td>\n",
              "    </tr>\n",
              "    <tr>\n",
              "      <th>region_category</th>\n",
              "      <td>0</td>\n",
              "    </tr>\n",
              "    <tr>\n",
              "      <th>membership_category</th>\n",
              "      <td>0</td>\n",
              "    </tr>\n",
              "    <tr>\n",
              "      <th>joining_date</th>\n",
              "      <td>0</td>\n",
              "    </tr>\n",
              "    <tr>\n",
              "      <th>joined_through_referral</th>\n",
              "      <td>0</td>\n",
              "    </tr>\n",
              "    <tr>\n",
              "      <th>preferred_offer_types</th>\n",
              "      <td>273</td>\n",
              "    </tr>\n",
              "    <tr>\n",
              "      <th>medium_of_operation</th>\n",
              "      <td>0</td>\n",
              "    </tr>\n",
              "    <tr>\n",
              "      <th>internet_option</th>\n",
              "      <td>0</td>\n",
              "    </tr>\n",
              "    <tr>\n",
              "      <th>last_visit_time</th>\n",
              "      <td>0</td>\n",
              "    </tr>\n",
              "    <tr>\n",
              "      <th>days_since_last_login</th>\n",
              "      <td>0</td>\n",
              "    </tr>\n",
              "    <tr>\n",
              "      <th>avg_time_spent</th>\n",
              "      <td>0</td>\n",
              "    </tr>\n",
              "    <tr>\n",
              "      <th>avg_transaction_value</th>\n",
              "      <td>0</td>\n",
              "    </tr>\n",
              "    <tr>\n",
              "      <th>avg_frequency_login_days</th>\n",
              "      <td>3342</td>\n",
              "    </tr>\n",
              "    <tr>\n",
              "      <th>points_in_wallet</th>\n",
              "      <td>3291</td>\n",
              "    </tr>\n",
              "    <tr>\n",
              "      <th>used_special_discount</th>\n",
              "      <td>0</td>\n",
              "    </tr>\n",
              "    <tr>\n",
              "      <th>offer_application_preference</th>\n",
              "      <td>0</td>\n",
              "    </tr>\n",
              "    <tr>\n",
              "      <th>churn_risk_score</th>\n",
              "      <td>0</td>\n",
              "    </tr>\n",
              "    <tr>\n",
              "      <th>feedback</th>\n",
              "      <td>0</td>\n",
              "    </tr>\n",
              "    <tr>\n",
              "      <th>summary</th>\n",
              "      <td>0</td>\n",
              "    </tr>\n",
              "    <tr>\n",
              "      <th>sentiment</th>\n",
              "      <td>0</td>\n",
              "    </tr>\n",
              "    <tr>\n",
              "      <th>sent_score</th>\n",
              "      <td>0</td>\n",
              "    </tr>\n",
              "  </tbody>\n",
              "</table>\n",
              "</div><br><label><b>dtype:</b> int64</label>"
            ]
          },
          "metadata": {},
          "execution_count": 36
        }
      ],
      "source": [
        "df.isnull().sum()"
      ]
    },
    {
      "cell_type": "code",
      "execution_count": null,
      "metadata": {
        "id": "dmT08vU-lwIM"
      },
      "outputs": [],
      "source": [
        "# Reseting the default index\n",
        "df.index = range(0,df.shape[0])"
      ]
    },
    {
      "cell_type": "code",
      "execution_count": null,
      "metadata": {
        "id": "qtQvMgd9lwFQ"
      },
      "outputs": [],
      "source": [
        "# Dropping all rows whose 'points_in_wallet' is negative\n",
        "l1 = np.where(df['points_in_wallet'] < 0)\n",
        "df.drop(l1[0],inplace=True)\n",
        "df.index = range(0,df.shape[0])"
      ]
    },
    {
      "cell_type": "code",
      "execution_count": null,
      "metadata": {
        "id": "CW7--GOmlwCF"
      },
      "outputs": [],
      "source": [
        "# Dropping all rows whose 'avg_frequency_login_days' is negative\n",
        "l2 = np.where(df['avg_frequency_login_days'] < 0)\n",
        "df.drop(l2[0],inplace=True)\n",
        "df.index = range(0,df.shape[0])"
      ]
    },
    {
      "cell_type": "code",
      "execution_count": null,
      "metadata": {
        "id": "XAeYAAzklv6e"
      },
      "outputs": [],
      "source": [
        "# Dropping all rows whose 'avg_transaction_value' is negative\n",
        "l3 = np.where(df['avg_transaction_value'] < 0)\n",
        "df.drop(l3[0],inplace=True)\n",
        "df.index = range(0,df.shape[0])"
      ]
    },
    {
      "cell_type": "code",
      "execution_count": null,
      "metadata": {
        "id": "IDpDLHDxlvpt"
      },
      "outputs": [],
      "source": [
        "# Dropping all rows whose 'days_since_last_login' is negative\n",
        "l4 = np.where(df['days_since_last_login'] < 0)\n",
        "df.drop(l4[0],inplace=True)\n",
        "df.index = range(0,df.shape[0])"
      ]
    },
    {
      "cell_type": "code",
      "execution_count": null,
      "metadata": {
        "id": "xDUd3_uxmWJb"
      },
      "outputs": [],
      "source": [
        "df.dropna(how='any',inplace=True)"
      ]
    },
    {
      "cell_type": "code",
      "execution_count": null,
      "metadata": {
        "id": "U_w08bdRmV8E"
      },
      "outputs": [],
      "source": [
        "df['joining_date'] = pd.to_datetime(df['joining_date'])\n",
        "df['last_visit_time'] = pd.to_datetime(df['last_visit_time'])\n",
        "\n",
        "df_test['joining_date'] = pd.to_datetime(df_test['joining_date'])\n",
        "df_test['last_visit_time'] = pd.to_datetime(df_test['last_visit_time'])"
      ]
    },
    {
      "cell_type": "code",
      "execution_count": null,
      "metadata": {
        "id": "UAW50iyDmV5k"
      },
      "outputs": [],
      "source": [
        "df['jday'] = df['joining_date'].dt.day\n",
        "df_test['jday'] = df_test['joining_date'].dt.day"
      ]
    },
    {
      "cell_type": "code",
      "execution_count": null,
      "metadata": {
        "id": "Y0dXGDGwmV3C"
      },
      "outputs": [],
      "source": [
        "df['jday'] = df['joining_date'].dt.day\n",
        "df['jmonth'] = df['joining_date'].dt.month\n",
        "df['jweek'] = df['joining_date'].dt.dayofweek\n",
        "df_test['jday'] = df_test['joining_date'].dt.day\n",
        "df_test['jmonth'] = df_test['joining_date'].dt.month\n",
        "df_test['jweek'] = df_test['joining_date'].dt.dayofweek"
      ]
    },
    {
      "cell_type": "code",
      "execution_count": null,
      "metadata": {
        "id": "SS5fDolmmV0H"
      },
      "outputs": [],
      "source": [
        "df['diff'] =  ((df['last_visit_time'] - df['joining_date']).apply(lambda x:str(x).split()[0])).astype('float64')\n",
        "df_test['diff'] =  ((df_test['last_visit_time'] - df_test['joining_date']).apply(lambda x:str(x).split()[0])).astype('float64')"
      ]
    },
    {
      "cell_type": "code",
      "execution_count": null,
      "metadata": {
        "colab": {
          "base_uri": "https://localhost:8080/",
          "height": 304
        },
        "id": "Q0T-yLtk0r_O",
        "outputId": "eecca3a6-9eb3-4f09-f0e1-3e02162cbdc3"
      },
      "outputs": [
        {
          "output_type": "execute_result",
          "data": {
            "text/plain": [
              "churn_risk_score\n",
              " 3    7514\n",
              " 4    7277\n",
              " 5    6999\n",
              " 2    1958\n",
              " 1    1920\n",
              "-1     837\n",
              "Name: count, dtype: int64"
            ],
            "text/html": [
              "<div>\n",
              "<style scoped>\n",
              "    .dataframe tbody tr th:only-of-type {\n",
              "        vertical-align: middle;\n",
              "    }\n",
              "\n",
              "    .dataframe tbody tr th {\n",
              "        vertical-align: top;\n",
              "    }\n",
              "\n",
              "    .dataframe thead th {\n",
              "        text-align: right;\n",
              "    }\n",
              "</style>\n",
              "<table border=\"1\" class=\"dataframe\">\n",
              "  <thead>\n",
              "    <tr style=\"text-align: right;\">\n",
              "      <th></th>\n",
              "      <th>count</th>\n",
              "    </tr>\n",
              "    <tr>\n",
              "      <th>churn_risk_score</th>\n",
              "      <th></th>\n",
              "    </tr>\n",
              "  </thead>\n",
              "  <tbody>\n",
              "    <tr>\n",
              "      <th>3</th>\n",
              "      <td>7514</td>\n",
              "    </tr>\n",
              "    <tr>\n",
              "      <th>4</th>\n",
              "      <td>7277</td>\n",
              "    </tr>\n",
              "    <tr>\n",
              "      <th>5</th>\n",
              "      <td>6999</td>\n",
              "    </tr>\n",
              "    <tr>\n",
              "      <th>2</th>\n",
              "      <td>1958</td>\n",
              "    </tr>\n",
              "    <tr>\n",
              "      <th>1</th>\n",
              "      <td>1920</td>\n",
              "    </tr>\n",
              "    <tr>\n",
              "      <th>-1</th>\n",
              "      <td>837</td>\n",
              "    </tr>\n",
              "  </tbody>\n",
              "</table>\n",
              "</div><br><label><b>dtype:</b> int64</label>"
            ]
          },
          "metadata": {},
          "execution_count": 47
        }
      ],
      "source": [
        "# Clearly target labels are imbalanced. So we'll use Over sampling techinques\n",
        "df['churn_risk_score'].value_counts()"
      ]
    },
    {
      "cell_type": "code",
      "execution_count": null,
      "metadata": {
        "id": "sJTk9TGQmVxe"
      },
      "outputs": [],
      "source": [
        "df.index = range(0,df.shape[0])\n",
        "\n",
        "# Removing all the rows having 'churn_risk_score' == -1\n",
        "l5 = np.where(df['churn_risk_score'] == -1)\n",
        "df.drop(l5[0],inplace=True)\n",
        "df.index = range(0,df.shape[0])"
      ]
    },
    {
      "cell_type": "code",
      "execution_count": null,
      "metadata": {
        "colab": {
          "base_uri": "https://localhost:8080/"
        },
        "id": "9cpk1u_amVue",
        "outputId": "22c69073-423e-48d3-d106-6424df9f2197"
      },
      "outputs": [
        {
          "output_type": "stream",
          "name": "stdout",
          "text": [
            "(19915, 9)\n"
          ]
        }
      ],
      "source": [
        "# Selecting categorical features into a new dataframe\n",
        "sm = ['gender','region_category','membership_category','joined_through_referral',\n",
        "      'preferred_offer_types','medium_of_operation','internet_option','used_special_discount',\n",
        "       'offer_application_preference']\n",
        "df_sm = df[sm]\n",
        "df_test_sm = df_test[sm]\n",
        "print(df_test_sm.shape)"
      ]
    },
    {
      "cell_type": "code",
      "execution_count": null,
      "metadata": {
        "colab": {
          "base_uri": "https://localhost:8080/"
        },
        "id": "cKCuNmTymVq7",
        "outputId": "cd1ebd95-15e0-4736-8613-8710b6ecb09f"
      },
      "outputs": [
        {
          "output_type": "stream",
          "name": "stdout",
          "text": [
            "(19915, 30)\n"
          ]
        }
      ],
      "source": [
        "# Creating dummies for categorical feature columns\n",
        "df_sm = pd.get_dummies(df_sm)\n",
        "df_test_sm = pd.get_dummies(df_test_sm)\n",
        "print(df_test_sm.shape)"
      ]
    },
    {
      "cell_type": "code",
      "execution_count": null,
      "metadata": {
        "colab": {
          "base_uri": "https://localhost:8080/"
        },
        "id": "CnJzagLumVil",
        "outputId": "003b092f-7a16-46db-ff4b-a993142198b7"
      },
      "outputs": [
        {
          "output_type": "stream",
          "name": "stdout",
          "text": [
            "(19915, 12)\n"
          ]
        }
      ],
      "source": [
        "# Selecting Numerical features into a new dataframe\n",
        "\n",
        "ss = ['days_since_last_login','avg_time_spent','avg_transaction_value','avg_frequency_login_days',\n",
        "'points_in_wallet','used_special_discount','sentiment','sent_score','churn_risk_score','jday','jmonth','jweek','diff']\n",
        "df_ss = df[ss]\n",
        "ss_t = ['days_since_last_login','avg_time_spent','avg_transaction_value','avg_frequency_login_days',\n",
        "'points_in_wallet','used_special_discount','sentiment','sent_score','jday','jmonth','jweek','diff']\n",
        "df_test_ss = df_test[ss_t]\n",
        "print(df_test_ss.shape)"
      ]
    },
    {
      "cell_type": "code",
      "execution_count": null,
      "metadata": {
        "id": "FQZCuuejm4Qw"
      },
      "outputs": [],
      "source": [
        "# Concatenating the dummy columns and numerical feature columns into a new dataframe\n",
        "df_new = pd.concat([df_ss,df_sm],axis=1)\n",
        "df_test_new = pd.concat([df_test_ss,df_test_sm],axis=1)"
      ]
    },
    {
      "cell_type": "code",
      "execution_count": null,
      "metadata": {
        "id": "bIK8ZNrbm4NZ"
      },
      "outputs": [],
      "source": [
        "df_new.drop(['used_special_discount'],axis=1,inplace=True)\n",
        "df_test_new.drop(['used_special_discount'],axis=1,inplace=True)"
      ]
    },
    {
      "cell_type": "code",
      "execution_count": null,
      "metadata": {
        "id": "_YsZACERm4KM"
      },
      "outputs": [],
      "source": [
        "df_test_new['avg_frequency_login_days'].fillna(value=df_test_new['avg_frequency_login_days'].mean(),inplace=True)\n",
        "df_test_new['points_in_wallet'].fillna(value=df_test_new['points_in_wallet'].mean(),inplace=True)\n"
      ]
    },
    {
      "cell_type": "code",
      "execution_count": null,
      "metadata": {
        "colab": {
          "base_uri": "https://localhost:8080/"
        },
        "id": "ASaGp1fkRiOG",
        "outputId": "8f8ed8e4-4206-4e17-c980-372c041703a3"
      },
      "outputs": [
        {
          "output_type": "execute_result",
          "data": {
            "text/plain": [
              "(19915, 25)"
            ]
          },
          "metadata": {},
          "execution_count": 55
        }
      ],
      "source": [
        "df_test.shape"
      ]
    },
    {
      "cell_type": "code",
      "execution_count": null,
      "metadata": {
        "id": "37GPzpOum4Ey"
      },
      "outputs": [],
      "source": [
        "df_new.dropna(axis=0,how='any',inplace=True)"
      ]
    },
    {
      "cell_type": "code",
      "execution_count": null,
      "metadata": {
        "id": "Qs_uSe09m380"
      },
      "outputs": [],
      "source": [
        "X = df_new.drop(['churn_risk_score'],axis=1).values\n",
        "Y = df_new['churn_risk_score'].values"
      ]
    },
    {
      "cell_type": "code",
      "execution_count": null,
      "metadata": {
        "colab": {
          "base_uri": "https://localhost:8080/"
        },
        "id": "kB3gwwvMm308",
        "outputId": "657432d4-cb94-4361-aa9e-bf8b3ad6087c"
      },
      "outputs": [
        {
          "output_type": "stream",
          "name": "stdout",
          "text": [
            "The dataset before oversampling:  (25668, 41) (25668,)\n",
            "The dataset after oversampling:  (37570, 41) (37570,)\n"
          ]
        }
      ],
      "source": [
        "# Applying SMOTE Over Sampling Strategy\n",
        "from imblearn.over_sampling import SMOTE\n",
        "oversampler = SMOTE()\n",
        "X_ov,Y_ov = oversampler.fit_resample(X,Y)\n",
        "print('The dataset before oversampling: ',X.shape,Y.shape)\n",
        "print('The dataset after oversampling: ',X_ov.shape,Y_ov.shape)"
      ]
    },
    {
      "cell_type": "code",
      "execution_count": null,
      "metadata": {
        "id": "613pelTgm3rj"
      },
      "outputs": [],
      "source": [
        "from sklearn.preprocessing import RobustScaler\n",
        "scaler = RobustScaler()\n",
        "X_ov = scaler.fit_transform(X_ov)\n",
        "X_test = df_test_new.values\n",
        "X_test = scaler.transform(X_test)"
      ]
    },
    {
      "cell_type": "code",
      "execution_count": null,
      "metadata": {
        "id": "YbffBnQcnd2S"
      },
      "outputs": [],
      "source": [
        "x_train,x_test,y_train,y_test = train_test_split(X_ov,Y_ov,train_size=0.7)"
      ]
    },
    {
      "cell_type": "code",
      "execution_count": null,
      "metadata": {
        "id": "bim5ktXendoR"
      },
      "outputs": [],
      "source": [
        "from sklearn.metrics import classification_report,confusion_matrix,f1_score"
      ]
    },
    {
      "cell_type": "code",
      "execution_count": null,
      "metadata": {
        "id": "D6H4GD_Jziwm",
        "colab": {
          "base_uri": "https://localhost:8080/",
          "height": 726
        },
        "outputId": "7928cfbe-36de-4ede-a3da-1c270d317904"
      },
      "outputs": [
        {
          "output_type": "display_data",
          "data": {
            "text/plain": [
              "<Figure size 1200x800 with 1 Axes>"
            ],
            "image/png": "[encoded data removed]"
          },
          "metadata": {}
        }
      ],
      "source": [
        "from sklearn.ensemble import RandomForestClassifier\n",
        "from sklearn.metrics import classification_report,confusion_matrix,f1_score\n",
        "rf = RandomForestClassifier(n_estimators=1000,max_depth=25)\n",
        "rf.fit(x_train,y_train)\n",
        "importances = rf.feature_importances_\n",
        "indices = np.argsort(importances)[::-1]\n",
        "\n",
        "# Візуалізація важливості ознак\n",
        "plt.figure()\n",
        "plt.title(\"Feature importances\")\n",
        "plt.bar(range(len(importances)), importances[indices], align=\"center\")\n",
        "plt.xticks(range(len(importances)), indices, rotation=90)\n",
        "plt.xlim([-1, len(importances)])\n",
        "plt.show()\n"
      ]
    },
    {
      "cell_type": "code",
      "source": [
        "# Збережіть назви ознак перед масштабуванням\n",
        "feature_names = df_new.drop(['churn_risk_score'], axis=1).columns\n",
        "\n",
        "# Перетворіть x_train та x_test назад у DataFrame з назвами ознак\n",
        "x_train = pd.DataFrame(x_train, columns=feature_names)\n",
        "x_test = pd.DataFrame(x_test, columns=feature_names)"
      ],
      "metadata": {
        "id": "d3NEwyvI3CSY"
      },
      "execution_count": null,
      "outputs": []
    },
    {
      "cell_type": "code",
      "source": [
        "important_features = x_train.columns[indices[:15]]\n",
        "x_train_reduced = x_train[important_features]\n",
        "x_test_reduced = x_test[important_features]\n",
        "\n",
        "rf_reduced = RandomForestClassifier(n_estimators=100, max_depth=10)\n",
        "rf_reduced.fit(x_train_reduced, y_train)\n",
        "y_pred_reduced = rf_reduced.predict(x_test_reduced)\n",
        "print(classification_report(y_true=y_test, y_pred=y_pred_reduced))\n",
        "print(f1_score(y_true=y_test, y_pred=y_pred_reduced, average='macro'))"
      ],
      "metadata": {
        "colab": {
          "base_uri": "https://localhost:8080/"
        },
        "id": "_Q5sJLYbfEdL",
        "outputId": "ac79fc55-b0dd-4056-fb63-805e966a52e4"
      },
      "execution_count": null,
      "outputs": [
        {
          "output_type": "stream",
          "name": "stdout",
          "text": [
            "              precision    recall  f1-score   support\n",
            "\n",
            "           1       0.81      0.85      0.83      2249\n",
            "           2       0.93      0.67      0.78      2224\n",
            "           3       0.72      0.91      0.81      2304\n",
            "           4       0.74      0.77      0.75      2237\n",
            "           5       0.87      0.79      0.83      2257\n",
            "\n",
            "    accuracy                           0.80     11271\n",
            "   macro avg       0.81      0.80      0.80     11271\n",
            "weighted avg       0.81      0.80      0.80     11271\n",
            "\n",
            "0.7983164961356344\n"
          ]
        }
      ]
    },
    {
      "cell_type": "code",
      "source": [
        "y_pred = rf.predict(x_test)\n",
        "print(classification_report(y_true=y_test,y_pred=y_pred))\n",
        "print(f1_score(y_true=y_test,y_pred=y_pred,average='macro'))"
      ],
      "metadata": {
        "id": "hGcSY9XGegh8",
        "colab": {
          "base_uri": "https://localhost:8080/"
        },
        "outputId": "45b61393-ff4f-4d74-b999-8e6540cc2e37"
      },
      "execution_count": null,
      "outputs": [
        {
          "output_type": "stream",
          "name": "stdout",
          "text": [
            "              precision    recall  f1-score   support\n",
            "\n",
            "           1       0.90      0.89      0.90      2249\n",
            "           2       0.95      0.80      0.87      2224\n",
            "           3       0.78      0.93      0.85      2304\n",
            "           4       0.74      0.74      0.74      2237\n",
            "           5       0.84      0.81      0.83      2257\n",
            "\n",
            "    accuracy                           0.84     11271\n",
            "   macro avg       0.84      0.84      0.84     11271\n",
            "weighted avg       0.84      0.84      0.84     11271\n",
            "\n",
            "0.8366993254315191\n"
          ]
        }
      ]
    },
    {
      "cell_type": "code",
      "execution_count": null,
      "metadata": {
        "id": "TqReonvjziBv",
        "colab": {
          "base_uri": "https://localhost:8080/",
          "height": 561
        },
        "outputId": "8f8efcba-5874-438c-a0af-9ddeb356d4ce"
      },
      "outputs": [
        {
          "output_type": "display_data",
          "data": {
            "text/plain": [
              "<Figure size 600x600 with 2 Axes>"
            ],
            "image/png": "[encoded data removed]"
          },
          "metadata": {}
        }
      ],
      "source": [
        "fig = plt.figure(figsize=(6, 6))\n",
        "ax= plt.subplot()\n",
        "cm = confusion_matrix(y_true=y_test,y_pred=y_pred)\n",
        "# cm = confusion_matrix(y_true=y_test,y_pred=y_pred_reduced)\n",
        "sns.heatmap(cm, annot=True, ax = ax, fmt = 'g', cmap = sns.cubehelix_palette(as_cmap=True))\n",
        "ax.set_xlabel('Predicted label')\n",
        "ax.set_ylabel('Actual label')\n",
        "plt.show()"
      ]
    },
    {
      "cell_type": "code",
      "execution_count": null,
      "metadata": {
        "id": "oZeayvo_zLYo",
        "colab": {
          "base_uri": "https://localhost:8080/"
        },
        "outputId": "74a1b944-5f6f-4464-a18c-b48de78e8384"
      },
      "outputs": [
        {
          "output_type": "stream",
          "name": "stdout",
          "text": [
            "              precision    recall  f1-score   support\n",
            "\n",
            "           1       0.88      0.89      0.88      2249\n",
            "           2       0.83      0.85      0.84      2224\n",
            "           3       0.78      0.76      0.77      2304\n",
            "           4       0.69      0.69      0.69      2237\n",
            "           5       0.79      0.79      0.79      2257\n",
            "\n",
            "    accuracy                           0.79     11271\n",
            "   macro avg       0.79      0.79      0.79     11271\n",
            "weighted avg       0.79      0.79      0.79     11271\n",
            "\n",
            "0.7944055608345071\n"
          ]
        }
      ],
      "source": [
        "from sklearn.neural_network import MLPClassifier\n",
        "mlp = MLPClassifier(hidden_layer_sizes=(100,100,100))\n",
        "mlp.fit(x_train,y_train)\n",
        "y_pred = mlp.predict(x_test)\n",
        "print(classification_report(y_true=y_test,y_pred=y_pred))\n",
        "print(f1_score(y_true=y_test,y_pred=y_pred,average='macro'))"
      ]
    },
    {
      "cell_type": "code",
      "execution_count": null,
      "metadata": {
        "id": "PNcm0Q2xzLOg",
        "colab": {
          "base_uri": "https://localhost:8080/",
          "height": 561
        },
        "outputId": "e7427a1a-1a12-4ce8-b223-5aa86d2b1abd"
      },
      "outputs": [
        {
          "output_type": "display_data",
          "data": {
            "text/plain": [
              "<Figure size 600x600 with 2 Axes>"
            ],
            "image/png": "[encoded data removed]"
          },
          "metadata": {}
        }
      ],
      "source": [
        "fig = plt.figure(figsize=(6, 6))\n",
        "ax= plt.subplot()\n",
        "cm = confusion_matrix(y_true=y_test,y_pred=y_pred)\n",
        "sns.heatmap(cm, annot=True, ax = ax, fmt = 'g', cmap = 'crest')\n",
        "ax.set_xlabel('Predicted label')\n",
        "ax.set_ylabel('Actual label')\n",
        "plt.show()"
      ]
    },
    {
      "cell_type": "code",
      "execution_count": null,
      "metadata": {
        "id": "7izG9IRzyHBB",
        "colab": {
          "base_uri": "https://localhost:8080/"
        },
        "outputId": "389c9f82-96f7-4021-db95-3384dde8e43e"
      },
      "outputs": [
        {
          "output_type": "stream",
          "name": "stdout",
          "text": [
            "              precision    recall  f1-score   support\n",
            "\n",
            "           1       0.82      0.83      0.83      2249\n",
            "           2       0.82      0.73      0.77      2224\n",
            "           3       0.78      0.86      0.81      2304\n",
            "           4       0.71      0.78      0.75      2237\n",
            "           5       0.85      0.76      0.80      2257\n",
            "\n",
            "    accuracy                           0.79     11271\n",
            "   macro avg       0.80      0.79      0.79     11271\n",
            "weighted avg       0.80      0.79      0.79     11271\n",
            "\n",
            "0.7928803978829169\n"
          ]
        }
      ],
      "source": [
        "from sklearn.tree import DecisionTreeClassifier\n",
        "tree = DecisionTreeClassifier(criterion='entropy',max_depth=15, min_samples_split=10, min_samples_leaf=12)\n",
        "tree.fit(x_train,y_train)\n",
        "y_pred = tree.predict(x_test)\n",
        "print(classification_report(y_true=y_test,y_pred=y_pred))\n",
        "print(f1_score(y_true=y_test,y_pred=y_pred,average='macro'))"
      ]
    },
    {
      "cell_type": "code",
      "execution_count": null,
      "metadata": {
        "id": "F1FyqOdMyG4S",
        "colab": {
          "base_uri": "https://localhost:8080/",
          "height": 561
        },
        "outputId": "856ffb69-6be2-4bb9-b3ab-3c44b431c082"
      },
      "outputs": [
        {
          "output_type": "display_data",
          "data": {
            "text/plain": [
              "<Figure size 600x600 with 2 Axes>"
            ],
            "image/png": "[encoded data removed]"
          },
          "metadata": {}
        }
      ],
      "source": [
        "fig = plt.figure(figsize=(6, 6))\n",
        "ax= plt.subplot()\n",
        "cm = confusion_matrix(y_true=y_test,y_pred=y_pred)\n",
        "sns.heatmap(cm, annot=True, ax = ax, fmt = 'g')\n",
        "ax.set_xlabel('Predicted label')\n",
        "ax.set_ylabel('Actual label')\n",
        "plt.show()"
      ]
    },
    {
      "cell_type": "code",
      "execution_count": null,
      "metadata": {
        "id": "Q1_e3r1OyGv7",
        "colab": {
          "base_uri": "https://localhost:8080/"
        },
        "outputId": "a533d81d-17c5-4b30-ddab-0d2354239527"
      },
      "outputs": [
        {
          "output_type": "stream",
          "name": "stdout",
          "text": [
            "              precision    recall  f1-score   support\n",
            "\n",
            "           1       0.93      0.91      0.92      2249\n",
            "           2       0.94      0.83      0.89      2224\n",
            "           3       0.82      0.91      0.86      2304\n",
            "           4       0.73      0.78      0.75      2237\n",
            "           5       0.84      0.81      0.82      2257\n",
            "\n",
            "    accuracy                           0.85     11271\n",
            "   macro avg       0.85      0.85      0.85     11271\n",
            "weighted avg       0.85      0.85      0.85     11271\n",
            "\n",
            "0.8484428253157497\n"
          ]
        }
      ],
      "source": [
        "from sklearn.ensemble import GradientBoostingClassifier\n",
        "gbrt = GradientBoostingClassifier(n_estimators=100,max_depth=10,min_samples_leaf = 4, min_samples_split= 5)\n",
        "gbrt.fit(x_train,y_train)\n",
        "y_pred = gbrt.predict(x_test)\n",
        "print(classification_report(y_true=y_test,y_pred=y_pred))\n",
        "print(f1_score(y_true=y_test,y_pred=y_pred,average='macro'))"
      ]
    },
    {
      "cell_type": "code",
      "execution_count": null,
      "metadata": {
        "id": "oLipHJdlyGdy",
        "colab": {
          "base_uri": "https://localhost:8080/",
          "height": 561
        },
        "outputId": "0c21bcf2-4840-4ea4-ae8a-34b0c361b812"
      },
      "outputs": [
        {
          "output_type": "display_data",
          "data": {
            "text/plain": [
              "<Figure size 600x600 with 2 Axes>"
            ],
            "image/png": "[encoded data removed]"
          },
          "metadata": {}
        }
      ],
      "source": [
        "fig = plt.figure(figsize=(6, 6))\n",
        "ax= plt.subplot()\n",
        "cm = confusion_matrix(y_true=y_test,y_pred=y_pred)\n",
        "sns.heatmap(cm, annot=True, ax = ax, fmt = 'g', cmap = 'Greens')\n",
        "ax.set_xlabel('Predicted label')\n",
        "ax.set_ylabel('Actual label')\n",
        "plt.show()"
      ]
    },
    {
      "cell_type": "code",
      "execution_count": null,
      "metadata": {
        "colab": {
          "base_uri": "https://localhost:8080/"
        },
        "id": "C3KJIAwXnde5",
        "outputId": "fd31dd7b-7613-4304-9e0b-4af3839f1369"
      },
      "outputs": [
        {
          "output_type": "stream",
          "name": "stdout",
          "text": [
            "              precision    recall  f1-score   support\n",
            "\n",
            "           1       0.93      0.92      0.93      2249\n",
            "           2       0.95      0.86      0.90      2224\n",
            "           3       0.82      0.90      0.86      2304\n",
            "           4       0.74      0.76      0.75      2237\n",
            "           5       0.83      0.81      0.82      2257\n",
            "\n",
            "    accuracy                           0.85     11271\n",
            "   macro avg       0.86      0.85      0.85     11271\n",
            "weighted avg       0.86      0.85      0.85     11271\n",
            "\n",
            "0.8524101907265749\n"
          ]
        }
      ],
      "source": [
        "from xgboost import XGBClassifier\n",
        "xgb_churn = XGBClassifier(n_jobs=-1,n_estimators=1000,max_depth=10)\n",
        "y_train_adjusted  = y_train - 1\n",
        "xgb_churn.fit(x_train,y_train_adjusted )\n",
        "y_pred = xgb_churn.predict(x_test)\n",
        "y_pred_adjusted  = y_pred + 1\n",
        "print(classification_report(y_true=y_test,y_pred=y_pred_adjusted))\n",
        "print(f1_score(y_true=y_test,y_pred=y_pred_adjusted ,average='macro'))"
      ]
    },
    {
      "cell_type": "code",
      "execution_count": null,
      "metadata": {
        "colab": {
          "base_uri": "https://localhost:8080/",
          "height": 561
        },
        "id": "D4W73uOyndYy",
        "outputId": "97b5b594-ae4f-4810-c3d5-e50e69b8c760"
      },
      "outputs": [
        {
          "output_type": "display_data",
          "data": {
            "text/plain": [
              "<Figure size 600x600 with 2 Axes>"
            ],
            "image/png": "[encoded data removed]"
          },
          "metadata": {}
        }
      ],
      "source": [
        "fig = plt.figure(figsize=(6, 6))\n",
        "ax= plt.subplot()\n",
        "cm = confusion_matrix(y_true=y_test,y_pred=y_pred_adjusted)\n",
        "sns.heatmap(cm, annot=True, ax = ax, fmt = 'g',cmap = 'Wistia')\n",
        "ax.set_xlabel('Predicted label')\n",
        "ax.set_ylabel('Actual label')\n",
        "plt.show()"
      ]
    },
    {
      "cell_type": "code",
      "source": [
        "# Збереження RandomForestClassifier\n",
        "joblib.dump(rf, 'random_forest_model.pkl')\n",
        "\n",
        "# Збереження MLPClassifier\n",
        "joblib.dump(mlp, 'mlp_classifier_model.pkl')\n",
        "\n",
        "# Збереження DecisionTreeClassifier\n",
        "joblib.dump(tree, 'decision_tree_model.pkl')\n",
        "\n",
        "# Збереження GradientBoostingClassifier\n",
        "joblib.dump(gbrt, 'gradient_boosting_model.pkl')\n",
        "\n",
        "# Збереження XGBClassifier\n",
        "joblib.dump(xgb_churn, 'xgboost_classifier_model.pkl')"
      ],
      "metadata": {
        "colab": {
          "base_uri": "https://localhost:8080/"
        },
        "id": "v-9_lJKTJoaD",
        "outputId": "bb95ea2b-c30a-4e83-e9b6-341deb378643"
      },
      "execution_count": null,
      "outputs": [
        {
          "output_type": "execute_result",
          "data": {
            "text/plain": [
              "['xgboost_classifier_model.pkl']"
            ]
          },
          "metadata": {},
          "execution_count": 79
        }
      ]
    },
    {
      "cell_type": "code",
      "execution_count": null,
      "metadata": {
        "id": "GxDHb6uQyfEA"
      },
      "outputs": [],
      "source": [
        "class MixModel(skb.BaseEstimator, skb.RegressorMixin, skb.TransformerMixin):\n",
        "\n",
        "    def __init__(self, algs):\n",
        "        self.algs = algs\n",
        "\n",
        "    def fit(self, X, y):\n",
        "        self.algs_ = [skb.clone(x) for x in self.algs]\n",
        "\n",
        "\n",
        "        for alg in self.algs_:\n",
        "            alg.fit(X, y)\n",
        "\n",
        "        return self\n",
        "\n",
        "\n",
        "    def predict(self, X):\n",
        "        predictions = np.column_stack([\n",
        "            stacked_model.predict(X) for stacked_model in self.algs_\n",
        "        ])\n",
        "        return (np.mean(predictions, axis=1)).astype('int64')"
      ]
    },
    {
      "cell_type": "code",
      "execution_count": null,
      "metadata": {
        "id": "lzTMGRowyI6B",
        "colab": {
          "base_uri": "https://localhost:8080/",
          "height": 257
        },
        "outputId": "0060adaf-073a-451c-c246-ea4268ce767e"
      },
      "outputs": [
        {
          "output_type": "execute_result",
          "data": {
            "text/plain": [
              "MixModel(algs=[XGBClassifier(base_score=None, booster=None, callbacks=None,\n",
              "                             colsample_bylevel=None, colsample_bynode=None,\n",
              "                             colsample_bytree=None, device=None,\n",
              "                             early_stopping_rounds=None,\n",
              "                             enable_categorical=False, eval_metric=None,\n",
              "                             feature_types=None, gamma=None, grow_policy=None,\n",
              "                             importance_type=None, interaction_constraints=None,\n",
              "                             learning_rate=None, max_bin=None,\n",
              "                             max_cat_threshold=None, max_cat_to_onehot=None,\n",
              "                             max_delta_step=None, max_depth=10, max_leaves=None,\n",
              "                             min_child_weight=None, missing=nan,\n",
              "                             monotone_constraints=None, multi_strategy=None,\n",
              "                             n_estimators=1000, n_jobs=-1,\n",
              "                             num_parallel_tree=None, objective='multi:softprob', ...),\n",
              "               RandomForestClassifier(max_depth=25, n_estimators=1000),\n",
              "               GradientBoostingClassifier(max_depth=10, min_samples_leaf=4,\n",
              "                                          min_samples_split=5)])"
            ],
            "text/html": [
              "<style>#sk-container-id-1 {\n",
              "  /* Definition of color scheme common for light and dark mode */\n",
              "  --sklearn-color-text: black;\n",
              "  --sklearn-color-line: gray;\n",
              "  /* Definition of color scheme for unfitted estimators */\n",
              "  --sklearn-color-unfitted-level-0: #fff5e6;\n",
              "  --sklearn-color-unfitted-level-1: #f6e4d2;\n",
              "  --sklearn-color-unfitted-level-2: #ffe0b3;\n",
              "  --sklearn-color-unfitted-level-3: chocolate;\n",
              "  /* Definition of color scheme for fitted estimators */\n",
              "  --sklearn-color-fitted-level-0: #f0f8ff;\n",
              "  --sklearn-color-fitted-level-1: #d4ebff;\n",
              "  --sklearn-color-fitted-level-2: #b3dbfd;\n",
              "  --sklearn-color-fitted-level-3: cornflowerblue;\n",
              "\n",
              "  /* Specific color for light theme */\n",
              "  --sklearn-color-text-on-default-background: var(--sg-text-color, var(--theme-code-foreground, var(--jp-content-font-color1, black)));\n",
              "  --sklearn-color-background: var(--sg-background-color, var(--theme-background, var(--jp-layout-color0, white)));\n",
              "  --sklearn-color-border-box: var(--sg-text-color, var(--theme-code-foreground, var(--jp-content-font-color1, black)));\n",
              "  --sklearn-color-icon: #696969;\n",
              "\n",
              "  @media (prefers-color-scheme: dark) {\n",
              "    /* Redefinition of color scheme for dark theme */\n",
              "    --sklearn-color-text-on-default-background: var(--sg-text-color, var(--theme-code-foreground, var(--jp-content-font-color1, white)));\n",
              "    --sklearn-color-background: var(--sg-background-color, var(--theme-background, var(--jp-layout-color0, #111)));\n",
              "    --sklearn-color-border-box: var(--sg-text-color, var(--theme-code-foreground, var(--jp-content-font-color1, white)));\n",
              "    --sklearn-color-icon: #878787;\n",
              "  }\n",
              "}\n",
              "\n",
              "#sk-container-id-1 {\n",
              "  color: var(--sklearn-color-text);\n",
              "}\n",
              "\n",
              "#sk-container-id-1 pre {\n",
              "  padding: 0;\n",
              "}\n",
              "\n",
              "#sk-container-id-1 input.sk-hidden--visually {\n",
              "  border: 0;\n",
              "  clip: rect(1px 1px 1px 1px);\n",
              "  clip: rect(1px, 1px, 1px, 1px);\n",
              "  height: 1px;\n",
              "  margin: -1px;\n",
              "  overflow: hidden;\n",
              "  padding: 0;\n",
              "  position: absolute;\n",
              "  width: 1px;\n",
              "}\n",
              "\n",
              "#sk-container-id-1 div.sk-dashed-wrapped {\n",
              "  border: 1px dashed var(--sklearn-color-line);\n",
              "  margin: 0 0.4em 0.5em 0.4em;\n",
              "  box-sizing: border-box;\n",
              "  padding-bottom: 0.4em;\n",
              "  background-color: var(--sklearn-color-background);\n",
              "}\n",
              "\n",
              "#sk-container-id-1 div.sk-container {\n",
              "  /* jupyter's `normalize.less` sets `[hidden] { display: none; }`\n",
              "     but bootstrap.min.css set `[hidden] { display: none !important; }`\n",
              "     so we also need the `!important` here to be able to override the\n",
              "     default hidden behavior on the sphinx rendered scikit-learn.org.\n",
              "     See: https://github.com/scikit-learn/scikit-learn/issues/21755 */\n",
              "  display: inline-block !important;\n",
              "  position: relative;\n",
              "}\n",
              "\n",
              "#sk-container-id-1 div.sk-text-repr-fallback {\n",
              "  display: none;\n",
              "}\n",
              "\n",
              "div.sk-parallel-item,\n",
              "div.sk-serial,\n",
              "div.sk-item {\n",
              "  /* draw centered vertical line to link estimators */\n",
              "  background-image: linear-gradient(var(--sklearn-color-text-on-default-background), var(--sklearn-color-text-on-default-background));\n",
              "  background-size: 2px 100%;\n",
              "  background-repeat: no-repeat;\n",
              "  background-position: center center;\n",
              "}\n",
              "\n",
              "/* Parallel-specific style estimator block */\n",
              "\n",
              "#sk-container-id-1 div.sk-parallel-item::after {\n",
              "  content: \"\";\n",
              "  width: 100%;\n",
              "  border-bottom: 2px solid var(--sklearn-color-text-on-default-background);\n",
              "  flex-grow: 1;\n",
              "}\n",
              "\n",
              "#sk-container-id-1 div.sk-parallel {\n",
              "  display: flex;\n",
              "  align-items: stretch;\n",
              "  justify-content: center;\n",
              "  background-color: var(--sklearn-color-background);\n",
              "  position: relative;\n",
              "}\n",
              "\n",
              "#sk-container-id-1 div.sk-parallel-item {\n",
              "  display: flex;\n",
              "  flex-direction: column;\n",
              "}\n",
              "\n",
              "#sk-container-id-1 div.sk-parallel-item:first-child::after {\n",
              "  align-self: flex-end;\n",
              "  width: 50%;\n",
              "}\n",
              "\n",
              "#sk-container-id-1 div.sk-parallel-item:last-child::after {\n",
              "  align-self: flex-start;\n",
              "  width: 50%;\n",
              "}\n",
              "\n",
              "#sk-container-id-1 div.sk-parallel-item:only-child::after {\n",
              "  width: 0;\n",
              "}\n",
              "\n",
              "/* Serial-specific style estimator block */\n",
              "\n",
              "#sk-container-id-1 div.sk-serial {\n",
              "  display: flex;\n",
              "  flex-direction: column;\n",
              "  align-items: center;\n",
              "  background-color: var(--sklearn-color-background);\n",
              "  padding-right: 1em;\n",
              "  padding-left: 1em;\n",
              "}\n",
              "\n",
              "\n",
              "/* Toggleable style: style used for estimator/Pipeline/ColumnTransformer box that is\n",
              "clickable and can be expanded/collapsed.\n",
              "- Pipeline and ColumnTransformer use this feature and define the default style\n",
              "- Estimators will overwrite some part of the style using the `sk-estimator` class\n",
              "*/\n",
              "\n",
              "/* Pipeline and ColumnTransformer style (default) */\n",
              "\n",
              "#sk-container-id-1 div.sk-toggleable {\n",
              "  /* Default theme specific background. It is overwritten whether we have a\n",
              "  specific estimator or a Pipeline/ColumnTransformer */\n",
              "  background-color: var(--sklearn-color-background);\n",
              "}\n",
              "\n",
              "/* Toggleable label */\n",
              "#sk-container-id-1 label.sk-toggleable__label {\n",
              "  cursor: pointer;\n",
              "  display: block;\n",
              "  width: 100%;\n",
              "  margin-bottom: 0;\n",
              "  padding: 0.5em;\n",
              "  box-sizing: border-box;\n",
              "  text-align: center;\n",
              "}\n",
              "\n",
              "#sk-container-id-1 label.sk-toggleable__label-arrow:before {\n",
              "  /* Arrow on the left of the label */\n",
              "  content: \"▸\";\n",
              "  float: left;\n",
              "  margin-right: 0.25em;\n",
              "  color: var(--sklearn-color-icon);\n",
              "}\n",
              "\n",
              "#sk-container-id-1 label.sk-toggleable__label-arrow:hover:before {\n",
              "  color: var(--sklearn-color-text);\n",
              "}\n",
              "\n",
              "/* Toggleable content - dropdown */\n",
              "\n",
              "#sk-container-id-1 div.sk-toggleable__content {\n",
              "  max-height: 0;\n",
              "  max-width: 0;\n",
              "  overflow: hidden;\n",
              "  text-align: left;\n",
              "  /* unfitted */\n",
              "  background-color: var(--sklearn-color-unfitted-level-0);\n",
              "}\n",
              "\n",
              "#sk-container-id-1 div.sk-toggleable__content.fitted {\n",
              "  /* fitted */\n",
              "  background-color: var(--sklearn-color-fitted-level-0);\n",
              "}\n",
              "\n",
              "#sk-container-id-1 div.sk-toggleable__content pre {\n",
              "  margin: 0.2em;\n",
              "  border-radius: 0.25em;\n",
              "  color: var(--sklearn-color-text);\n",
              "  /* unfitted */\n",
              "  background-color: var(--sklearn-color-unfitted-level-0);\n",
              "}\n",
              "\n",
              "#sk-container-id-1 div.sk-toggleable__content.fitted pre {\n",
              "  /* unfitted */\n",
              "  background-color: var(--sklearn-color-fitted-level-0);\n",
              "}\n",
              "\n",
              "#sk-container-id-1 input.sk-toggleable__control:checked~div.sk-toggleable__content {\n",
              "  /* Expand drop-down */\n",
              "  max-height: 200px;\n",
              "  max-width: 100%;\n",
              "  overflow: auto;\n",
              "}\n",
              "\n",
              "#sk-container-id-1 input.sk-toggleable__control:checked~label.sk-toggleable__label-arrow:before {\n",
              "  content: \"▾\";\n",
              "}\n",
              "\n",
              "/* Pipeline/ColumnTransformer-specific style */\n",
              "\n",
              "#sk-container-id-1 div.sk-label input.sk-toggleable__control:checked~label.sk-toggleable__label {\n",
              "  color: var(--sklearn-color-text);\n",
              "  background-color: var(--sklearn-color-unfitted-level-2);\n",
              "}\n",
              "\n",
              "#sk-container-id-1 div.sk-label.fitted input.sk-toggleable__control:checked~label.sk-toggleable__label {\n",
              "  background-color: var(--sklearn-color-fitted-level-2);\n",
              "}\n",
              "\n",
              "/* Estimator-specific style */\n",
              "\n",
              "/* Colorize estimator box */\n",
              "#sk-container-id-1 div.sk-estimator input.sk-toggleable__control:checked~label.sk-toggleable__label {\n",
              "  /* unfitted */\n",
              "  background-color: var(--sklearn-color-unfitted-level-2);\n",
              "}\n",
              "\n",
              "#sk-container-id-1 div.sk-estimator.fitted input.sk-toggleable__control:checked~label.sk-toggleable__label {\n",
              "  /* fitted */\n",
              "  background-color: var(--sklearn-color-fitted-level-2);\n",
              "}\n",
              "\n",
              "#sk-container-id-1 div.sk-label label.sk-toggleable__label,\n",
              "#sk-container-id-1 div.sk-label label {\n",
              "  /* The background is the default theme color */\n",
              "  color: var(--sklearn-color-text-on-default-background);\n",
              "}\n",
              "\n",
              "/* On hover, darken the color of the background */\n",
              "#sk-container-id-1 div.sk-label:hover label.sk-toggleable__label {\n",
              "  color: var(--sklearn-color-text);\n",
              "  background-color: var(--sklearn-color-unfitted-level-2);\n",
              "}\n",
              "\n",
              "/* Label box, darken color on hover, fitted */\n",
              "#sk-container-id-1 div.sk-label.fitted:hover label.sk-toggleable__label.fitted {\n",
              "  color: var(--sklearn-color-text);\n",
              "  background-color: var(--sklearn-color-fitted-level-2);\n",
              "}\n",
              "\n",
              "/* Estimator label */\n",
              "\n",
              "#sk-container-id-1 div.sk-label label {\n",
              "  font-family: monospace;\n",
              "  font-weight: bold;\n",
              "  display: inline-block;\n",
              "  line-height: 1.2em;\n",
              "}\n",
              "\n",
              "#sk-container-id-1 div.sk-label-container {\n",
              "  text-align: center;\n",
              "}\n",
              "\n",
              "/* Estimator-specific */\n",
              "#sk-container-id-1 div.sk-estimator {\n",
              "  font-family: monospace;\n",
              "  border: 1px dotted var(--sklearn-color-border-box);\n",
              "  border-radius: 0.25em;\n",
              "  box-sizing: border-box;\n",
              "  margin-bottom: 0.5em;\n",
              "  /* unfitted */\n",
              "  background-color: var(--sklearn-color-unfitted-level-0);\n",
              "}\n",
              "\n",
              "#sk-container-id-1 div.sk-estimator.fitted {\n",
              "  /* fitted */\n",
              "  background-color: var(--sklearn-color-fitted-level-0);\n",
              "}\n",
              "\n",
              "/* on hover */\n",
              "#sk-container-id-1 div.sk-estimator:hover {\n",
              "  /* unfitted */\n",
              "  background-color: var(--sklearn-color-unfitted-level-2);\n",
              "}\n",
              "\n",
              "#sk-container-id-1 div.sk-estimator.fitted:hover {\n",
              "  /* fitted */\n",
              "  background-color: var(--sklearn-color-fitted-level-2);\n",
              "}\n",
              "\n",
              "/* Specification for estimator info (e.g. \"i\" and \"?\") */\n",
              "\n",
              "/* Common style for \"i\" and \"?\" */\n",
              "\n",
              ".sk-estimator-doc-link,\n",
              "a:link.sk-estimator-doc-link,\n",
              "a:visited.sk-estimator-doc-link {\n",
              "  float: right;\n",
              "  font-size: smaller;\n",
              "  line-height: 1em;\n",
              "  font-family: monospace;\n",
              "  background-color: var(--sklearn-color-background);\n",
              "  border-radius: 1em;\n",
              "  height: 1em;\n",
              "  width: 1em;\n",
              "  text-decoration: none !important;\n",
              "  margin-left: 1ex;\n",
              "  /* unfitted */\n",
              "  border: var(--sklearn-color-unfitted-level-1) 1pt solid;\n",
              "  color: var(--sklearn-color-unfitted-level-1);\n",
              "}\n",
              "\n",
              ".sk-estimator-doc-link.fitted,\n",
              "a:link.sk-estimator-doc-link.fitted,\n",
              "a:visited.sk-estimator-doc-link.fitted {\n",
              "  /* fitted */\n",
              "  border: var(--sklearn-color-fitted-level-1) 1pt solid;\n",
              "  color: var(--sklearn-color-fitted-level-1);\n",
              "}\n",
              "\n",
              "/* On hover */\n",
              "div.sk-estimator:hover .sk-estimator-doc-link:hover,\n",
              ".sk-estimator-doc-link:hover,\n",
              "div.sk-label-container:hover .sk-estimator-doc-link:hover,\n",
              ".sk-estimator-doc-link:hover {\n",
              "  /* unfitted */\n",
              "  background-color: var(--sklearn-color-unfitted-level-3);\n",
              "  color: var(--sklearn-color-background);\n",
              "  text-decoration: none;\n",
              "}\n",
              "\n",
              "div.sk-estimator.fitted:hover .sk-estimator-doc-link.fitted:hover,\n",
              ".sk-estimator-doc-link.fitted:hover,\n",
              "div.sk-label-container:hover .sk-estimator-doc-link.fitted:hover,\n",
              ".sk-estimator-doc-link.fitted:hover {\n",
              "  /* fitted */\n",
              "  background-color: var(--sklearn-color-fitted-level-3);\n",
              "  color: var(--sklearn-color-background);\n",
              "  text-decoration: none;\n",
              "}\n",
              "\n",
              "/* Span, style for the box shown on hovering the info icon */\n",
              ".sk-estimator-doc-link span {\n",
              "  display: none;\n",
              "  z-index: 9999;\n",
              "  position: relative;\n",
              "  font-weight: normal;\n",
              "  right: .2ex;\n",
              "  padding: .5ex;\n",
              "  margin: .5ex;\n",
              "  width: min-content;\n",
              "  min-width: 20ex;\n",
              "  max-width: 50ex;\n",
              "  color: var(--sklearn-color-text);\n",
              "  box-shadow: 2pt 2pt 4pt #999;\n",
              "  /* unfitted */\n",
              "  background: var(--sklearn-color-unfitted-level-0);\n",
              "  border: .5pt solid var(--sklearn-color-unfitted-level-3);\n",
              "}\n",
              "\n",
              ".sk-estimator-doc-link.fitted span {\n",
              "  /* fitted */\n",
              "  background: var(--sklearn-color-fitted-level-0);\n",
              "  border: var(--sklearn-color-fitted-level-3);\n",
              "}\n",
              "\n",
              ".sk-estimator-doc-link:hover span {\n",
              "  display: block;\n",
              "}\n",
              "\n",
              "/* \"?\"-specific style due to the `<a>` HTML tag */\n",
              "\n",
              "#sk-container-id-1 a.estimator_doc_link {\n",
              "  float: right;\n",
              "  font-size: 1rem;\n",
              "  line-height: 1em;\n",
              "  font-family: monospace;\n",
              "  background-color: var(--sklearn-color-background);\n",
              "  border-radius: 1rem;\n",
              "  height: 1rem;\n",
              "  width: 1rem;\n",
              "  text-decoration: none;\n",
              "  /* unfitted */\n",
              "  color: var(--sklearn-color-unfitted-level-1);\n",
              "  border: var(--sklearn-color-unfitted-level-1) 1pt solid;\n",
              "}\n",
              "\n",
              "#sk-container-id-1 a.estimator_doc_link.fitted {\n",
              "  /* fitted */\n",
              "  border: var(--sklearn-color-fitted-level-1) 1pt solid;\n",
              "  color: var(--sklearn-color-fitted-level-1);\n",
              "}\n",
              "\n",
              "/* On hover */\n",
              "#sk-container-id-1 a.estimator_doc_link:hover {\n",
              "  /* unfitted */\n",
              "  background-color: var(--sklearn-color-unfitted-level-3);\n",
              "  color: var(--sklearn-color-background);\n",
              "  text-decoration: none;\n",
              "}\n",
              "\n",
              "#sk-container-id-1 a.estimator_doc_link.fitted:hover {\n",
              "  /* fitted */\n",
              "  background-color: var(--sklearn-color-fitted-level-3);\n",
              "}\n",
              "</style><div id=\"sk-container-id-1\" class=\"sk-top-container\"><div class=\"sk-text-repr-fallback\"><pre>MixModel(algs=[XGBClassifier(base_score=None, booster=None, callbacks=None,\n",
              "                             colsample_bylevel=None, colsample_bynode=None,\n",
              "                             colsample_bytree=None, device=None,\n",
              "                             early_stopping_rounds=None,\n",
              "                             enable_categorical=False, eval_metric=None,\n",
              "                             feature_types=None, gamma=None, grow_policy=None,\n",
              "                             importance_type=None, interaction_constraints=None,\n",
              "                             learning_rate=None, max_bin=None,\n",
              "                             max_cat_threshold=None, max_cat_to_onehot=None,\n",
              "                             max_delta_step=None, max_depth=10, max_leaves=None,\n",
              "                             min_child_weight=None, missing=nan,\n",
              "                             monotone_constraints=None, multi_strategy=None,\n",
              "                             n_estimators=1000, n_jobs=-1,\n",
              "                             num_parallel_tree=None, objective=&#x27;multi:softprob&#x27;, ...),\n",
              "               RandomForestClassifier(max_depth=25, n_estimators=1000),\n",
              "               GradientBoostingClassifier(max_depth=10, min_samples_leaf=4,\n",
              "                                          min_samples_split=5)])</pre><b>In a Jupyter environment, please rerun this cell to show the HTML representation or trust the notebook. <br />On GitHub, the HTML representation is unable to render, please try loading this page with nbviewer.org.</b></div><div class=\"sk-container\" hidden><div class=\"sk-item\"><div class=\"sk-estimator fitted sk-toggleable\"><input class=\"sk-toggleable__control sk-hidden--visually\" id=\"sk-estimator-id-1\" type=\"checkbox\" checked><label for=\"sk-estimator-id-1\" class=\"sk-toggleable__label fitted sk-toggleable__label-arrow fitted\">&nbsp;MixModel<span class=\"sk-estimator-doc-link fitted\">i<span>Fitted</span></span></label><div class=\"sk-toggleable__content fitted\"><pre>MixModel(algs=[XGBClassifier(base_score=None, booster=None, callbacks=None,\n",
              "                             colsample_bylevel=None, colsample_bynode=None,\n",
              "                             colsample_bytree=None, device=None,\n",
              "                             early_stopping_rounds=None,\n",
              "                             enable_categorical=False, eval_metric=None,\n",
              "                             feature_types=None, gamma=None, grow_policy=None,\n",
              "                             importance_type=None, interaction_constraints=None,\n",
              "                             learning_rate=None, max_bin=None,\n",
              "                             max_cat_threshold=None, max_cat_to_onehot=None,\n",
              "                             max_delta_step=None, max_depth=10, max_leaves=None,\n",
              "                             min_child_weight=None, missing=nan,\n",
              "                             monotone_constraints=None, multi_strategy=None,\n",
              "                             n_estimators=1000, n_jobs=-1,\n",
              "                             num_parallel_tree=None, objective=&#x27;multi:softprob&#x27;, ...),\n",
              "               RandomForestClassifier(max_depth=25, n_estimators=1000),\n",
              "               GradientBoostingClassifier(max_depth=10, min_samples_leaf=4,\n",
              "                                          min_samples_split=5)])</pre></div> </div></div></div></div>"
            ]
          },
          "metadata": {},
          "execution_count": 83
        }
      ],
      "source": [
        "mixed_model = MixModel(algs = [xgb_churn,rf,gbrt])\n",
        "y_train_adjusted  = y_train - 1\n",
        "mixed_model.fit(x_train, y_train_adjusted)\n"
      ]
    },
    {
      "cell_type": "code",
      "execution_count": null,
      "metadata": {
        "id": "J3CFcKklyZnB",
        "colab": {
          "base_uri": "https://localhost:8080/"
        },
        "outputId": "73a793ce-8734-4a7c-a81b-810e8ac4c43d"
      },
      "outputs": [
        {
          "output_type": "stream",
          "name": "stdout",
          "text": [
            "              precision    recall  f1-score   support\n",
            "\n",
            "           1       0.89      0.93      0.91      2249\n",
            "           2       0.93      0.79      0.86      2224\n",
            "           3       0.79      0.94      0.86      2304\n",
            "           4       0.73      0.79      0.76      2237\n",
            "           5       0.90      0.74      0.81      2257\n",
            "\n",
            "    accuracy                           0.84     11271\n",
            "   macro avg       0.85      0.84      0.84     11271\n",
            "weighted avg       0.85      0.84      0.84     11271\n",
            "\n",
            "0.8395896951860327\n"
          ]
        }
      ],
      "source": [
        "y_pred = mixed_model.predict(x_test)\n",
        "y_pred_adjusted  = y_pred + 1\n",
        "print(classification_report(y_true=y_test,y_pred=y_pred_adjusted))\n",
        "print(f1_score(y_true=y_test,y_pred=y_pred_adjusted,average='macro'))"
      ]
    },
    {
      "cell_type": "code",
      "execution_count": null,
      "metadata": {
        "id": "7njS8vJrypNR",
        "colab": {
          "base_uri": "https://localhost:8080/",
          "height": 561
        },
        "outputId": "0b74aa73-1454-41d4-f95d-54432cd00717"
      },
      "outputs": [
        {
          "output_type": "display_data",
          "data": {
            "text/plain": [
              "<Figure size 600x600 with 2 Axes>"
            ],
            "image/png": "[encoded data removed]"
          },
          "metadata": {}
        }
      ],
      "source": [
        "fig = plt.figure(figsize=(6, 6))\n",
        "ax= plt.subplot()\n",
        "cm = confusion_matrix(y_true=y_test,y_pred=y_pred)\n",
        "sns.heatmap(cm, annot=True, ax = ax, fmt = 'g', cmap = 'Greys')\n",
        "ax.set_xlabel('Predicted label')\n",
        "ax.set_ylabel('Actual label')\n",
        "plt.show()"
      ]
    },
    {
      "cell_type": "code",
      "source": [
        "# Збереження XGBClassifier\n",
        "joblib.dump(mixed_model, 'mixed_model.pkl')"
      ],
      "metadata": {
        "colab": {
          "base_uri": "https://localhost:8080/"
        },
        "id": "dNyOE_9qC_9C",
        "outputId": "dbfe55ae-bc1b-483a-b93f-eb6b7e1a4302"
      },
      "execution_count": null,
      "outputs": [
        {
          "output_type": "execute_result",
          "data": {
            "text/plain": [
              "['mixed_model.pkl']"
            ]
          },
          "metadata": {},
          "execution_count": 107
        }
      ]
    },
    {
      "cell_type": "code",
      "execution_count": null,
      "metadata": {
        "id": "r7XV6eogndSL"
      },
      "outputs": [],
      "source": [
        "def preload_for_test(curr_df):\n",
        "\n",
        "  curr_df.drop(['customer_id', 'Name', 'security_no', 'referral_id'], axis=1, inplace=True)\n",
        "  curr_df['avg_frequency_login_days'].replace(['Error'], np.nan, inplace=True)\n",
        "  curr_df['avg_frequency_login_days'] = curr_df['avg_frequency_login_days'].astype('float64')\n",
        "\n",
        "\n",
        "  curr_df['joining_date'] = pd.to_datetime(curr_df['joining_date'])\n",
        "  curr_df['last_visit_time'] = pd.to_datetime(curr_df['last_visit_time'])\n",
        "\n",
        "  curr_df['jday'] = curr_df['joining_date'].dt.day\n",
        "\n",
        "\n",
        "  curr_df['jday'] = curr_df['joining_date'].dt.day\n",
        "  curr_df['jmonth'] = curr_df['joining_date'].dt.month\n",
        "  curr_df['jweek'] = curr_df['joining_date'].dt.dayofweek\n",
        "  curr_df['diff'] = ((curr_df['last_visit_time'] - curr_df['joining_date']).apply(lambda x: str(x).split()[0])).astype('float64')\n",
        "\n",
        "\n",
        "\n",
        "  sm = ['gender','region_category','membership_category','joined_through_referral',\n",
        "      'preferred_offer_types','medium_of_operation','internet_option','used_special_discount',\n",
        "       'offer_application_preference']\n",
        "  df_sm = df[sm]\n",
        "  curr_df_sm = curr_df[sm]\n",
        "\n",
        "  df_sm = pd.get_dummies(df_sm)\n",
        "  curr_df_sm = pd.get_dummies(curr_df_sm)\n",
        "\n",
        "  ss = ['days_since_last_login', 'avg_time_spent', 'avg_transaction_value', 'avg_frequency_login_days',\n",
        "          'points_in_wallet', 'used_special_discount', 'churn_risk_score','sentiment', 'sent_score', 'jday', 'jmonth', 'jweek', 'diff']\n",
        "  df_ss = df[ss]\n",
        "  ss_t = ['days_since_last_login', 'avg_time_spent', 'avg_transaction_value', 'avg_frequency_login_days',\n",
        "            'points_in_wallet', 'used_special_discount','sentiment', 'sent_score', 'jday', 'jmonth', 'jweek', 'diff']\n",
        "\n",
        "  curr_df_ss = curr_df[ss_t]\n",
        "  print(curr_df_ss.shape)\n",
        "  # Concatenating the dummy columns and numerical feature columns into a new dataframe\n",
        "  df_new = pd.concat([df_ss, df_sm], axis=1)\n",
        "  print(df_new.shape)\n",
        "  curr_df_new = pd.concat([curr_df_ss, curr_df_sm], axis=1)\n",
        "\n",
        "  curr_df_new.drop(['used_special_discount'], axis=1, inplace=True)\n",
        "\n",
        "  curr_df_new['avg_frequency_login_days'].fillna(value=curr_df_new['avg_frequency_login_days'].mean(), inplace=True)\n",
        "  curr_df_new['points_in_wallet'].fillna(value=curr_df_new['points_in_wallet'].mean(), inplace=True)\n",
        "  missing_columns = []\n",
        "  for element in df_test_new.columns:\n",
        "    if element not in curr_df_new.columns:\n",
        "      missing_columns.append(element)\n",
        "  losted_sun = pd.DataFrame(columns=missing_columns)\n",
        "\n",
        "  curr_df_new = pd.concat([curr_df_new,losted_sun],axis=1)\n",
        "  losted_sun = curr_df_new[missing_columns]\n",
        "  curr_df_new = curr_df_new.drop(missing_columns, axis=1)\n",
        "  losted_sun.fillna(value=np.uint8(0), inplace=True)\n",
        "  losted_sun.index = curr_df_new.index\n",
        "  curr_df_new = pd.concat([curr_df_new,losted_sun],axis=1)\n",
        "\n",
        "  output_array = curr_df_new.values\n",
        "  output_array = scaler.transform(output_array)\n",
        "\n",
        "\n",
        "  return output_array"
      ]
    },
    {
      "cell_type": "code",
      "execution_count": null,
      "metadata": {
        "id": "7CK1GctGna-e"
      },
      "outputs": [],
      "source": [
        "df_demo = pd.read_csv('/content/drive/MyDrive/churn_prediction/data/customers/churn_test.csv')\n",
        "df_demo = df_demo.iloc[:20]\n",
        "df_demo = df_demo.rename(columns={'content':'feedback'})\n",
        "df_demo['region_category'] = df_demo['region_category'].fillna('Other')\n",
        "df_demo['avg_transaction_value'] = df_demo['avg_transaction_value'].apply(lambda x: x*0.01)\n",
        "to_sentiment_df_demo = pd.DataFrame(df_demo[['feedback','summary']], columns=['feedback','summary'])\n",
        "to_sentiment_df_demo = to_sentiment_df_demo.rename(columns={'feedback':'content'})"
      ]
    },
    {
      "cell_type": "code",
      "execution_count": null,
      "metadata": {
        "id": "dvi4ihJFn4Ps"
      },
      "outputs": [],
      "source": [
        "output_sentiment_df_demo = sentiment_feedback(to_sentiment_df_demo, doc2vec_model, tfidf_vectorizer, xgb_model)"
      ]
    },
    {
      "cell_type": "code",
      "source": [
        "df_pr = pd.DataFrame(df_demo['customer_id'],columns=['customer_id'])\n"
      ],
      "metadata": {
        "id": "FJOYIF2HBrNl"
      },
      "execution_count": null,
      "outputs": []
    },
    {
      "cell_type": "code",
      "execution_count": null,
      "metadata": {
        "id": "Zg8PbG2Iof_O"
      },
      "outputs": [],
      "source": [
        "output_sentiment_df_demo.index = df_demo.index\n",
        "df_demo = pd.concat([df_demo,output_sentiment_df_demo], axis=1)\n",
        "df_demo=df_demo.drop('Unnamed: 0', axis=1)\n",
        "df_demo=df_demo.drop('sentiments', axis=1)"
      ]
    },
    {
      "cell_type": "code",
      "execution_count": null,
      "metadata": {
        "colab": {
          "base_uri": "https://localhost:8080/"
        },
        "id": "rFNbBxwfndHj",
        "outputId": "9ddea72a-a788-4d5b-b1ad-f92c6d62bd38"
      },
      "outputs": [
        {
          "output_type": "stream",
          "name": "stdout",
          "text": [
            "(20, 12)\n",
            "(25668, 43)\n"
          ]
        }
      ],
      "source": [
        "client_score = pd.DataFrame(xgb_churn.predict(preload_for_test(df_demo)), columns=['churn_risk_score'])"
      ]
    },
    {
      "cell_type": "code",
      "execution_count": null,
      "metadata": {
        "id": "5jY0C-dh9YyA"
      },
      "outputs": [],
      "source": [
        "df_demo = pd.read_csv('/content/drive/MyDrive/churn_prediction/data/customers/churn_test.csv')\n",
        "df_demo = df_demo.iloc[:20]\n",
        "df_demo = df_demo.rename(columns={'content':'feedback'})\n",
        "df_demo['region_category'] = df_demo['region_category'].fillna('Other')\n",
        "df_demo['avg_transaction_value'] = df_demo['avg_transaction_value'].apply(lambda x: x*0.01)\n",
        "to_sentiment_df_demo = pd.DataFrame(df_demo[['feedback','summary']], columns=['feedback','summary'])\n",
        "to_sentiment_df_demo = to_sentiment_df_demo.rename(columns={'feedback':'content'})\n",
        "output_sentiment_df_demo.index = df_demo.index\n",
        "df_demo = pd.concat([df_demo,output_sentiment_df_demo], axis=1)\n",
        "df_demo=df_demo.drop('Unnamed: 0', axis=1)\n",
        "df_demo=df_demo.drop('sentiments', axis=1)"
      ]
    },
    {
      "cell_type": "code",
      "execution_count": null,
      "metadata": {
        "colab": {
          "base_uri": "https://localhost:8080/",
          "height": 1000
        },
        "id": "Dm8utvLL-fcm",
        "outputId": "84748363-a1cd-4433-9748-a6e0f8928c88"
      },
      "outputs": [
        {
          "output_type": "execute_result",
          "data": {
            "text/plain": [
              "                             customer_id               Name  age gender  \\\n",
              "0   fffe43004900440035003700330030003600      Evelyne Kinch   17      M   \n",
              "1       fffe4300490044003500320033003500     Franklin Lurry   22      M   \n",
              "2   fffe43004900440036003100310035003800        Alan Branum   17      M   \n",
              "3   fffe43004900440035003700380032003700          Elke Yann   55      F   \n",
              "4   fffe43004900440034003900360037003200  Nichelle Oceguera   18      F   \n",
              "5   fffe43004900440035003800370036003400       Opal Robards   57      M   \n",
              "6   fffe43004900440032003300330039003400       Audry Yarber   12      M   \n",
              "7   fffe43004900440032003100320032003500        Alayna Patt   40      M   \n",
              "8   fffe43004900440032003700360038003800      Fumiko Tracey   14      F   \n",
              "9   fffe43004900440035003200370033003500      Colby Omalley   16      M   \n",
              "10  fffe43004900440033003200350036003500        Traci Hofer   29      M   \n",
              "11  fffe43004900440035003900380039003600  Marietta Gilkison   64      M   \n",
              "12  fffe43004900440034003400350037003500   Sharita Mckinzie   41      F   \n",
              "13  fffe43004900440032003800360032003900        Dinorah Tow   26      F   \n",
              "14  fffe43004900440033003800340037003700   Damaris Zamorano   23      F   \n",
              "15  fffe43004900440035003400320034003800          Lois Kohr   27      F   \n",
              "16  fffe43004900440036003300320036003400     Janel Wierenga   50      M   \n",
              "17  fffe43004900440033003600310031003300        Nova Steger   41      M   \n",
              "18  fffe43004900440036003100320036003900        Larae Alvis   30      M   \n",
              "19  fffe43004900440031003100330030003700      Brian Strauch   19      F   \n",
              "\n",
              "   security_no region_category membership_category joining_date  \\\n",
              "0      NBV1O8W            Town    Basic Membership   2016-12-04   \n",
              "1      C3B77NU            Town       No Membership   2015-10-14   \n",
              "2      OCHQG0L         Village    Basic Membership   2016-01-21   \n",
              "3      4KPKRVX            Town    Basic Membership   2015-12-11   \n",
              "4      M0ZT1CU            City    Basic Membership   2016-04-28   \n",
              "5      QPMH483           Other    Basic Membership   2017-08-17   \n",
              "6      RHTAOKV            City    Basic Membership   2016-07-17   \n",
              "7      6NQQSL9            Town    Basic Membership   2016-05-16   \n",
              "8      RPGA9Y5            Town    Basic Membership   2015-02-16   \n",
              "9      48BNSWF            Town       No Membership   2017-08-15   \n",
              "10     B28LFA6            City    Basic Membership   2016-10-13   \n",
              "11     ZBL6S3I            Town       No Membership   2015-04-09   \n",
              "12     NT5Z823            City       No Membership   2017-10-05   \n",
              "13     VLSRAZU            City       No Membership   2017-10-06   \n",
              "14     6X94SCD            Town       No Membership   2016-04-25   \n",
              "15     MBQUP72         Village       No Membership   2017-03-17   \n",
              "16     TECTHVS           Other       No Membership   2016-03-17   \n",
              "17     H1DDM3U            Town       No Membership   2017-08-24   \n",
              "18     T50EYFX            City       No Membership   2016-02-16   \n",
              "19     ZZZS7K7            City       No Membership   2015-03-24   \n",
              "\n",
              "   joined_through_referral referral_id  ... avg_transaction_value  \\\n",
              "0                      Yes    CID53746  ...               99.4854   \n",
              "1                      Yes    CID60228  ...              193.6360   \n",
              "2                       No    xxxxxxxx  ...              489.1395   \n",
              "3                       No    xxxxxxxx  ...              307.7381   \n",
              "4                        ?    CID56250  ...              281.1233   \n",
              "5                      Yes    CID22216  ...               87.8412   \n",
              "6                      Yes    xxxxxxxx  ...              105.1017   \n",
              "7                       No    xxxxxxxx  ...              334.0972   \n",
              "8                      Yes    CID45738  ...              310.0134   \n",
              "9                       No    xxxxxxxx  ...              497.5783   \n",
              "10                     Yes    CID22412  ...              124.4524   \n",
              "11                     Yes    xxxxxxxx  ...              466.5675   \n",
              "12                      No    xxxxxxxx  ...              345.1245   \n",
              "13                     Yes    CID56650  ...              122.5454   \n",
              "14                      No    xxxxxxxx  ...              190.8492   \n",
              "15                      No    xxxxxxxx  ...              211.5084   \n",
              "16                     Yes    CID31922  ...              113.1565   \n",
              "17                      No    xxxxxxxx  ...              448.2289   \n",
              "18                      No    xxxxxxxx  ...              246.6473   \n",
              "19                     Yes    CID12710  ...              443.8599   \n",
              "\n",
              "   avg_frequency_login_days points_in_wallet used_special_discount  \\\n",
              "0                      16.0       577.830000                   Yes   \n",
              "1                     Error       528.660000                   Yes   \n",
              "2                      24.0       613.790000                   Yes   \n",
              "3                     Error       520.360000                    No   \n",
              "4                      22.0       523.410000                   Yes   \n",
              "5                      26.0       660.360000                    No   \n",
              "6                       7.0       642.800000                   Yes   \n",
              "7                      14.0              NaN                   Yes   \n",
              "8                      29.0       627.990000                   Yes   \n",
              "9                      23.0       681.700000                   Yes   \n",
              "10                     23.0       957.998151                   Yes   \n",
              "11                     25.0       617.900000                   Yes   \n",
              "12                     17.0      1143.268855                    No   \n",
              "13                    Error       634.070000                   Yes   \n",
              "14       -6.860127860435156       663.970000                   Yes   \n",
              "15                     23.0       677.830000                   Yes   \n",
              "16                      7.0       621.230000                   Yes   \n",
              "17                     22.0       630.030000                   Yes   \n",
              "18                     13.0       165.918096                   Yes   \n",
              "19                     23.0       530.370000                    No   \n",
              "\n",
              "    offer_application_preference  \\\n",
              "0                             No   \n",
              "1                             No   \n",
              "2                            Yes   \n",
              "3                            Yes   \n",
              "4                             No   \n",
              "5                            Yes   \n",
              "6                             No   \n",
              "7                             No   \n",
              "8                             No   \n",
              "9                             No   \n",
              "10                            No   \n",
              "11                            No   \n",
              "12                           Yes   \n",
              "13                            No   \n",
              "14                            No   \n",
              "15                            No   \n",
              "16                            No   \n",
              "17                            No   \n",
              "18                            No   \n",
              "19                           Yes   \n",
              "\n",
              "                                             feedback  \\\n",
              "0   I just want to say that most Meguiar's product...   \n",
              "1   This item is misrepresented.  Meguiar's no lon...   \n",
              "2                       Leaves film on car after wash   \n",
              "3   Soap is soap regardless of manufacturer ,who c...   \n",
              "4   I purchased 2 bottles, finished the first bott...   \n",
              "5                               Stinks like perfume !   \n",
              "6         bottle was leaking half of its contents....   \n",
              "7   Would have been ok but bottle had hole in top ...   \n",
              "8   Absolutely no suds when pumped through my pres...   \n",
              "9   I don't see what all the excitement is about, ...   \n",
              "10  Bought it for washing my airplane based on pos...   \n",
              "11  I'm very disappointed in Meguiar. They used to...   \n",
              "12             The packing was very poor, isn't safe.   \n",
              "13  I have a 2008 Tundra, this was an item i thoug...   \n",
              "14  Very disappointed in this product- not very we...   \n",
              "15  Will not stay in place, a ten pound box will m...   \n",
              "16  The cap is loose, and the liquid flows out. Qu...   \n",
              "17     Product came with hole in it and half drained.   \n",
              "18  It cleans the car exactly the same, as when I ...   \n",
              "19  My truck was begging for a spa day. Finally I ...   \n",
              "\n",
              "                                              summary sentiment  sent_score  \\\n",
              "0   half of the product leaked before opening...di...         1    0.788906   \n",
              "1                 Meguiar's Gold Class Clear Coat Wax         0    0.591065   \n",
              "2                                            One Star         1    0.999781   \n",
              "3                                     Give me a break         0    0.967689   \n",
              "4                                Diluted Liquid Soap!         1    0.975269   \n",
              "5                                                Hate         1    0.699430   \n",
              "6                                            One Star         1    0.999643   \n",
              "7                                     hole in product         0    0.987996   \n",
              "8               Not Compatible With Pressure Washers.         0    0.789119   \n",
              "9                              Water marks/white film         0    0.992553   \n",
              "10                               Use at your own risk         1    0.967866   \n",
              "11                                      Not the same.         0    0.999853   \n",
              "12                                          Two Stars         1    0.999501   \n",
              "13                                Not a good purchase         1    0.673522   \n",
              "14                                      disappointed!         1    0.989513   \n",
              "15                           Dont WASTE YOUR MONEY!!!         1    0.934331   \n",
              "16  Their package service sucks. The gas I consume...         1    0.999349   \n",
              "17         Great Product if you get delivered in tact         0    0.991887   \n",
              "18  Not better than any other; plus it has a bad s...         0    0.980904   \n",
              "19                             Mane 'N Tail is better         0    0.999669   \n",
              "\n",
              "   churn_risk_score  \n",
              "0                 2  \n",
              "1                 2  \n",
              "2                 4  \n",
              "3                 4  \n",
              "4                 2  \n",
              "5                 2  \n",
              "6                 2  \n",
              "7                 3  \n",
              "8                 2  \n",
              "9                 4  \n",
              "10                2  \n",
              "11                3  \n",
              "12                4  \n",
              "13                2  \n",
              "14                3  \n",
              "15                4  \n",
              "16                4  \n",
              "17                4  \n",
              "18                3  \n",
              "19                2  \n",
              "\n",
              "[20 rows x 26 columns]"
            ],
            "text/html": [
              "\n",
              "  <div id=\"df-48b96bc6-6a42-4a3f-a7f1-e2c5091af3f5\" class=\"colab-df-container\">\n",
              "    <div>\n",
              "<style scoped>\n",
              "    .dataframe tbody tr th:only-of-type {\n",
              "        vertical-align: middle;\n",
              "    }\n",
              "\n",
              "    .dataframe tbody tr th {\n",
              "        vertical-align: top;\n",
              "    }\n",
              "\n",
              "    .dataframe thead th {\n",
              "        text-align: right;\n",
              "    }\n",
              "</style>\n",
              "<table border=\"1\" class=\"dataframe\">\n",
              "  <thead>\n",
              "    <tr style=\"text-align: right;\">\n",
              "      <th></th>\n",
              "      <th>customer_id</th>\n",
              "      <th>Name</th>\n",
              "      <th>age</th>\n",
              "      <th>gender</th>\n",
              "      <th>security_no</th>\n",
              "      <th>region_category</th>\n",
              "      <th>membership_category</th>\n",
              "      <th>joining_date</th>\n",
              "      <th>joined_through_referral</th>\n",
              "      <th>referral_id</th>\n",
              "      <th>...</th>\n",
              "      <th>avg_transaction_value</th>\n",
              "      <th>avg_frequency_login_days</th>\n",
              "      <th>points_in_wallet</th>\n",
              "      <th>used_special_discount</th>\n",
              "      <th>offer_application_preference</th>\n",
              "      <th>feedback</th>\n",
              "      <th>summary</th>\n",
              "      <th>sentiment</th>\n",
              "      <th>sent_score</th>\n",
              "      <th>churn_risk_score</th>\n",
              "    </tr>\n",
              "  </thead>\n",
              "  <tbody>\n",
              "    <tr>\n",
              "      <th>0</th>\n",
              "      <td>fffe43004900440035003700330030003600</td>\n",
              "      <td>Evelyne Kinch</td>\n",
              "      <td>17</td>\n",
              "      <td>M</td>\n",
              "      <td>NBV1O8W</td>\n",
              "      <td>Town</td>\n",
              "      <td>Basic Membership</td>\n",
              "      <td>2016-12-04</td>\n",
              "      <td>Yes</td>\n",
              "      <td>CID53746</td>\n",
              "      <td>...</td>\n",
              "      <td>99.4854</td>\n",
              "      <td>16.0</td>\n",
              "      <td>577.830000</td>\n",
              "      <td>Yes</td>\n",
              "      <td>No</td>\n",
              "      <td>I just want to say that most Meguiar's product...</td>\n",
              "      <td>half of the product leaked before opening...di...</td>\n",
              "      <td>1</td>\n",
              "      <td>0.788906</td>\n",
              "      <td>2</td>\n",
              "    </tr>\n",
              "    <tr>\n",
              "      <th>1</th>\n",
              "      <td>fffe4300490044003500320033003500</td>\n",
              "      <td>Franklin Lurry</td>\n",
              "      <td>22</td>\n",
              "      <td>M</td>\n",
              "      <td>C3B77NU</td>\n",
              "      <td>Town</td>\n",
              "      <td>No Membership</td>\n",
              "      <td>2015-10-14</td>\n",
              "      <td>Yes</td>\n",
              "      <td>CID60228</td>\n",
              "      <td>...</td>\n",
              "      <td>193.6360</td>\n",
              "      <td>Error</td>\n",
              "      <td>528.660000</td>\n",
              "      <td>Yes</td>\n",
              "      <td>No</td>\n",
              "      <td>This item is misrepresented.  Meguiar's no lon...</td>\n",
              "      <td>Meguiar's Gold Class Clear Coat Wax</td>\n",
              "      <td>0</td>\n",
              "      <td>0.591065</td>\n",
              "      <td>2</td>\n",
              "    </tr>\n",
              "    <tr>\n",
              "      <th>2</th>\n",
              "      <td>fffe43004900440036003100310035003800</td>\n",
              "      <td>Alan Branum</td>\n",
              "      <td>17</td>\n",
              "      <td>M</td>\n",
              "      <td>OCHQG0L</td>\n",
              "      <td>Village</td>\n",
              "      <td>Basic Membership</td>\n",
              "      <td>2016-01-21</td>\n",
              "      <td>No</td>\n",
              "      <td>xxxxxxxx</td>\n",
              "      <td>...</td>\n",
              "      <td>489.1395</td>\n",
              "      <td>24.0</td>\n",
              "      <td>613.790000</td>\n",
              "      <td>Yes</td>\n",
              "      <td>Yes</td>\n",
              "      <td>Leaves film on car after wash</td>\n",
              "      <td>One Star</td>\n",
              "      <td>1</td>\n",
              "      <td>0.999781</td>\n",
              "      <td>4</td>\n",
              "    </tr>\n",
              "    <tr>\n",
              "      <th>3</th>\n",
              "      <td>fffe43004900440035003700380032003700</td>\n",
              "      <td>Elke Yann</td>\n",
              "      <td>55</td>\n",
              "      <td>F</td>\n",
              "      <td>4KPKRVX</td>\n",
              "      <td>Town</td>\n",
              "      <td>Basic Membership</td>\n",
              "      <td>2015-12-11</td>\n",
              "      <td>No</td>\n",
              "      <td>xxxxxxxx</td>\n",
              "      <td>...</td>\n",
              "      <td>307.7381</td>\n",
              "      <td>Error</td>\n",
              "      <td>520.360000</td>\n",
              "      <td>No</td>\n",
              "      <td>Yes</td>\n",
              "      <td>Soap is soap regardless of manufacturer ,who c...</td>\n",
              "      <td>Give me a break</td>\n",
              "      <td>0</td>\n",
              "      <td>0.967689</td>\n",
              "      <td>4</td>\n",
              "    </tr>\n",
              "    <tr>\n",
              "      <th>4</th>\n",
              "      <td>fffe43004900440034003900360037003200</td>\n",
              "      <td>Nichelle Oceguera</td>\n",
              "      <td>18</td>\n",
              "      <td>F</td>\n",
              "      <td>M0ZT1CU</td>\n",
              "      <td>City</td>\n",
              "      <td>Basic Membership</td>\n",
              "      <td>2016-04-28</td>\n",
              "      <td>?</td>\n",
              "      <td>CID56250</td>\n",
              "      <td>...</td>\n",
              "      <td>281.1233</td>\n",
              "      <td>22.0</td>\n",
              "      <td>523.410000</td>\n",
              "      <td>Yes</td>\n",
              "      <td>No</td>\n",
              "      <td>I purchased 2 bottles, finished the first bott...</td>\n",
              "      <td>Diluted Liquid Soap!</td>\n",
              "      <td>1</td>\n",
              "      <td>0.975269</td>\n",
              "      <td>2</td>\n",
              "    </tr>\n",
              "    <tr>\n",
              "      <th>5</th>\n",
              "      <td>fffe43004900440035003800370036003400</td>\n",
              "      <td>Opal Robards</td>\n",
              "      <td>57</td>\n",
              "      <td>M</td>\n",
              "      <td>QPMH483</td>\n",
              "      <td>Other</td>\n",
              "      <td>Basic Membership</td>\n",
              "      <td>2017-08-17</td>\n",
              "      <td>Yes</td>\n",
              "      <td>CID22216</td>\n",
              "      <td>...</td>\n",
              "      <td>87.8412</td>\n",
              "      <td>26.0</td>\n",
              "      <td>660.360000</td>\n",
              "      <td>No</td>\n",
              "      <td>Yes</td>\n",
              "      <td>Stinks like perfume !</td>\n",
              "      <td>Hate</td>\n",
              "      <td>1</td>\n",
              "      <td>0.699430</td>\n",
              "      <td>2</td>\n",
              "    </tr>\n",
              "    <tr>\n",
              "      <th>6</th>\n",
              "      <td>fffe43004900440032003300330039003400</td>\n",
              "      <td>Audry Yarber</td>\n",
              "      <td>12</td>\n",
              "      <td>M</td>\n",
              "      <td>RHTAOKV</td>\n",
              "      <td>City</td>\n",
              "      <td>Basic Membership</td>\n",
              "      <td>2016-07-17</td>\n",
              "      <td>Yes</td>\n",
              "      <td>xxxxxxxx</td>\n",
              "      <td>...</td>\n",
              "      <td>105.1017</td>\n",
              "      <td>7.0</td>\n",
              "      <td>642.800000</td>\n",
              "      <td>Yes</td>\n",
              "      <td>No</td>\n",
              "      <td>bottle was leaking half of its contents....</td>\n",
              "      <td>One Star</td>\n",
              "      <td>1</td>\n",
              "      <td>0.999643</td>\n",
              "      <td>2</td>\n",
              "    </tr>\n",
              "    <tr>\n",
              "      <th>7</th>\n",
              "      <td>fffe43004900440032003100320032003500</td>\n",
              "      <td>Alayna Patt</td>\n",
              "      <td>40</td>\n",
              "      <td>M</td>\n",
              "      <td>6NQQSL9</td>\n",
              "      <td>Town</td>\n",
              "      <td>Basic Membership</td>\n",
              "      <td>2016-05-16</td>\n",
              "      <td>No</td>\n",
              "      <td>xxxxxxxx</td>\n",
              "      <td>...</td>\n",
              "      <td>334.0972</td>\n",
              "      <td>14.0</td>\n",
              "      <td>NaN</td>\n",
              "      <td>Yes</td>\n",
              "      <td>No</td>\n",
              "      <td>Would have been ok but bottle had hole in top ...</td>\n",
              "      <td>hole in product</td>\n",
              "      <td>0</td>\n",
              "      <td>0.987996</td>\n",
              "      <td>3</td>\n",
              "    </tr>\n",
              "    <tr>\n",
              "      <th>8</th>\n",
              "      <td>fffe43004900440032003700360038003800</td>\n",
              "      <td>Fumiko Tracey</td>\n",
              "      <td>14</td>\n",
              "      <td>F</td>\n",
              "      <td>RPGA9Y5</td>\n",
              "      <td>Town</td>\n",
              "      <td>Basic Membership</td>\n",
              "      <td>2015-02-16</td>\n",
              "      <td>Yes</td>\n",
              "      <td>CID45738</td>\n",
              "      <td>...</td>\n",
              "      <td>310.0134</td>\n",
              "      <td>29.0</td>\n",
              "      <td>627.990000</td>\n",
              "      <td>Yes</td>\n",
              "      <td>No</td>\n",
              "      <td>Absolutely no suds when pumped through my pres...</td>\n",
              "      <td>Not Compatible With Pressure Washers.</td>\n",
              "      <td>0</td>\n",
              "      <td>0.789119</td>\n",
              "      <td>2</td>\n",
              "    </tr>\n",
              "    <tr>\n",
              "      <th>9</th>\n",
              "      <td>fffe43004900440035003200370033003500</td>\n",
              "      <td>Colby Omalley</td>\n",
              "      <td>16</td>\n",
              "      <td>M</td>\n",
              "      <td>48BNSWF</td>\n",
              "      <td>Town</td>\n",
              "      <td>No Membership</td>\n",
              "      <td>2017-08-15</td>\n",
              "      <td>No</td>\n",
              "      <td>xxxxxxxx</td>\n",
              "      <td>...</td>\n",
              "      <td>497.5783</td>\n",
              "      <td>23.0</td>\n",
              "      <td>681.700000</td>\n",
              "      <td>Yes</td>\n",
              "      <td>No</td>\n",
              "      <td>I don't see what all the excitement is about, ...</td>\n",
              "      <td>Water marks/white film</td>\n",
              "      <td>0</td>\n",
              "      <td>0.992553</td>\n",
              "      <td>4</td>\n",
              "    </tr>\n",
              "    <tr>\n",
              "      <th>10</th>\n",
              "      <td>fffe43004900440033003200350036003500</td>\n",
              "      <td>Traci Hofer</td>\n",
              "      <td>29</td>\n",
              "      <td>M</td>\n",
              "      <td>B28LFA6</td>\n",
              "      <td>City</td>\n",
              "      <td>Basic Membership</td>\n",
              "      <td>2016-10-13</td>\n",
              "      <td>Yes</td>\n",
              "      <td>CID22412</td>\n",
              "      <td>...</td>\n",
              "      <td>124.4524</td>\n",
              "      <td>23.0</td>\n",
              "      <td>957.998151</td>\n",
              "      <td>Yes</td>\n",
              "      <td>No</td>\n",
              "      <td>Bought it for washing my airplane based on pos...</td>\n",
              "      <td>Use at your own risk</td>\n",
              "      <td>1</td>\n",
              "      <td>0.967866</td>\n",
              "      <td>2</td>\n",
              "    </tr>\n",
              "    <tr>\n",
              "      <th>11</th>\n",
              "      <td>fffe43004900440035003900380039003600</td>\n",
              "      <td>Marietta Gilkison</td>\n",
              "      <td>64</td>\n",
              "      <td>M</td>\n",
              "      <td>ZBL6S3I</td>\n",
              "      <td>Town</td>\n",
              "      <td>No Membership</td>\n",
              "      <td>2015-04-09</td>\n",
              "      <td>Yes</td>\n",
              "      <td>xxxxxxxx</td>\n",
              "      <td>...</td>\n",
              "      <td>466.5675</td>\n",
              "      <td>25.0</td>\n",
              "      <td>617.900000</td>\n",
              "      <td>Yes</td>\n",
              "      <td>No</td>\n",
              "      <td>I'm very disappointed in Meguiar. They used to...</td>\n",
              "      <td>Not the same.</td>\n",
              "      <td>0</td>\n",
              "      <td>0.999853</td>\n",
              "      <td>3</td>\n",
              "    </tr>\n",
              "    <tr>\n",
              "      <th>12</th>\n",
              "      <td>fffe43004900440034003400350037003500</td>\n",
              "      <td>Sharita Mckinzie</td>\n",
              "      <td>41</td>\n",
              "      <td>F</td>\n",
              "      <td>NT5Z823</td>\n",
              "      <td>City</td>\n",
              "      <td>No Membership</td>\n",
              "      <td>2017-10-05</td>\n",
              "      <td>No</td>\n",
              "      <td>xxxxxxxx</td>\n",
              "      <td>...</td>\n",
              "      <td>345.1245</td>\n",
              "      <td>17.0</td>\n",
              "      <td>1143.268855</td>\n",
              "      <td>No</td>\n",
              "      <td>Yes</td>\n",
              "      <td>The packing was very poor, isn't safe.</td>\n",
              "      <td>Two Stars</td>\n",
              "      <td>1</td>\n",
              "      <td>0.999501</td>\n",
              "      <td>4</td>\n",
              "    </tr>\n",
              "    <tr>\n",
              "      <th>13</th>\n",
              "      <td>fffe43004900440032003800360032003900</td>\n",
              "      <td>Dinorah Tow</td>\n",
              "      <td>26</td>\n",
              "      <td>F</td>\n",
              "      <td>VLSRAZU</td>\n",
              "      <td>City</td>\n",
              "      <td>No Membership</td>\n",
              "      <td>2017-10-06</td>\n",
              "      <td>Yes</td>\n",
              "      <td>CID56650</td>\n",
              "      <td>...</td>\n",
              "      <td>122.5454</td>\n",
              "      <td>Error</td>\n",
              "      <td>634.070000</td>\n",
              "      <td>Yes</td>\n",
              "      <td>No</td>\n",
              "      <td>I have a 2008 Tundra, this was an item i thoug...</td>\n",
              "      <td>Not a good purchase</td>\n",
              "      <td>1</td>\n",
              "      <td>0.673522</td>\n",
              "      <td>2</td>\n",
              "    </tr>\n",
              "    <tr>\n",
              "      <th>14</th>\n",
              "      <td>fffe43004900440033003800340037003700</td>\n",
              "      <td>Damaris Zamorano</td>\n",
              "      <td>23</td>\n",
              "      <td>F</td>\n",
              "      <td>6X94SCD</td>\n",
              "      <td>Town</td>\n",
              "      <td>No Membership</td>\n",
              "      <td>2016-04-25</td>\n",
              "      <td>No</td>\n",
              "      <td>xxxxxxxx</td>\n",
              "      <td>...</td>\n",
              "      <td>190.8492</td>\n",
              "      <td>-6.860127860435156</td>\n",
              "      <td>663.970000</td>\n",
              "      <td>Yes</td>\n",
              "      <td>No</td>\n",
              "      <td>Very disappointed in this product- not very we...</td>\n",
              "      <td>disappointed!</td>\n",
              "      <td>1</td>\n",
              "      <td>0.989513</td>\n",
              "      <td>3</td>\n",
              "    </tr>\n",
              "    <tr>\n",
              "      <th>15</th>\n",
              "      <td>fffe43004900440035003400320034003800</td>\n",
              "      <td>Lois Kohr</td>\n",
              "      <td>27</td>\n",
              "      <td>F</td>\n",
              "      <td>MBQUP72</td>\n",
              "      <td>Village</td>\n",
              "      <td>No Membership</td>\n",
              "      <td>2017-03-17</td>\n",
              "      <td>No</td>\n",
              "      <td>xxxxxxxx</td>\n",
              "      <td>...</td>\n",
              "      <td>211.5084</td>\n",
              "      <td>23.0</td>\n",
              "      <td>677.830000</td>\n",
              "      <td>Yes</td>\n",
              "      <td>No</td>\n",
              "      <td>Will not stay in place, a ten pound box will m...</td>\n",
              "      <td>Dont WASTE YOUR MONEY!!!</td>\n",
              "      <td>1</td>\n",
              "      <td>0.934331</td>\n",
              "      <td>4</td>\n",
              "    </tr>\n",
              "    <tr>\n",
              "      <th>16</th>\n",
              "      <td>fffe43004900440036003300320036003400</td>\n",
              "      <td>Janel Wierenga</td>\n",
              "      <td>50</td>\n",
              "      <td>M</td>\n",
              "      <td>TECTHVS</td>\n",
              "      <td>Other</td>\n",
              "      <td>No Membership</td>\n",
              "      <td>2016-03-17</td>\n",
              "      <td>Yes</td>\n",
              "      <td>CID31922</td>\n",
              "      <td>...</td>\n",
              "      <td>113.1565</td>\n",
              "      <td>7.0</td>\n",
              "      <td>621.230000</td>\n",
              "      <td>Yes</td>\n",
              "      <td>No</td>\n",
              "      <td>The cap is loose, and the liquid flows out. Qu...</td>\n",
              "      <td>Their package service sucks. The gas I consume...</td>\n",
              "      <td>1</td>\n",
              "      <td>0.999349</td>\n",
              "      <td>4</td>\n",
              "    </tr>\n",
              "    <tr>\n",
              "      <th>17</th>\n",
              "      <td>fffe43004900440033003600310031003300</td>\n",
              "      <td>Nova Steger</td>\n",
              "      <td>41</td>\n",
              "      <td>M</td>\n",
              "      <td>H1DDM3U</td>\n",
              "      <td>Town</td>\n",
              "      <td>No Membership</td>\n",
              "      <td>2017-08-24</td>\n",
              "      <td>No</td>\n",
              "      <td>xxxxxxxx</td>\n",
              "      <td>...</td>\n",
              "      <td>448.2289</td>\n",
              "      <td>22.0</td>\n",
              "      <td>630.030000</td>\n",
              "      <td>Yes</td>\n",
              "      <td>No</td>\n",
              "      <td>Product came with hole in it and half drained.</td>\n",
              "      <td>Great Product if you get delivered in tact</td>\n",
              "      <td>0</td>\n",
              "      <td>0.991887</td>\n",
              "      <td>4</td>\n",
              "    </tr>\n",
              "    <tr>\n",
              "      <th>18</th>\n",
              "      <td>fffe43004900440036003100320036003900</td>\n",
              "      <td>Larae Alvis</td>\n",
              "      <td>30</td>\n",
              "      <td>M</td>\n",
              "      <td>T50EYFX</td>\n",
              "      <td>City</td>\n",
              "      <td>No Membership</td>\n",
              "      <td>2016-02-16</td>\n",
              "      <td>No</td>\n",
              "      <td>xxxxxxxx</td>\n",
              "      <td>...</td>\n",
              "      <td>246.6473</td>\n",
              "      <td>13.0</td>\n",
              "      <td>165.918096</td>\n",
              "      <td>Yes</td>\n",
              "      <td>No</td>\n",
              "      <td>It cleans the car exactly the same, as when I ...</td>\n",
              "      <td>Not better than any other; plus it has a bad s...</td>\n",
              "      <td>0</td>\n",
              "      <td>0.980904</td>\n",
              "      <td>3</td>\n",
              "    </tr>\n",
              "    <tr>\n",
              "      <th>19</th>\n",
              "      <td>fffe43004900440031003100330030003700</td>\n",
              "      <td>Brian Strauch</td>\n",
              "      <td>19</td>\n",
              "      <td>F</td>\n",
              "      <td>ZZZS7K7</td>\n",
              "      <td>City</td>\n",
              "      <td>No Membership</td>\n",
              "      <td>2015-03-24</td>\n",
              "      <td>Yes</td>\n",
              "      <td>CID12710</td>\n",
              "      <td>...</td>\n",
              "      <td>443.8599</td>\n",
              "      <td>23.0</td>\n",
              "      <td>530.370000</td>\n",
              "      <td>No</td>\n",
              "      <td>Yes</td>\n",
              "      <td>My truck was begging for a spa day. Finally I ...</td>\n",
              "      <td>Mane 'N Tail is better</td>\n",
              "      <td>0</td>\n",
              "      <td>0.999669</td>\n",
              "      <td>2</td>\n",
              "    </tr>\n",
              "  </tbody>\n",
              "</table>\n",
              "<p>20 rows × 26 columns</p>\n",
              "</div>\n",
              "    <div class=\"colab-df-buttons\">\n",
              "\n",
              "  <div class=\"colab-df-container\">\n",
              "    <button class=\"colab-df-convert\" onclick=\"convertToInteractive('df-48b96bc6-6a42-4a3f-a7f1-e2c5091af3f5')\"\n",
              "            title=\"Convert this dataframe to an interactive table.\"\n",
              "            style=\"display:none;\">\n",
              "\n",
              "  <svg xmlns=\"http://www.w3.org/2000/svg\" height=\"24px\" viewBox=\"0 -960 960 960\">\n",
              "    <path d=\"M120-120v-720h720v720H120Zm60-500h600v-160H180v160Zm220 220h160v-160H400v160Zm0 220h160v-160H400v160ZM180-400h160v-160H180v160Zm440 0h160v-160H620v160ZM180-180h160v-160H180v160Zm440 0h160v-160H620v160Z\"/>\n",
              "  </svg>\n",
              "    </button>\n",
              "\n",
              "  <style>\n",
              "    .colab-df-container {\n",
              "      display:flex;\n",
              "      gap: 12px;\n",
              "    }\n",
              "\n",
              "    .colab-df-convert {\n",
              "      background-color: #E8F0FE;\n",
              "      border: none;\n",
              "      border-radius: 50%;\n",
              "      cursor: pointer;\n",
              "      display: none;\n",
              "      fill: #1967D2;\n",
              "      height: 32px;\n",
              "      padding: 0 0 0 0;\n",
              "      width: 32px;\n",
              "    }\n",
              "\n",
              "    .colab-df-convert:hover {\n",
              "      background-color: #E2EBFA;\n",
              "      box-shadow: 0px 1px 2px rgba(60, 64, 67, 0.3), 0px 1px 3px 1px rgba(60, 64, 67, 0.15);\n",
              "      fill: #174EA6;\n",
              "    }\n",
              "\n",
              "    .colab-df-buttons div {\n",
              "      margin-bottom: 4px;\n",
              "    }\n",
              "\n",
              "    [theme=dark] .colab-df-convert {\n",
              "      background-color: #3B4455;\n",
              "      fill: #D2E3FC;\n",
              "    }\n",
              "\n",
              "    [theme=dark] .colab-df-convert:hover {\n",
              "      background-color: #434B5C;\n",
              "      box-shadow: 0px 1px 3px 1px rgba(0, 0, 0, 0.15);\n",
              "      filter: drop-shadow(0px 1px 2px rgba(0, 0, 0, 0.3));\n",
              "      fill: #FFFFFF;\n",
              "    }\n",
              "  </style>\n",
              "\n",
              "    <script>\n",
              "      const buttonEl =\n",
              "        document.querySelector('#df-48b96bc6-6a42-4a3f-a7f1-e2c5091af3f5 button.colab-df-convert');\n",
              "      buttonEl.style.display =\n",
              "        google.colab.kernel.accessAllowed ? 'block' : 'none';\n",
              "\n",
              "      async function convertToInteractive(key) {\n",
              "        const element = document.querySelector('#df-48b96bc6-6a42-4a3f-a7f1-e2c5091af3f5');\n",
              "        const dataTable =\n",
              "          await google.colab.kernel.invokeFunction('convertToInteractive',\n",
              "                                                    [key], {});\n",
              "        if (!dataTable) return;\n",
              "\n",
              "        const docLinkHtml = 'Like what you see? Visit the ' +\n",
              "          '<a target=\"_blank\" href=https://colab.research.google.com/notebooks/data_table.ipynb>data table notebook</a>'\n",
              "          + ' to learn more about interactive tables.';\n",
              "        element.innerHTML = '';\n",
              "        dataTable['output_type'] = 'display_data';\n",
              "        await google.colab.output.renderOutput(dataTable, element);\n",
              "        const docLink = document.createElement('div');\n",
              "        docLink.innerHTML = docLinkHtml;\n",
              "        element.appendChild(docLink);\n",
              "      }\n",
              "    </script>\n",
              "  </div>\n",
              "\n",
              "\n",
              "<div id=\"df-9c445387-5c57-4296-a4c8-e0f3f7c693e6\">\n",
              "  <button class=\"colab-df-quickchart\" onclick=\"quickchart('df-9c445387-5c57-4296-a4c8-e0f3f7c693e6')\"\n",
              "            title=\"Suggest charts\"\n",
              "            style=\"display:none;\">\n",
              "\n",
              "<svg xmlns=\"http://www.w3.org/2000/svg\" height=\"24px\"viewBox=\"0 0 24 24\"\n",
              "     width=\"24px\">\n",
              "    <g>\n",
              "        <path d=\"M19 3H5c-1.1 0-2 .9-2 2v14c0 1.1.9 2 2 2h14c1.1 0 2-.9 2-2V5c0-1.1-.9-2-2-2zM9 17H7v-7h2v7zm4 0h-2V7h2v10zm4 0h-2v-4h2v4z\"/>\n",
              "    </g>\n",
              "</svg>\n",
              "  </button>\n",
              "\n",
              "<style>\n",
              "  .colab-df-quickchart {\n",
              "      --bg-color: #E8F0FE;\n",
              "      --fill-color: #1967D2;\n",
              "      --hover-bg-color: #E2EBFA;\n",
              "      --hover-fill-color: #174EA6;\n",
              "      --disabled-fill-color: #AAA;\n",
              "      --disabled-bg-color: #DDD;\n",
              "  }\n",
              "\n",
              "  [theme=dark] .colab-df-quickchart {\n",
              "      --bg-color: #3B4455;\n",
              "      --fill-color: #D2E3FC;\n",
              "      --hover-bg-color: #434B5C;\n",
              "      --hover-fill-color: #FFFFFF;\n",
              "      --disabled-bg-color: #3B4455;\n",
              "      --disabled-fill-color: #666;\n",
              "  }\n",
              "\n",
              "  .colab-df-quickchart {\n",
              "    background-color: var(--bg-color);\n",
              "    border: none;\n",
              "    border-radius: 50%;\n",
              "    cursor: pointer;\n",
              "    display: none;\n",
              "    fill: var(--fill-color);\n",
              "    height: 32px;\n",
              "    padding: 0;\n",
              "    width: 32px;\n",
              "  }\n",
              "\n",
              "  .colab-df-quickchart:hover {\n",
              "    background-color: var(--hover-bg-color);\n",
              "    box-shadow: 0 1px 2px rgba(60, 64, 67, 0.3), 0 1px 3px 1px rgba(60, 64, 67, 0.15);\n",
              "    fill: var(--button-hover-fill-color);\n",
              "  }\n",
              "\n",
              "  .colab-df-quickchart-complete:disabled,\n",
              "  .colab-df-quickchart-complete:disabled:hover {\n",
              "    background-color: var(--disabled-bg-color);\n",
              "    fill: var(--disabled-fill-color);\n",
              "    box-shadow: none;\n",
              "  }\n",
              "\n",
              "  .colab-df-spinner {\n",
              "    border: 2px solid var(--fill-color);\n",
              "    border-color: transparent;\n",
              "    border-bottom-color: var(--fill-color);\n",
              "    animation:\n",
              "      spin 1s steps(1) infinite;\n",
              "  }\n",
              "\n",
              "  @keyframes spin {\n",
              "    0% {\n",
              "      border-color: transparent;\n",
              "      border-bottom-color: var(--fill-color);\n",
              "      border-left-color: var(--fill-color);\n",
              "    }\n",
              "    20% {\n",
              "      border-color: transparent;\n",
              "      border-left-color: var(--fill-color);\n",
              "      border-top-color: var(--fill-color);\n",
              "    }\n",
              "    30% {\n",
              "      border-color: transparent;\n",
              "      border-left-color: var(--fill-color);\n",
              "      border-top-color: var(--fill-color);\n",
              "      border-right-color: var(--fill-color);\n",
              "    }\n",
              "    40% {\n",
              "      border-color: transparent;\n",
              "      border-right-color: var(--fill-color);\n",
              "      border-top-color: var(--fill-color);\n",
              "    }\n",
              "    60% {\n",
              "      border-color: transparent;\n",
              "      border-right-color: var(--fill-color);\n",
              "    }\n",
              "    80% {\n",
              "      border-color: transparent;\n",
              "      border-right-color: var(--fill-color);\n",
              "      border-bottom-color: var(--fill-color);\n",
              "    }\n",
              "    90% {\n",
              "      border-color: transparent;\n",
              "      border-bottom-color: var(--fill-color);\n",
              "    }\n",
              "  }\n",
              "</style>\n",
              "\n",
              "  <script>\n",
              "    async function quickchart(key) {\n",
              "      const quickchartButtonEl =\n",
              "        document.querySelector('#' + key + ' button');\n",
              "      quickchartButtonEl.disabled = true;  // To prevent multiple clicks.\n",
              "      quickchartButtonEl.classList.add('colab-df-spinner');\n",
              "      try {\n",
              "        const charts = await google.colab.kernel.invokeFunction(\n",
              "            'suggestCharts', [key], {});\n",
              "      } catch (error) {\n",
              "        console.error('Error during call to suggestCharts:', error);\n",
              "      }\n",
              "      quickchartButtonEl.classList.remove('colab-df-spinner');\n",
              "      quickchartButtonEl.classList.add('colab-df-quickchart-complete');\n",
              "    }\n",
              "    (() => {\n",
              "      let quickchartButtonEl =\n",
              "        document.querySelector('#df-9c445387-5c57-4296-a4c8-e0f3f7c693e6 button');\n",
              "      quickchartButtonEl.style.display =\n",
              "        google.colab.kernel.accessAllowed ? 'block' : 'none';\n",
              "    })();\n",
              "  </script>\n",
              "</div>\n",
              "    </div>\n",
              "  </div>\n"
            ],
            "application/vnd.google.colaboratory.intrinsic+json": {
              "type": "dataframe",
              "variable_name": "df_pr"
            }
          },
          "metadata": {},
          "execution_count": 105
        }
      ],
      "source": [
        "df_pr = pd.concat([df_demo,client_score],axis=1)\n",
        "df_pr"
      ]
    },
    {
      "cell_type": "code",
      "execution_count": null,
      "metadata": {
        "colab": {
          "base_uri": "https://localhost:8080/",
          "height": 200
        },
        "id": "6lK4VH-rDEBK",
        "outputId": "0fd7f33b-4f7d-41e3-d41d-9d984c4c5e89"
      },
      "outputs": [
        {
          "output_type": "execute_result",
          "data": {
            "text/plain": [
              "                             customer_id              Name  age gender  \\\n",
              "14  fffe43004900440033003800340037003700  Damaris Zamorano   23      F   \n",
              "\n",
              "   security_no region_category membership_category joining_date  \\\n",
              "14     6X94SCD            Town       No Membership   2016-04-25   \n",
              "\n",
              "   joined_through_referral referral_id  ... avg_frequency_login_days  \\\n",
              "14                      No    xxxxxxxx  ...       -6.860127860435156   \n",
              "\n",
              "   points_in_wallet used_special_discount offer_application_preference  \\\n",
              "14           663.97                   Yes                           No   \n",
              "\n",
              "                                             feedback        summary  \\\n",
              "14  Very disappointed in this product- not very we...  disappointed!   \n",
              "\n",
              "    sentiment sent_score  churn_risk_score reasons  \n",
              "14          1   0.989513                 3          \n",
              "\n",
              "[1 rows x 27 columns]"
            ],
            "text/html": [
              "\n",
              "  <div id=\"df-af716580-270e-4dfd-a82b-3cb5ea3908f7\" class=\"colab-df-container\">\n",
              "    <div>\n",
              "<style scoped>\n",
              "    .dataframe tbody tr th:only-of-type {\n",
              "        vertical-align: middle;\n",
              "    }\n",
              "\n",
              "    .dataframe tbody tr th {\n",
              "        vertical-align: top;\n",
              "    }\n",
              "\n",
              "    .dataframe thead th {\n",
              "        text-align: right;\n",
              "    }\n",
              "</style>\n",
              "<table border=\"1\" class=\"dataframe\">\n",
              "  <thead>\n",
              "    <tr style=\"text-align: right;\">\n",
              "      <th></th>\n",
              "      <th>customer_id</th>\n",
              "      <th>Name</th>\n",
              "      <th>age</th>\n",
              "      <th>gender</th>\n",
              "      <th>security_no</th>\n",
              "      <th>region_category</th>\n",
              "      <th>membership_category</th>\n",
              "      <th>joining_date</th>\n",
              "      <th>joined_through_referral</th>\n",
              "      <th>referral_id</th>\n",
              "      <th>...</th>\n",
              "      <th>avg_frequency_login_days</th>\n",
              "      <th>points_in_wallet</th>\n",
              "      <th>used_special_discount</th>\n",
              "      <th>offer_application_preference</th>\n",
              "      <th>feedback</th>\n",
              "      <th>summary</th>\n",
              "      <th>sentiment</th>\n",
              "      <th>sent_score</th>\n",
              "      <th>churn_risk_score</th>\n",
              "      <th>reasons</th>\n",
              "    </tr>\n",
              "  </thead>\n",
              "  <tbody>\n",
              "    <tr>\n",
              "      <th>14</th>\n",
              "      <td>fffe43004900440033003800340037003700</td>\n",
              "      <td>Damaris Zamorano</td>\n",
              "      <td>23</td>\n",
              "      <td>F</td>\n",
              "      <td>6X94SCD</td>\n",
              "      <td>Town</td>\n",
              "      <td>No Membership</td>\n",
              "      <td>2016-04-25</td>\n",
              "      <td>No</td>\n",
              "      <td>xxxxxxxx</td>\n",
              "      <td>...</td>\n",
              "      <td>-6.860127860435156</td>\n",
              "      <td>663.97</td>\n",
              "      <td>Yes</td>\n",
              "      <td>No</td>\n",
              "      <td>Very disappointed in this product- not very we...</td>\n",
              "      <td>disappointed!</td>\n",
              "      <td>1</td>\n",
              "      <td>0.989513</td>\n",
              "      <td>3</td>\n",
              "      <td></td>\n",
              "    </tr>\n",
              "  </tbody>\n",
              "</table>\n",
              "<p>1 rows × 27 columns</p>\n",
              "</div>\n",
              "    <div class=\"colab-df-buttons\">\n",
              "\n",
              "  <div class=\"colab-df-container\">\n",
              "    <button class=\"colab-df-convert\" onclick=\"convertToInteractive('df-af716580-270e-4dfd-a82b-3cb5ea3908f7')\"\n",
              "            title=\"Convert this dataframe to an interactive table.\"\n",
              "            style=\"display:none;\">\n",
              "\n",
              "  <svg xmlns=\"http://www.w3.org/2000/svg\" height=\"24px\" viewBox=\"0 -960 960 960\">\n",
              "    <path d=\"M120-120v-720h720v720H120Zm60-500h600v-160H180v160Zm220 220h160v-160H400v160Zm0 220h160v-160H400v160ZM180-400h160v-160H180v160Zm440 0h160v-160H620v160ZM180-180h160v-160H180v160Zm440 0h160v-160H620v160Z\"/>\n",
              "  </svg>\n",
              "    </button>\n",
              "\n",
              "  <style>\n",
              "    .colab-df-container {\n",
              "      display:flex;\n",
              "      gap: 12px;\n",
              "    }\n",
              "\n",
              "    .colab-df-convert {\n",
              "      background-color: #E8F0FE;\n",
              "      border: none;\n",
              "      border-radius: 50%;\n",
              "      cursor: pointer;\n",
              "      display: none;\n",
              "      fill: #1967D2;\n",
              "      height: 32px;\n",
              "      padding: 0 0 0 0;\n",
              "      width: 32px;\n",
              "    }\n",
              "\n",
              "    .colab-df-convert:hover {\n",
              "      background-color: #E2EBFA;\n",
              "      box-shadow: 0px 1px 2px rgba(60, 64, 67, 0.3), 0px 1px 3px 1px rgba(60, 64, 67, 0.15);\n",
              "      fill: #174EA6;\n",
              "    }\n",
              "\n",
              "    .colab-df-buttons div {\n",
              "      margin-bottom: 4px;\n",
              "    }\n",
              "\n",
              "    [theme=dark] .colab-df-convert {\n",
              "      background-color: #3B4455;\n",
              "      fill: #D2E3FC;\n",
              "    }\n",
              "\n",
              "    [theme=dark] .colab-df-convert:hover {\n",
              "      background-color: #434B5C;\n",
              "      box-shadow: 0px 1px 3px 1px rgba(0, 0, 0, 0.15);\n",
              "      filter: drop-shadow(0px 1px 2px rgba(0, 0, 0, 0.3));\n",
              "      fill: #FFFFFF;\n",
              "    }\n",
              "  </style>\n",
              "\n",
              "    <script>\n",
              "      const buttonEl =\n",
              "        document.querySelector('#df-af716580-270e-4dfd-a82b-3cb5ea3908f7 button.colab-df-convert');\n",
              "      buttonEl.style.display =\n",
              "        google.colab.kernel.accessAllowed ? 'block' : 'none';\n",
              "\n",
              "      async function convertToInteractive(key) {\n",
              "        const element = document.querySelector('#df-af716580-270e-4dfd-a82b-3cb5ea3908f7');\n",
              "        const dataTable =\n",
              "          await google.colab.kernel.invokeFunction('convertToInteractive',\n",
              "                                                    [key], {});\n",
              "        if (!dataTable) return;\n",
              "\n",
              "        const docLinkHtml = 'Like what you see? Visit the ' +\n",
              "          '<a target=\"_blank\" href=https://colab.research.google.com/notebooks/data_table.ipynb>data table notebook</a>'\n",
              "          + ' to learn more about interactive tables.';\n",
              "        element.innerHTML = '';\n",
              "        dataTable['output_type'] = 'display_data';\n",
              "        await google.colab.output.renderOutput(dataTable, element);\n",
              "        const docLink = document.createElement('div');\n",
              "        docLink.innerHTML = docLinkHtml;\n",
              "        element.appendChild(docLink);\n",
              "      }\n",
              "    </script>\n",
              "  </div>\n",
              "\n",
              "    </div>\n",
              "  </div>\n"
            ],
            "application/vnd.google.colaboratory.intrinsic+json": {
              "type": "dataframe",
              "variable_name": "hight_churn_risk"
            }
          },
          "metadata": {},
          "execution_count": 106
        }
      ],
      "source": [
        "hight_churn_risk = df_pr[(df_pr['sentiment']==1)&(df_pr['churn_risk_score'])]\n",
        "reasons_column = []\n",
        "for doc in hight_churn_risk['feedback'].tolist():\n",
        "  nlp_doc = nlp(doc)\n",
        "  reasons_list = []\n",
        "  for ent in nlp_doc.ents:\n",
        "    reason = str(ent.text) + \" - \" + str(ent.label_)\n",
        "    reasons_list.append(reason)\n",
        "  reason_str = ';'.join(reasons_list)\n",
        "  reasons_column.append(reason_str)\n",
        "reasons_column = pd.DataFrame(reasons_column, columns=['reasons'])\n",
        "reasons_column.index = hight_churn_risk.index\n",
        "hight_churn_risk = pd.concat([hight_churn_risk,reasons_column], axis=1)\n",
        "hight_churn_risk"
      ]
    }
  ],
  "metadata": {
    "accelerator": "GPU",
    "colab": {
      "provenance": []
    },
    "gpuClass": "standard",
    "kernelspec": {
      "display_name": "Python 3",
      "name": "python3"
    },
    "language_info": {
      "name": "python"
    }
  },
  "nbformat": 4,
  "nbformat_minor": 0
}