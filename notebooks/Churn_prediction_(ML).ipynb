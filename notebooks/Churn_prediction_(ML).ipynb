{
  "cells": [
    {
      "cell_type": "code",
      "execution_count": 1,
      "metadata": {
        "colab": {
          "base_uri": "https://localhost:8080/"
        },
        "id": "e1H864Qyu1x_",
        "outputId": "3c33c338-9ff7-4b3c-9929-a5ab126f984a"
      },
      "outputs": [
        {
          "output_type": "stream",
          "name": "stdout",
          "text": [
            "Mounted at /content/drive\n"
          ]
        }
      ],
      "source": [
        "from google.colab import drive\n",
        "drive.mount('/content/drive')"
      ]
    },
    {
      "cell_type": "code",
      "execution_count": 2,
      "metadata": {
        "id": "nDRwH5mECVAs"
      },
      "outputs": [],
      "source": [
        "# --- Importing Libraries ---\n",
        "import spacy\n",
        "from spacy import displacy\n",
        "\n",
        "nlp = spacy.load(\"en_core_web_sm\")"
      ]
    },
    {
      "cell_type": "code",
      "execution_count": 3,
      "metadata": {
        "colab": {
          "base_uri": "https://localhost:8080/"
        },
        "id": "8kRggEbHu_yE",
        "outputId": "20c273b2-99f5-4003-8227-9b78d02d8ea1"
      },
      "outputs": [
        {
          "output_type": "stream",
          "name": "stderr",
          "text": [
            "[nltk_data] Downloading package stopwords to /root/nltk_data...\n",
            "[nltk_data]   Unzipping corpora/stopwords.zip.\n",
            "[nltk_data] Downloading package averaged_perceptron_tagger to\n",
            "[nltk_data]     /root/nltk_data...\n",
            "[nltk_data]   Unzipping taggers/averaged_perceptron_tagger.zip.\n",
            "[nltk_data] Downloading package wordnet to /root/nltk_data...\n",
            "[nltk_data] Downloading package omw-1.4 to /root/nltk_data...\n",
            "[nltk_data] Downloading package vader_lexicon to /root/nltk_data...\n",
            "[nltk_data] Downloading package averaged_perceptron_tagger_eng to\n",
            "[nltk_data]     /root/nltk_data...\n",
            "[nltk_data]   Unzipping taggers/averaged_perceptron_tagger_eng.zip.\n"
          ]
        },
        {
          "output_type": "execute_result",
          "data": {
            "text/plain": [
              "True"
            ]
          },
          "metadata": {},
          "execution_count": 3
        }
      ],
      "source": [
        "import nltk\n",
        "nltk.download('stopwords')\n",
        "nltk.download('averaged_perceptron_tagger')\n",
        "nltk.download('wordnet')\n",
        "nltk.download('omw-1.4')\n",
        "nltk.download('vader_lexicon')\n",
        "nltk.download('averaged_perceptron_tagger_eng')"
      ]
    },
    {
      "cell_type": "code",
      "execution_count": 4,
      "metadata": {
        "id": "sCzvJ3anCyTv"
      },
      "outputs": [],
      "source": [
        "import numpy as np\n",
        "import pandas as pd\n",
        "import tensorflow as tf\n",
        "import seaborn as sns\n",
        "import matplotlib.pyplot as plt\n",
        "%matplotlib inline\n",
        "from sklearn.model_selection import train_test_split\n",
        "from sklearn.metrics import f1_score\n",
        "import sklearn.base as skb\n",
        "import sklearn.metrics as skm\n",
        "import sklearn.model_selection as skms\n",
        "import sklearn.preprocessing as skp\n",
        "import sklearn.linear_model as sklm\n",
        "import warnings\n",
        "import string\n",
        "from nltk import pos_tag\n",
        "from nltk.corpus import stopwords\n",
        "from nltk.tokenize import WhitespaceTokenizer\n",
        "from nltk.stem import WordNetLemmatizer\n",
        "from xgboost import XGBClassifier\n",
        "import joblib\n",
        "from gensim.test.utils import common_texts\n",
        "from gensim.models.doc2vec import Doc2Vec, TaggedDocument\n",
        "from nltk.sentiment.vader import SentimentIntensityAnalyzer\n",
        "from collections import OrderedDict\n",
        "warnings.filterwarnings('ignore')\n",
        "import random\n",
        "from nltk.corpus import wordnet\n",
        "seed = 5\n",
        "np.random.seed(seed)\n",
        "\n",
        "sns.set_style('whitegrid')\n",
        "plt.style.use('seaborn-v0_8-deep')\n",
        "plt.style.use('fivethirtyeight')\n",
        "plt.rcParams['font.family'] = 'sans-serif'\n",
        "plt.rcParams['font.monospace'] = 'Ubunto Mono'\n",
        "plt.rcParams['font.size'] = 10\n",
        "plt.rcParams['axes.labelsize'] = 12\n",
        "plt.rcParams['axes.titlesize'] = 12\n",
        "plt.rcParams['xtick.labelsize'] = 8\n",
        "plt.rcParams['ytick.labelsize'] = 8\n",
        "plt.rcParams['legend.fontsize'] = 12\n",
        "plt.rcParams['figure.titlesize'] = 14\n",
        "plt.rcParams['figure.figsize'] = (12,8)"
      ]
    },
    {
      "cell_type": "markdown",
      "source": [
        "\n",
        "# Initialize and Applying sentiment analysis functions"
      ],
      "metadata": {
        "id": "Ig5zkd119FW8"
      }
    },
    {
      "cell_type": "code",
      "execution_count": 5,
      "metadata": {
        "id": "XV9WmzpoeG1G"
      },
      "outputs": [],
      "source": [
        "def get_wordnet_pos(pos_tag):\n",
        "    if pos_tag.startswith('J'):\n",
        "        return wordnet.ADJ\n",
        "    elif pos_tag.startswith('V'):\n",
        "        return wordnet.VERB\n",
        "    elif pos_tag.startswith('N'):\n",
        "        return wordnet.NOUN\n",
        "    elif pos_tag.startswith('R'):\n",
        "        return wordnet.ADV\n",
        "    else:\n",
        "        return wordnet.NOUN\n",
        "\n",
        "\n",
        "\n",
        "def clean_text(text):\n",
        "    text = text.lower()  # Convert text to lowercase\n",
        "    text = [word.strip(string.punctuation) for word in text.split(\" \")]  # Tokenize and remove punctuation\n",
        "    text = [word for word in text if not any(c.isdigit() for c in word)]  # Remove words with numbers\n",
        "    stop = stopwords.words('english')  # Define stopwords\n",
        "    text = [x for x in text if x not in stop]  # Remove stopwords\n",
        "    pos_tags = pos_tag(text)  # POS tagging\n",
        "    text = [WordNetLemmatizer().lemmatize(t[0], get_wordnet_pos(t[1])) for t in pos_tags]  # Lemmatization\n",
        "    text = [t for t in text if len(t) > 1]  # Remove words with only one letter\n",
        "    return \" \".join(text)\n",
        "\n",
        "def sentiment_feedback(sentiment_df, doc2vec_model, tfidf_vectorizer, xgb):\n",
        "\n",
        "    sentiment_df.dropna()\n",
        "    sentiment_df.mask(sentiment_df.eq('None')).dropna()\n",
        "    sentiment_df.mask(sentiment_df.astype(object).eq('None')).dropna()\n",
        "    sentiment_df = sentiment_df.replace(to_replace='None', value=np.nan).dropna()\n",
        "    sentiment_df = sentiment_df.rename(columns={\"content\": \"review\"})\n",
        "\n",
        "    sentiment_df[\"review_clean\"] = sentiment_df[\"review\"].apply(lambda x: clean_text(x))\n",
        "    sentiment_df[\"summary_clean\"] = sentiment_df[\"summary\"].apply(lambda x: clean_text(x))\n",
        "\n",
        "    sid = SentimentIntensityAnalyzer()\n",
        "    sentiment_df[\"sentiments\"] = sentiment_df[\"review\"].apply(lambda x: sid.polarity_scores(x))\n",
        "    sentiment_df = pd.concat([sentiment_df.drop(['sentiments'], axis=1), sentiment_df['sentiments'].apply(pd.Series)], axis=1)\n",
        "    sentiment_df = sentiment_df.rename(columns={\"neg\": \"neg_rw\", \"neu\": \"neu_rw\",\"pos\": \"pos_rw\", \"compound\": \"compound_rw\"})\n",
        "\n",
        "    sentiment_df[\"sentiments_sm\"] = sentiment_df[\"summary\"].apply(lambda x: sid.polarity_scores(x))\n",
        "    sentiment_df = pd.concat([sentiment_df.drop(['sentiments_sm'], axis=1), sentiment_df['sentiments_sm'].apply(pd.Series)], axis=1)\n",
        "    sentiment_df = sentiment_df.rename(columns={\"neg\": \"neg_sm\", \"neu\": \"neu_sm\",\"pos\": \"pos_sm\", \"compound\": \"compound_sm\"})\n",
        "    sentiment_df = sentiment_df.rename(columns={\"neg_rw\": \"neg\", \"neu_rw\": \"neu\",\"pos_rw\": \"pos\", \"compound_rw\": \"compound\"})\n",
        "\n",
        "    # add number of characters column\n",
        "    sentiment_df[\"nb_chars\"] = sentiment_df[\"review\"].apply(lambda x: len(x))\n",
        "    sentiment_df[\"nb_chars_sm\"] = sentiment_df[\"summary\"].apply(lambda x: len(x))\n",
        "\n",
        "    # add number of words column\n",
        "    sentiment_df[\"nb_words\"] = sentiment_df[\"review\"].apply(lambda x: len(x.split(\" \")))\n",
        "    sentiment_df[\"nb_words_sm\"] = sentiment_df[\"summary\"].apply(lambda x: len(x.split(\" \")))\n",
        "\n",
        "    # transform each document into a vector data\n",
        "\n",
        "    doc2vec_df = sentiment_df[\"review_clean\"].apply(lambda x: doc2vec_model.infer_vector(x.split(\" \"))).apply(pd.Series)\n",
        "    doc2vec_df.columns = [\"doc2vec_rw_vector_\" + str(x) for x in doc2vec_df.columns]\n",
        "    sentiment_df = pd.concat([sentiment_df, doc2vec_df], axis=1)\n",
        "    doc2vec_df_sm = sentiment_df[\"summary_clean\"].apply(lambda x: doc2vec_model.infer_vector(x.split(\" \"))).apply(pd.Series)\n",
        "    doc2vec_df_sm.columns = [\"doc2vec_sm_vector_\" + str(x) for x in doc2vec_df_sm.columns]\n",
        "    sentiment_df = pd.concat([sentiment_df, doc2vec_df_sm], axis=1)\n",
        "\n",
        "\n",
        "    merge_clean = sentiment_df[[\"review_clean\", \"summary_clean\"]].apply(lambda x: \" \".join(x), axis=1)\n",
        "    merge_clean = merge_clean.apply(lambda x: list(OrderedDict.fromkeys(x.split(\" \"))))\n",
        "    merge_clean = merge_clean.apply(lambda x: \" \".join(x))\n",
        "\n",
        "    tfidf_result = tfidf_vectorizer.transform(merge_clean).toarray()\n",
        "    tfidf_df = pd.DataFrame(tfidf_result, columns=tfidf_vectorizer.get_feature_names_out())\n",
        "    tfidf_df.columns = [\"word_\" + str(x) for x in tfidf_df.columns]\n",
        "    tfidf_df.index = sentiment_df.index\n",
        "    sentiment_df = pd.concat([sentiment_df, tfidf_df], axis=1)\n",
        "\n",
        "    sentiment_df = sentiment_df.loc[:, ~sentiment_df.columns.duplicated()].copy()\n",
        "\n",
        "    ignore_cols = [\"review\", \"review_clean\", \"summary\",'summary_clean']\n",
        "    features = [c for c in sentiment_df.columns if c not in ignore_cols]\n",
        "\n",
        "    X_test = sentiment_df[features]\n",
        "\n",
        "    y_pred_list = xgb.predict_proba(X_test)\n",
        "    y_pred = [np.max(x) for x in y_pred_list]\n",
        "    y_pred_f = xgb.predict(X_test)\n",
        "    y_pred_f = list(y_pred_f)\n",
        "    output_df = pd.DataFrame(list(zip(y_pred_f, y_pred)), columns=['sentiment','sent_score'])\n",
        "\n",
        "    return output_df\n"
      ]
    },
    {
      "cell_type": "markdown",
      "metadata": {
        "id": "749aoLjAvVxZ"
      },
      "source": [
        "CHURN PREDICTION PART"
      ]
    },
    {
      "cell_type": "code",
      "source": [
        "# --- Load NLP models ---\n",
        "doc2vec_model = Doc2Vec.load('/content/drive/MyDrive/churn_prediction/models/sentimenta_doc2vec_model')\n",
        "tfidf_vectorizer = joblib.load('/content/drive/MyDrive/churn_prediction/models/sentimenta_tfidf_model')\n",
        "xgb_model = joblib.load('/content/drive/MyDrive/churn_prediction/models/sentimenta_xgb_model.pkl')\n"
      ],
      "metadata": {
        "id": "o_F7O2aDrjAh"
      },
      "execution_count": 6,
      "outputs": []
    },
    {
      "cell_type": "code",
      "source": [
        "\n",
        "# --- Load data ---\n",
        "df = pd.read_csv('/content/drive/MyDrive/churn_prediction/data/customers/churn_train.csv')\n",
        "df_test = pd.read_csv('/content/drive/MyDrive/churn_prediction/data/customers/churn_test.csv')\n",
        "df = df.rename(columns={\"churn_score\": \"churn_risk_score\", 'content': 'feedback'})\n",
        "df_test = df_test.rename(columns={'content':'feedback'})\n",
        "df['region_category'] = df['region_category'].fillna('Other')\n",
        "df_test['region_category'] = df_test['region_category'].fillna('Other')\n",
        "df['avg_transaction_value'] *= 0.01\n",
        "df_test['avg_transaction_value'] = df_test['avg_transaction_value'].apply(lambda x: x*0.01)# Scale transaction value for better analysis\n"
      ],
      "metadata": {
        "id": "SabPRE9Rrn7p"
      },
      "execution_count": 7,
      "outputs": []
    },
    {
      "cell_type": "code",
      "source": [
        "# --- Preprocess sentiment data ---\n",
        "\n",
        "to_sentiment_df = pd.DataFrame(df[['feedback','summary']], columns=['feedback','summary'])\n",
        "to_sentiment_df = to_sentiment_df.rename(columns={'feedback':'content'})\n",
        "to_sentiment_df_test = pd.DataFrame(df_test[['feedback','summary']], columns=['feedback','summary'])\n",
        "to_sentiment_df_test = to_sentiment_df_test.rename(columns={'feedback':'content'})\n",
        "\n",
        "output_sentiment_df = sentiment_feedback(to_sentiment_df, doc2vec_model, tfidf_vectorizer, xgb_model)\n",
        "output_sentiment_df_test = sentiment_feedback(to_sentiment_df_test, doc2vec_model, tfidf_vectorizer, xgb_model)\n",
        "\n",
        "\n",
        "output_sentiment_df.index = df.index\n",
        "output_sentiment_df_test.index = df_test.index\n",
        "df = pd.concat([df,output_sentiment_df], axis=1)\n",
        "df_test = pd.concat([df_test,output_sentiment_df_test], axis=1)\n",
        "\n",
        "df=df.drop('Unnamed: 0', axis=1)\n",
        "df_test=df_test.drop('Unnamed: 0', axis=1)\n",
        "df_test=df_test.drop('sentiments', axis=1)\n"
      ],
      "metadata": {
        "id": "YqjgdOR7r5Ry"
      },
      "execution_count": 8,
      "outputs": []
    },
    {
      "cell_type": "code",
      "source": [
        "targetFeature = 'churn_risk_score'"
      ],
      "metadata": {
        "id": "9mqLSTv0yhEe"
      },
      "execution_count": 9,
      "outputs": []
    },
    {
      "cell_type": "code",
      "execution_count": 10,
      "metadata": {
        "id": "SheaXXzMc_Kw"
      },
      "outputs": [],
      "source": [
        "# --- Separate numerical and categorical features ---\n",
        "def divide_features(df):\n",
        "    \"\"\"Separates numerical and categorical features.\"\"\"\n",
        "    numerical_features = df.select_dtypes(include=[np.number])\n",
        "    categorical_features = df.select_dtypes(include=[object])\n",
        "    return numerical_features, categorical_features\n",
        "\n",
        "num_features, cat_features = divide_features(df)\n",
        "\n",
        "\n",
        "\n",
        "\n",
        "\n"
      ]
    },
    {
      "cell_type": "code",
      "source": [
        "# --- Dropping Unnecessary Columns ---\n",
        "df.drop(['customer_id','Name','security_no','referral_id'],axis=1,inplace=True)\n",
        "df_test.drop(['customer_id','Name','security_no','referral_id'],axis=1,inplace=True)\n",
        "\n",
        "\n"
      ],
      "metadata": {
        "id": "BeRrWEq7FjKf"
      },
      "execution_count": 11,
      "outputs": []
    },
    {
      "cell_type": "code",
      "source": [
        "#Counting avg_frequency_login_days feature\n",
        "num_feature, cat_feature = divide_features(df)\n",
        "cat_feature['avg_frequency_login_days'].replace(['Error'],np.nan,inplace=True)\n",
        "arr = cat_feature['avg_frequency_login_days'].unique()"
      ],
      "metadata": {
        "id": "Pv0_5PUYFjAY"
      },
      "execution_count": 12,
      "outputs": []
    },
    {
      "cell_type": "code",
      "execution_count": 13,
      "metadata": {
        "id": "cqiNYqc0lQRQ"
      },
      "outputs": [],
      "source": [
        "# --- Handling Missing and Erroneous Values ---\n",
        "df['avg_frequency_login_days'].replace(['Error'],np.nan,inplace=True)\n",
        "df_test['avg_frequency_login_days'].replace(['Error'],np.nan,inplace=True)\n",
        "df['avg_frequency_login_days'] = df['avg_frequency_login_days'].astype('float64')\n",
        "df_test['avg_frequency_login_days'] = df_test['avg_frequency_login_days'].astype('float64')"
      ]
    },
    {
      "cell_type": "code",
      "execution_count": 14,
      "metadata": {
        "id": "v-DDtXwvlQI3"
      },
      "outputs": [],
      "source": [
        "#Initialising num_feature and cat_feature\n",
        "num_feature,cat_feature = divide_features(df)\n",
        "skewed_features = num_feature.apply(lambda x:x.skew()).sort_values(ascending=False)"
      ]
    },
    {
      "cell_type": "code",
      "execution_count": 15,
      "metadata": {
        "id": "yT9JMD4slwPS"
      },
      "outputs": [],
      "source": [
        "# Dropping all rows whose 'avg_time_spent' is negative\n",
        "low = df['avg_time_spent'] < 0\n",
        "low = np.where(low)\n",
        "df.drop(low[0],inplace=True)"
      ]
    },
    {
      "cell_type": "code",
      "execution_count": 16,
      "metadata": {
        "id": "dmT08vU-lwIM"
      },
      "outputs": [],
      "source": [
        "# Reseting the default index\n",
        "df.index = range(0,df.shape[0])"
      ]
    },
    {
      "cell_type": "code",
      "execution_count": 17,
      "metadata": {
        "id": "qtQvMgd9lwFQ"
      },
      "outputs": [],
      "source": [
        "# Dropping all rows whose 'points_in_wallet' is negative\n",
        "l1 = np.where(df['points_in_wallet'] < 0)\n",
        "df.drop(l1[0],inplace=True)\n",
        "df.index = range(0,df.shape[0])"
      ]
    },
    {
      "cell_type": "code",
      "execution_count": 18,
      "metadata": {
        "id": "CW7--GOmlwCF"
      },
      "outputs": [],
      "source": [
        "# Dropping all rows whose 'avg_frequency_login_days' is negative\n",
        "l2 = np.where(df['avg_frequency_login_days'] < 0)\n",
        "df.drop(l2[0],inplace=True)\n",
        "df.index = range(0,df.shape[0])"
      ]
    },
    {
      "cell_type": "code",
      "execution_count": 19,
      "metadata": {
        "id": "XAeYAAzklv6e"
      },
      "outputs": [],
      "source": [
        "# Dropping all rows whose 'avg_transaction_value' is negative\n",
        "l3 = np.where(df['avg_transaction_value'] < 0)\n",
        "df.drop(l3[0],inplace=True)\n",
        "df.index = range(0,df.shape[0])"
      ]
    },
    {
      "cell_type": "code",
      "execution_count": 20,
      "metadata": {
        "id": "IDpDLHDxlvpt"
      },
      "outputs": [],
      "source": [
        "# Dropping all rows whose 'days_since_last_login' is negative\n",
        "l4 = np.where(df['days_since_last_login'] < 0)\n",
        "df.drop(l4[0],inplace=True)\n",
        "df.index = range(0,df.shape[0])"
      ]
    },
    {
      "cell_type": "code",
      "execution_count": 21,
      "metadata": {
        "id": "xDUd3_uxmWJb"
      },
      "outputs": [],
      "source": [
        "df.dropna(how='any',inplace=True)"
      ]
    },
    {
      "cell_type": "code",
      "execution_count": 22,
      "metadata": {
        "id": "U_w08bdRmV8E"
      },
      "outputs": [],
      "source": [
        "# Convert dates to datetime\n",
        "df['joining_date'] = pd.to_datetime(df['joining_date'])\n",
        "df['last_visit_time'] = pd.to_datetime(df['last_visit_time'])\n",
        "\n",
        "df_test['joining_date'] = pd.to_datetime(df_test['joining_date'])\n",
        "df_test['last_visit_time'] = pd.to_datetime(df_test['last_visit_time'])"
      ]
    },
    {
      "cell_type": "code",
      "execution_count": 23,
      "metadata": {
        "id": "Y0dXGDGwmV3C"
      },
      "outputs": [],
      "source": [
        "# Extract date features\n",
        "df['jday'] = df['joining_date'].dt.day\n",
        "df['jmonth'] = df['joining_date'].dt.month\n",
        "df['jweek'] = df['joining_date'].dt.isocalendar().week\n",
        "df_test['jday'] = df_test['joining_date'].dt.day\n",
        "df_test['jmonth'] = df_test['joining_date'].dt.month\n",
        "df_test['jweek'] = df_test['joining_date'].dt.isocalendar().week"
      ]
    },
    {
      "cell_type": "code",
      "execution_count": 24,
      "metadata": {
        "id": "SS5fDolmmV0H"
      },
      "outputs": [],
      "source": [
        "# Extract days_since_join feature\n",
        "df['diff'] =  ((df['last_visit_time'] - df['joining_date']).apply(lambda x:str(x).split()[0])).astype('float64')\n",
        "df_test['diff'] =  ((df_test['last_visit_time'] - df_test['joining_date']).apply(lambda x:str(x).split()[0])).astype('float64')"
      ]
    },
    {
      "cell_type": "code",
      "execution_count": 25,
      "metadata": {
        "id": "sJTk9TGQmVxe"
      },
      "outputs": [],
      "source": [
        "# Clearly target labels are imbalanced. Using Over sampling techinques\n",
        "df.index = range(0,df.shape[0])\n",
        "\n",
        "# Removing all the rows having 'churn_risk_score' == -1\n",
        "l5 = np.where(df['churn_risk_score'] == -1)\n",
        "df.drop(l5[0],inplace=True)\n",
        "df.index = range(0,df.shape[0])"
      ]
    },
    {
      "cell_type": "code",
      "execution_count": 26,
      "metadata": {
        "id": "9cpk1u_amVue"
      },
      "outputs": [],
      "source": [
        "# Selecting categorical features into a new dataframe\n",
        "sm = ['gender','region_category','membership_category','joined_through_referral',\n",
        "      'preferred_offer_types','medium_of_operation','internet_option','used_special_discount',\n",
        "       'offer_application_preference']\n",
        "df_sm = df[sm]\n",
        "df_test_sm = df_test[sm]\n"
      ]
    },
    {
      "cell_type": "code",
      "execution_count": 27,
      "metadata": {
        "id": "cKCuNmTymVq7"
      },
      "outputs": [],
      "source": [
        "# Creating dummies for categorical feature columns\n",
        "df_sm = pd.get_dummies(df_sm)\n",
        "df_test_sm = pd.get_dummies(df_test_sm)\n"
      ]
    },
    {
      "cell_type": "code",
      "execution_count": 28,
      "metadata": {
        "id": "CnJzagLumVil"
      },
      "outputs": [],
      "source": [
        "# Selecting Numerical features into a new dataframe\n",
        "\n",
        "ss = ['days_since_last_login','avg_time_spent','avg_transaction_value','avg_frequency_login_days',\n",
        "'points_in_wallet','used_special_discount','sentiment','sent_score','churn_risk_score','jday','jmonth','jweek','diff']\n",
        "df_ss = df[ss]\n",
        "ss_t = ['days_since_last_login','avg_time_spent','avg_transaction_value','avg_frequency_login_days',\n",
        "'points_in_wallet','used_special_discount','sentiment','sent_score','jday','jmonth','jweek','diff']\n",
        "df_test_ss = df_test[ss_t]\n"
      ]
    },
    {
      "cell_type": "code",
      "execution_count": 29,
      "metadata": {
        "id": "FQZCuuejm4Qw"
      },
      "outputs": [],
      "source": [
        "# Concatenating the dummy columns and numerical feature columns into a new dataframe\n",
        "df_new = pd.concat([df_ss,df_sm],axis=1)\n",
        "df_test_new = pd.concat([df_test_ss,df_test_sm],axis=1)\n",
        "df_new.drop(['used_special_discount'],axis=1,inplace=True)\n",
        "df_test_new.drop(['used_special_discount'],axis=1,inplace=True)\n",
        "df_test_new['avg_frequency_login_days'].fillna(value=df_test_new['avg_frequency_login_days'].mean(),inplace=True)\n",
        "df_test_new['points_in_wallet'].fillna(value=df_test_new['points_in_wallet'].mean(),inplace=True)\n",
        "df_new.dropna(axis=0,how='any',inplace=True)"
      ]
    },
    {
      "cell_type": "code",
      "execution_count": 30,
      "metadata": {
        "id": "Qs_uSe09m380"
      },
      "outputs": [],
      "source": [
        "X = df_new.drop(['churn_risk_score'],axis=1).values\n",
        "Y = df_new['churn_risk_score'].values"
      ]
    },
    {
      "cell_type": "code",
      "execution_count": 31,
      "metadata": {
        "colab": {
          "base_uri": "https://localhost:8080/"
        },
        "id": "kB3gwwvMm308",
        "outputId": "b3a74fd0-cf16-48d3-fb44-e09b92d340cf"
      },
      "outputs": [
        {
          "output_type": "stream",
          "name": "stdout",
          "text": [
            "The dataset before oversampling:  (25668, 41) (25668,)\n",
            "The dataset after oversampling:  (37570, 41) (37570,)\n"
          ]
        }
      ],
      "source": [
        "# Applying SMOTE Over Sampling Strategy\n",
        "from imblearn.over_sampling import SMOTE\n",
        "oversampler = SMOTE()\n",
        "X_ov,Y_ov = oversampler.fit_resample(X,Y)\n",
        "print('The dataset before oversampling: ',X.shape,Y.shape)\n",
        "print('The dataset after oversampling: ',X_ov.shape,Y_ov.shape)"
      ]
    },
    {
      "cell_type": "code",
      "execution_count": 32,
      "metadata": {
        "id": "613pelTgm3rj"
      },
      "outputs": [],
      "source": [
        "from sklearn.preprocessing import RobustScaler\n",
        "scaler = RobustScaler()\n",
        "X_ov = scaler.fit_transform(X_ov)\n",
        "X_test = df_test_new.values\n",
        "X_test = scaler.transform(X_test)"
      ]
    },
    {
      "cell_type": "code",
      "execution_count": 33,
      "metadata": {
        "id": "YbffBnQcnd2S"
      },
      "outputs": [],
      "source": [
        "x_train,x_test,y_train,y_test = train_test_split(X_ov,Y_ov,train_size=0.7)"
      ]
    },
    {
      "cell_type": "code",
      "execution_count": 34,
      "metadata": {
        "id": "bim5ktXendoR"
      },
      "outputs": [],
      "source": [
        "from sklearn.metrics import classification_report,confusion_matrix,f1_score"
      ]
    },
    {
      "cell_type": "code",
      "execution_count": 35,
      "metadata": {
        "id": "D6H4GD_Jziwm",
        "colab": {
          "base_uri": "https://localhost:8080/",
          "height": 558
        },
        "outputId": "936e7c7f-4e2d-46d3-ac63-39075769e89f"
      },
      "outputs": [
        {
          "output_type": "display_data",
          "data": {
            "text/plain": [
              "<Figure size 1200x800 with 1 Axes>"
            ],
            "image/png": "[encoded data removed]"
          },
          "metadata": {}
        }
      ],
      "source": [
        "from sklearn.ensemble import RandomForestClassifier\n",
        "from sklearn.metrics import classification_report,confusion_matrix,f1_score\n",
        "rf = RandomForestClassifier(n_estimators=200,max_depth=25, n_jobs=-1)\n",
        "rf.fit(x_train,y_train)\n",
        "importances = rf.feature_importances_\n",
        "indices = np.argsort(importances)[::-1]\n",
        "\n",
        "# Візуалізація важливості ознак\n",
        "plt.figure()\n",
        "plt.title(\"Feature importances\")\n",
        "plt.bar(range(len(importances)), importances[indices], align=\"center\")\n",
        "plt.xticks(range(len(importances)), indices, rotation=90)\n",
        "plt.xlim([-1, len(importances)])\n",
        "plt.show()\n"
      ]
    },
    {
      "cell_type": "code",
      "source": [
        "# Save feature names before scaling\n",
        "feature_names = df_new.drop(['churn_risk_score'], axis=1).columns\n",
        "\n",
        "# Convert x_train and x_test back to DataFrame with feature names\n",
        "x_train = pd.DataFrame(x_train, columns=feature_names)\n",
        "x_test = pd.DataFrame(x_test, columns=feature_names)"
      ],
      "metadata": {
        "id": "d3NEwyvI3CSY"
      },
      "execution_count": 36,
      "outputs": []
    },
    {
      "cell_type": "code",
      "source": [
        "# Selecting top important features\n",
        "important_features = x_train.columns[indices[:15]]\n",
        "x_train_reduced = x_train[important_features]\n",
        "x_test_reduced = x_test[important_features]"
      ],
      "metadata": {
        "id": "DCPuIqSlY0FW"
      },
      "execution_count": 37,
      "outputs": []
    },
    {
      "cell_type": "code",
      "source": [
        "# # Defining parameter grid for hyperparameter tuning\n",
        "# from sklearn.model_selection import GridSearchCV\n",
        "# param_grid = {\n",
        "#     'n_estimators': [50, 100, 200],         # Number of trees in the forest\n",
        "#     'max_depth': [5, 10, 15],               # Maximum depth of the tree\n",
        "#     'min_samples_split': [2, 5, 10],        # Minimum number of samples required to split an internal node\n",
        "#     'min_samples_leaf': [1, 2, 4],          # Minimum number of samples required to be at a leaf node\n",
        "# }\n",
        "\n",
        "# # Using GridSearchCV for hyperparameter tuning\n",
        "# rf = RandomForestClassifier(random_state=42)\n",
        "# grid_search = GridSearchCV(\n",
        "#     estimator=rf,\n",
        "#     param_grid=param_grid,\n",
        "#     scoring='f1_macro',\n",
        "#     cv=3,                # 3-fold cross-validation\n",
        "#     verbose=2,\n",
        "#     n_jobs=-1\n",
        "# )\n",
        "# grid_search.fit(x_train_reduced, y_train)\n",
        "\n",
        "# # Extracting the best model\n",
        "# best_rf = grid_search.best_estimator_\n",
        "\n",
        "# # Fitting the best model\n",
        "# best_rf.fit(x_train_reduced, y_train)\n",
        "\n",
        "# # Making predictions\n",
        "# y_pred_reduced = best_rf.predict(x_test_reduced)\n",
        "\n",
        "# # Evaluation metrics\n",
        "# print(\"Best Parameters:\", grid_search.best_params_)\n",
        "# print(classification_report(y_true=y_test, y_pred=y_pred_reduced))\n",
        "# print(\"F1 Macro Score:\", f1_score(y_true=y_test, y_pred=y_pred_reduced, average='macro'))"
      ],
      "metadata": {
        "id": "_Q5sJLYbfEdL"
      },
      "execution_count": 38,
      "outputs": []
    },
    {
      "cell_type": "markdown",
      "source": [
        "## This Text field is a copy of the results of the previos segment wich showing process of searching optimal paramets using GridSearchCV\n",
        "Fitting 3 folds for each of 81 candidates, totalling 243 fits\n",
        "Best Parameters: {'max_depth': 15, 'min_samples_leaf': 1, 'min_samples_split': 2, 'n_estimators': 200}\n",
        "              precision    recall  f1-score   support\n",
        "\n",
        "           1       0.86      0.88      0.87      2249\n",
        "           2       0.94      0.72      0.82      2224\n",
        "           3       0.74      0.93      0.82      2304\n",
        "           4       0.76      0.70      0.73      2237\n",
        "           5       0.81      0.83      0.82      2257\n",
        "\n",
        "    accuracy                           0.81     11271\n",
        "   macro avg       0.82      0.81      0.81     11271\n",
        "weighted avg       0.82      0.81      0.81     11271\n",
        "\n",
        "F1 Macro Score: 0.8111418154706816"
      ],
      "metadata": {
        "id": "_oIhTYe6ZHo1"
      }
    },
    {
      "cell_type": "code",
      "source": [
        "# Random Forest Classifier with optimized parameters\n",
        "optimized_rf = RandomForestClassifier(\n",
        "    n_estimators=200,       # Number of trees in the forest\n",
        "    max_depth=15,           # Maximum depth of the trees\n",
        "    min_samples_split=2,    # Minimum samples required to split an internal node\n",
        "    min_samples_leaf=1,     # Minimum samples required to be at a leaf node\n",
        "    random_state=42         # Ensures reproducibility\n",
        ")\n",
        "\n",
        "# Fitting the model\n",
        "optimized_rf.fit(x_train_reduced, y_train)\n",
        "\n",
        "# Making predictions\n",
        "y_pred_reduced = optimized_rf.predict(x_test_reduced)\n",
        "\n",
        "# Evaluation metrics\n",
        "print(\"Classification Report:\")\n",
        "print(classification_report(y_true=y_test, y_pred=y_pred_reduced))\n",
        "print(\"F1 Macro Score:\", f1_score(y_true=y_test, y_pred=y_pred_reduced, average='macro'))\n"
      ],
      "metadata": {
        "colab": {
          "base_uri": "https://localhost:8080/"
        },
        "id": "WnoMNebkYwT-",
        "outputId": "5d5001dd-b951-4565-8f0a-846f62584c9e"
      },
      "execution_count": 39,
      "outputs": [
        {
          "output_type": "stream",
          "name": "stdout",
          "text": [
            "Classification Report:\n",
            "              precision    recall  f1-score   support\n",
            "\n",
            "           1       0.86      0.88      0.87      2249\n",
            "           2       0.94      0.72      0.82      2224\n",
            "           3       0.75      0.93      0.83      2304\n",
            "           4       0.75      0.72      0.73      2237\n",
            "           5       0.82      0.82      0.82      2257\n",
            "\n",
            "    accuracy                           0.81     11271\n",
            "   macro avg       0.82      0.81      0.81     11271\n",
            "weighted avg       0.82      0.81      0.81     11271\n",
            "\n",
            "F1 Macro Score: 0.8138046585791662\n"
          ]
        }
      ]
    },
    {
      "cell_type": "code",
      "execution_count": 40,
      "metadata": {
        "id": "TqReonvjziBv",
        "colab": {
          "base_uri": "https://localhost:8080/",
          "height": 561
        },
        "outputId": "88e95b21-6bd9-4d4f-bb8f-c79faa7f043b"
      },
      "outputs": [
        {
          "output_type": "display_data",
          "data": {
            "text/plain": [
              "<Figure size 600x600 with 2 Axes>"
            ],
            "image/png": "[encoded data removed]"
          },
          "metadata": {}
        }
      ],
      "source": [
        "fig = plt.figure(figsize=(6, 6))\n",
        "ax= plt.subplot()\n",
        "cm = confusion_matrix(y_true=y_test,y_pred=y_pred_reduced)\n",
        "sns.heatmap(cm, annot=True, ax = ax, fmt = 'g', cmap = sns.cubehelix_palette(as_cmap=True))\n",
        "ax.set_xlabel('Predicted label')\n",
        "ax.set_ylabel('Actual label')\n",
        "plt.show()"
      ]
    },
    {
      "cell_type": "code",
      "source": [
        "# Saving RandomForestClassifier\n",
        "joblib.dump(optimized_rf, '/content/drive/MyDrive/churn_prediction/models/random_forest_model.pkl')"
      ],
      "metadata": {
        "colab": {
          "base_uri": "https://localhost:8080/"
        },
        "id": "nBSzpY8xW0mY",
        "outputId": "9937e9a4-3ca2-4fee-dfc3-7819d0b997c7"
      },
      "execution_count": 41,
      "outputs": [
        {
          "output_type": "execute_result",
          "data": {
            "text/plain": [
              "['/content/drive/MyDrive/churn_prediction/models/random_forest_model.pkl']"
            ]
          },
          "metadata": {},
          "execution_count": 41
        }
      ]
    },
    {
      "cell_type": "code",
      "execution_count": 42,
      "metadata": {
        "id": "oZeayvo_zLYo",
        "colab": {
          "base_uri": "https://localhost:8080/"
        },
        "outputId": "baa9512f-c033-4ad9-c369-592411c02a67"
      },
      "outputs": [
        {
          "output_type": "stream",
          "name": "stdout",
          "text": [
            "Classification Report:\n",
            "              precision    recall  f1-score   support\n",
            "\n",
            "           1       0.86      0.89      0.88      2249\n",
            "           2       0.82      0.83      0.82      2224\n",
            "           3       0.79      0.76      0.77      2304\n",
            "           4       0.72      0.75      0.74      2237\n",
            "           5       0.83      0.80      0.82      2257\n",
            "\n",
            "    accuracy                           0.81     11271\n",
            "   macro avg       0.81      0.81      0.81     11271\n",
            "weighted avg       0.81      0.81      0.81     11271\n",
            "\n",
            "F1 Macro Score: 0.8053769948508421\n"
          ]
        }
      ],
      "source": [
        "from sklearn.neural_network import MLPClassifier\n",
        "# Optimized MLPClassifier\n",
        "optimized_mlp = MLPClassifier(\n",
        "    hidden_layer_sizes=(256, 128, 64),  # Three layers: from bigger to smaller\n",
        "    activation='tanh',                # Activation function\n",
        "    solver='adam',                    # Optimization algorithm\n",
        "    alpha=0.0001,                     # L2 regularization\n",
        "    learning_rate='adaptive',         # Adaptive learning\n",
        "    max_iter=1000,                     # Maximum number of iterations\n",
        "    random_state=42,                  # For repeatable results\n",
        "    early_stopping=True,              # Termination of training in the absence of improvement\n",
        "    validation_fraction=0.1           # Share of data for validation\n",
        ")\n",
        "\n",
        "# Training the model\n",
        "optimized_mlp.fit(x_train, y_train)\n",
        "\n",
        "# Making predictions\n",
        "y_pred = optimized_mlp.predict(x_test)\n",
        "\n",
        "# Evaluation metrics\n",
        "print(\"Classification Report:\")\n",
        "print(classification_report(y_true=y_test, y_pred=y_pred))\n",
        "print(\"F1 Macro Score:\", f1_score(y_true=y_test, y_pred=y_pred, average='macro'))"
      ]
    },
    {
      "cell_type": "code",
      "execution_count": 43,
      "metadata": {
        "id": "PNcm0Q2xzLOg",
        "colab": {
          "base_uri": "https://localhost:8080/",
          "height": 561
        },
        "outputId": "7d201774-df68-492e-cdae-44ea2c4283ad"
      },
      "outputs": [
        {
          "output_type": "display_data",
          "data": {
            "text/plain": [
              "<Figure size 600x600 with 2 Axes>"
            ],
            "image/png": "[encoded data removed]"
          },
          "metadata": {}
        }
      ],
      "source": [
        "fig = plt.figure(figsize=(6, 6))\n",
        "ax= plt.subplot()\n",
        "cm = confusion_matrix(y_true=y_test,y_pred=y_pred)\n",
        "sns.heatmap(cm, annot=True, ax = ax, fmt = 'g', cmap = 'crest')\n",
        "ax.set_xlabel('Predicted label')\n",
        "ax.set_ylabel('Actual label')\n",
        "plt.show()"
      ]
    },
    {
      "cell_type": "code",
      "source": [
        "# Saving MLPClassifier\n",
        "joblib.dump(optimized_mlp, '/content/drive/MyDrive/churn_prediction/models/mlp_classifier_model.pkl')"
      ],
      "metadata": {
        "colab": {
          "base_uri": "https://localhost:8080/"
        },
        "id": "e3CDBjSPoNtc",
        "outputId": "3afdf322-8861-4490-b54e-696ed942f223"
      },
      "execution_count": 44,
      "outputs": [
        {
          "output_type": "execute_result",
          "data": {
            "text/plain": [
              "['/content/drive/MyDrive/churn_prediction/models/mlp_classifier_model.pkl']"
            ]
          },
          "metadata": {},
          "execution_count": 44
        }
      ]
    },
    {
      "cell_type": "code",
      "source": [
        "# from sklearn.tree import DecisionTreeClassifier\n",
        "# from sklearn.model_selection import GridSearchCV\n",
        "\n",
        "\n",
        "# # Defining parameter grid for hyperparameter tuning\n",
        "# param_grid = {\n",
        "#     'criterion': ['gini', 'entropy'],      # Separation criteria\n",
        "#     'max_depth': [10, 15, 20, None],       # Maximum tree depth\n",
        "#     'min_samples_split': [2, 10, 20],      # Minimum number of samples for separation\n",
        "#     'min_samples_leaf': [1, 5, 10, 15],    # Minimum number of samples per letter\n",
        "#     'max_features': [None, 'sqrt', 'log2'] # Number of characters to divide\n",
        "# }\n",
        "\n",
        "# # Using GridSearchCV for hyperparameter tuning\n",
        "# tree = DecisionTreeClassifier(random_state=42)\n",
        "# grid_search = GridSearchCV(\n",
        "#     estimator=tree,\n",
        "#     param_grid=param_grid,\n",
        "#     scoring='f1_macro',\n",
        "#     cv=3,                # 3-fold cross-validation\n",
        "#     verbose=2,\n",
        "#     n_jobs=-1\n",
        "# )\n",
        "# grid_search.fit(x_train, y_train)\n",
        "\n",
        "# # Extracting the best model\n",
        "# best_tree = grid_search.best_estimator_\n",
        "\n",
        "# # Fitting the best model\n",
        "# best_tree.fit(x_train, y_train)\n",
        "\n",
        "# # Making predictions\n",
        "# y_pred = best_tree.predict(x_test)\n",
        "\n",
        "# # Evaluation metrics\n",
        "# print(\"Best Parameters:\", grid_search.best_params_)\n",
        "# print(\"Classification Report:\")\n",
        "# print(classification_report(y_true=y_test, y_pred=y_pred))\n",
        "# print(\"F1 Macro Score:\", f1_score(y_true=y_test, y_pred=y_pred, average='macro'))\n"
      ],
      "metadata": {
        "id": "AxrlcVnpsV1O"
      },
      "execution_count": 45,
      "outputs": []
    },
    {
      "cell_type": "markdown",
      "source": [
        "## This Text field is a copy of the results of the previos segment wich showing process of searching optimal paramets using GridSearchCV\n",
        "Fitting 3 folds for each of 288 candidates, totalling 864 fits\n",
        "Best Parameters: {'criterion': 'entropy', 'max_depth': 15, 'max_features': None, 'min_samples_leaf': 1, 'min_samples_split': 20}\n",
        "Classification Report:\n",
        "              precision    recall  f1-score   support\n",
        "\n",
        "           1       0.85      0.82      0.83      2249\n",
        "           2       0.82      0.75      0.78      2224\n",
        "           3       0.77      0.86      0.82      2304\n",
        "           4       0.71      0.82      0.76      2237\n",
        "           5       0.89      0.74      0.81      2257\n",
        "\n",
        "    accuracy                           0.80     11271\n",
        "   macro avg       0.81      0.80      0.80     11271\n",
        "weighted avg       0.81      0.80      0.80     11271\n",
        "\n",
        "F1 Macro Score: 0.7991347149780801"
      ],
      "metadata": {
        "id": "7nu3ivHRRJ6x"
      }
    },
    {
      "cell_type": "code",
      "source": [
        "from sklearn.tree import DecisionTreeClassifier\n",
        "optimized_tree = DecisionTreeClassifier(\n",
        "    criterion='entropy',  # Separation criteria\n",
        "    max_depth=15,         # Maximum tree depth\n",
        "    max_features=None,    # Number of characters to divide\n",
        "    min_samples_split=20, # Minimum number of samples for separation\n",
        "    min_samples_leaf=1    # Minimum number of samples per letter\n",
        "    )\n",
        "\n",
        "# Fitting the model\n",
        "optimized_tree.fit(x_train, y_train)\n",
        "\n",
        "# Making predictions\n",
        "y_pred = optimized_tree.predict(x_test)\n",
        "\n",
        "# Evaluation metrics\n",
        "print(\"Classification Report:\")\n",
        "print(classification_report(y_true=y_test, y_pred=y_pred))\n",
        "print(\"F1 Macro Score:\", f1_score(y_true=y_test, y_pred=y_pred, average='macro'))\n"
      ],
      "metadata": {
        "colab": {
          "base_uri": "https://localhost:8080/"
        },
        "id": "M5JAb5mlvklK",
        "outputId": "3cf8a22d-9f74-4ecd-c1bb-a1d45fce1f16"
      },
      "execution_count": 46,
      "outputs": [
        {
          "output_type": "stream",
          "name": "stdout",
          "text": [
            "Classification Report:\n",
            "              precision    recall  f1-score   support\n",
            "\n",
            "           1       0.85      0.82      0.83      2249\n",
            "           2       0.82      0.75      0.78      2224\n",
            "           3       0.76      0.87      0.81      2304\n",
            "           4       0.71      0.80      0.75      2237\n",
            "           5       0.88      0.74      0.80      2257\n",
            "\n",
            "    accuracy                           0.80     11271\n",
            "   macro avg       0.80      0.80      0.80     11271\n",
            "weighted avg       0.80      0.80      0.80     11271\n",
            "\n",
            "F1 Macro Score: 0.7967076891945565\n"
          ]
        }
      ]
    },
    {
      "cell_type": "code",
      "execution_count": 47,
      "metadata": {
        "id": "F1FyqOdMyG4S",
        "colab": {
          "base_uri": "https://localhost:8080/",
          "height": 563
        },
        "outputId": "f4e09652-d170-485a-fcb4-b930b88dfb14"
      },
      "outputs": [
        {
          "output_type": "display_data",
          "data": {
            "text/plain": [
              "<Figure size 600x600 with 2 Axes>"
            ],
            "image/png": "[encoded data removed]"
          },
          "metadata": {}
        }
      ],
      "source": [
        "fig = plt.figure(figsize=(6, 6))\n",
        "ax= plt.subplot()\n",
        "cm = confusion_matrix(y_true=y_test,y_pred=y_pred)\n",
        "sns.heatmap(cm, annot=True, ax = ax, fmt = 'g')\n",
        "ax.set_xlabel('Predicted label')\n",
        "ax.set_ylabel('Actual label')\n",
        "plt.show()"
      ]
    },
    {
      "cell_type": "code",
      "source": [
        "# Saving DecisionTreeClassifier\n",
        "joblib.dump(optimized_tree, '/content/drive/MyDrive/churn_prediction/models/decision_tree_model.pkl')"
      ],
      "metadata": {
        "colab": {
          "base_uri": "https://localhost:8080/"
        },
        "id": "kPaicRTJ05NT",
        "outputId": "655133c9-fcc7-4cfd-bdb6-006ff151ed6c"
      },
      "execution_count": 48,
      "outputs": [
        {
          "output_type": "execute_result",
          "data": {
            "text/plain": [
              "['/content/drive/MyDrive/churn_prediction/models/decision_tree_model.pkl']"
            ]
          },
          "metadata": {},
          "execution_count": 48
        }
      ]
    },
    {
      "cell_type": "code",
      "execution_count": 49,
      "metadata": {
        "id": "Q1_e3r1OyGv7",
        "colab": {
          "base_uri": "https://localhost:8080/"
        },
        "outputId": "df8dbc8c-672b-428e-f6bb-95555498ee0b"
      },
      "outputs": [
        {
          "output_type": "stream",
          "name": "stdout",
          "text": [
            "              precision    recall  f1-score   support\n",
            "\n",
            "           1       0.91      0.91      0.91      2249\n",
            "           2       0.95      0.84      0.89      2224\n",
            "           3       0.82      0.90      0.86      2304\n",
            "           4       0.73      0.77      0.75      2237\n",
            "           5       0.84      0.81      0.82      2257\n",
            "\n",
            "    accuracy                           0.84     11271\n",
            "   macro avg       0.85      0.84      0.85     11271\n",
            "weighted avg       0.85      0.84      0.85     11271\n",
            "\n",
            "0.8456388112935862\n"
          ]
        }
      ],
      "source": [
        "from sklearn.ensemble import GradientBoostingClassifier\n",
        "gbrt = GradientBoostingClassifier(\n",
        "    n_estimators=150,          # Number of trees (balances performance and computation time)\n",
        "    learning_rate=0.1,         # Learning rate (standard value for boosting)\n",
        "    max_depth=8,               # Maximum depth of each tree (slightly increased for better learning of relationships)\n",
        "    min_samples_split=10,      # Minimum samples required to split an internal node\n",
        "    min_samples_leaf=5,        # Minimum samples in a leaf node\n",
        "    subsample=1.0,             # Use the full dataset for training each tree\n",
        "    max_features='sqrt',       # Limit features considered for splits\n",
        "    random_state=42            # Ensures reproducibility\n",
        ")\n",
        "gbrt.fit(x_train,y_train)\n",
        "y_pred = gbrt.predict(x_test)\n",
        "print(classification_report(y_true=y_test,y_pred=y_pred))\n",
        "print(f1_score(y_true=y_test,y_pred=y_pred,average='macro'))"
      ]
    },
    {
      "cell_type": "code",
      "execution_count": 50,
      "metadata": {
        "id": "oLipHJdlyGdy",
        "colab": {
          "base_uri": "https://localhost:8080/",
          "height": 561
        },
        "outputId": "ed82f6bf-0032-40b4-8e34-89f33139194d"
      },
      "outputs": [
        {
          "output_type": "display_data",
          "data": {
            "text/plain": [
              "<Figure size 600x600 with 2 Axes>"
            ],
            "image/png": "[encoded data removed]"
          },
          "metadata": {}
        }
      ],
      "source": [
        "fig = plt.figure(figsize=(6, 6))\n",
        "ax= plt.subplot()\n",
        "cm = confusion_matrix(y_true=y_test,y_pred=y_pred)\n",
        "sns.heatmap(cm, annot=True, ax = ax, fmt = 'g', cmap = 'Greens')\n",
        "ax.set_xlabel('Predicted label')\n",
        "ax.set_ylabel('Actual label')\n",
        "plt.show()"
      ]
    },
    {
      "cell_type": "code",
      "source": [
        "# Saving GradientBoostingClassifier\n",
        "joblib.dump(gbrt, '/content/drive/MyDrive/churn_prediction/models/gradient_boosting_model.pkl')"
      ],
      "metadata": {
        "colab": {
          "base_uri": "https://localhost:8080/"
        },
        "id": "3SVs5dnvHots",
        "outputId": "acf51775-47b2-4be8-b309-9149df250014"
      },
      "execution_count": 51,
      "outputs": [
        {
          "output_type": "execute_result",
          "data": {
            "text/plain": [
              "['/content/drive/MyDrive/churn_prediction/models/gradient_boosting_model.pkl']"
            ]
          },
          "metadata": {},
          "execution_count": 51
        }
      ]
    },
    {
      "cell_type": "code",
      "source": [
        "from xgboost import XGBClassifier\n",
        "from sklearn.metrics import classification_report, f1_score\n",
        "\n",
        "# Initialize XGBoost Classifier with optimized parameters\n",
        "xgb_churn = XGBClassifier(\n",
        "    n_jobs=-1,               # Utilize all CPU cores\n",
        "    n_estimators=1000,       # High number of trees for better learning\n",
        "    max_depth=10,            # Original optimal depth\n",
        "    learning_rate=0.05,      # Moderate learning rate\n",
        "    subsample=0.8,           # Subsample for stochastic training\n",
        "    colsample_bytree=0.8,    # Use 80% of features for splitting\n",
        "    gamma=0.1,               # Add a small regularization to prevent overfitting\n",
        "    reg_alpha=0.01,          # Small L1 regularization\n",
        "    reg_lambda=1,            # Standard L2 regularization\n",
        "    random_state=42          # Ensures reproducibility\n",
        ")\n",
        "\n",
        "\n",
        "\n",
        "# Adjust target variable (shift to 0-based indexing for XGBoost)\n",
        "y_train_adjusted = y_train - 1\n",
        "\n",
        "# Train the model\n",
        "xgb_churn.fit(x_train, y_train_adjusted)\n",
        "\n",
        "# Predict and adjust back to 1-based indexing\n",
        "y_pred = xgb_churn.predict(x_test)\n",
        "y_pred_adjusted = y_pred + 1\n",
        "\n",
        "# Evaluate performance\n",
        "print(\"Classification Report:\")\n",
        "print(classification_report(y_true=y_test, y_pred=y_pred_adjusted))\n",
        "print(\"F1 Macro Score:\", f1_score(y_true=y_test, y_pred=y_pred_adjusted, average='macro'))"
      ],
      "metadata": {
        "colab": {
          "base_uri": "https://localhost:8080/"
        },
        "id": "zCY1fuHiLjH7",
        "outputId": "8ae3aca9-58f6-46ec-f14c-9a2a02feeecd"
      },
      "execution_count": 52,
      "outputs": [
        {
          "output_type": "stream",
          "name": "stdout",
          "text": [
            "Classification Report:\n",
            "              precision    recall  f1-score   support\n",
            "\n",
            "           1       0.93      0.92      0.93      2249\n",
            "           2       0.97      0.85      0.90      2224\n",
            "           3       0.82      0.92      0.86      2304\n",
            "           4       0.74      0.77      0.76      2237\n",
            "           5       0.84      0.81      0.83      2257\n",
            "\n",
            "    accuracy                           0.85     11271\n",
            "   macro avg       0.86      0.85      0.86     11271\n",
            "weighted avg       0.86      0.85      0.86     11271\n",
            "\n",
            "F1 Macro Score: 0.8554165704439404\n"
          ]
        }
      ]
    },
    {
      "cell_type": "code",
      "execution_count": 53,
      "metadata": {
        "colab": {
          "base_uri": "https://localhost:8080/",
          "height": 561
        },
        "id": "D4W73uOyndYy",
        "outputId": "681d3ed1-767c-4bcd-88b9-6760d05227ab"
      },
      "outputs": [
        {
          "output_type": "display_data",
          "data": {
            "text/plain": [
              "<Figure size 600x600 with 2 Axes>"
            ],
            "image/png": "[encoded data removed]"
          },
          "metadata": {}
        }
      ],
      "source": [
        "fig = plt.figure(figsize=(6, 6))\n",
        "ax= plt.subplot()\n",
        "cm = confusion_matrix(y_true=y_test,y_pred=y_pred_adjusted)\n",
        "sns.heatmap(cm, annot=True, ax = ax, fmt = 'g',cmap = 'Wistia')\n",
        "ax.set_xlabel('Predicted label')\n",
        "ax.set_ylabel('Actual label')\n",
        "plt.show()"
      ]
    },
    {
      "cell_type": "code",
      "source": [
        "# Saving XGBClassifier\n",
        "joblib.dump(xgb_churn, '/content/drive/MyDrive/churn_prediction/models/xgboost_classifier_model.pkl')"
      ],
      "metadata": {
        "colab": {
          "base_uri": "https://localhost:8080/"
        },
        "id": "v-9_lJKTJoaD",
        "outputId": "9b4e3c95-a575-40a1-b443-238fb2008cc7"
      },
      "execution_count": 54,
      "outputs": [
        {
          "output_type": "execute_result",
          "data": {
            "text/plain": [
              "['/content/drive/MyDrive/churn_prediction/models/xgboost_classifier_model.pkl']"
            ]
          },
          "metadata": {},
          "execution_count": 54
        }
      ]
    },
    {
      "cell_type": "code",
      "source": [
        "from sklearn.preprocessing import LabelEncoder\n",
        "from sklearn.base import BaseEstimator, ClassifierMixin, clone"
      ],
      "metadata": {
        "id": "gm2c3Mb3VGm-"
      },
      "execution_count": 55,
      "outputs": []
    },
    {
      "cell_type": "code",
      "source": [
        "class WeightedMixModel(BaseEstimator, ClassifierMixin):\n",
        "    def __init__(self, algs, weights=None):\n",
        "        \"\"\"\n",
        "        Ensemble model that combines predictions from multiple classifiers using weighted averaging.\n",
        "        \"\"\"\n",
        "        self.algs = algs\n",
        "        self.weights = weights\n",
        "\n",
        "    def fit(self, X, y):\n",
        "        \"\"\"\n",
        "        Fit all models in the ensemble and ensure consistent classes.\n",
        "        \"\"\"\n",
        "        # Encode labels for consistent class handling\n",
        "        self.label_encoder_ = LabelEncoder()\n",
        "        y_encoded = self.label_encoder_.fit_transform(y)\n",
        "        self.classes_ = self.label_encoder_.classes_\n",
        "\n",
        "        # Clone and fit each algorithm\n",
        "        self.algs_ = [clone(alg) for alg in self.algs]\n",
        "        for alg in self.algs_:\n",
        "            alg.fit(X, y_encoded)\n",
        "\n",
        "        return self\n",
        "\n",
        "    def predict(self, X):\n",
        "        \"\"\"\n",
        "        Predict the target using weighted averaging of predicted probabilities.\n",
        "        \"\"\"\n",
        "        # Get probabilities from each model\n",
        "        predictions = []\n",
        "        for alg in self.algs_:\n",
        "            pred = alg.predict_proba(X)\n",
        "            # Align class probabilities to ensure consistent shapes\n",
        "            aligned_preds = self._align_predictions(pred, alg)\n",
        "            predictions.append(aligned_preds)\n",
        "\n",
        "        # Stack predictions for weighted averaging\n",
        "        predictions = np.array(predictions)\n",
        "\n",
        "        # Ensure weights are provided\n",
        "        if self.weights is None:\n",
        "            self.weights = [1 / len(self.algs_)] * len(self.algs_)\n",
        "\n",
        "        # Weighted average of probabilities\n",
        "        weighted_preds = np.average(predictions, axis=0, weights=self.weights)\n",
        "        return self.label_encoder_.inverse_transform(np.argmax(weighted_preds, axis=1))\n",
        "\n",
        "    def _align_predictions(self, preds, alg):\n",
        "        \"\"\"\n",
        "        Align predictions to ensure consistent class probabilities across models.\n",
        "        \"\"\"\n",
        "        aligned_preds = np.zeros((preds.shape[0], len(self.classes_)))\n",
        "        for idx, cls in enumerate(self.classes_):\n",
        "            if cls in alg.classes_:\n",
        "                cls_idx = np.where(alg.classes_ == cls)[0][0]\n",
        "                aligned_preds[:, idx] = preds[:, cls_idx]\n",
        "        return aligned_preds\n",
        "\n",
        "\n",
        "# Assign weights based on performance of each model\n",
        "model_weights = [\n",
        "    0.4,  # XGBoost\n",
        "    0.3,  # RandomForest\n",
        "    0.3   # GradientBoosting\n",
        "]\n",
        "\n",
        "# Instantiate and use the optimized mix model\n",
        "optimized_mixed_model = WeightedMixModel(algs=[xgb_churn, optimized_rf, gbrt], weights=model_weights)\n",
        "\n",
        "# Train and predict\n",
        "optimized_mixed_model.fit(x_train, y_train_adjusted)\n",
        "y_pred = optimized_mixed_model.predict(x_test)\n",
        "y_pred_adjusted = y_pred + 1\n",
        "\n",
        "# Evaluate the model\n",
        "print(\"Classification Report:\")\n",
        "print(classification_report(y_true=y_test, y_pred=y_pred_adjusted))\n",
        "print(\"F1 Macro Score:\", f1_score(y_true=y_test, y_pred=y_pred_adjusted, average='macro'))\n"
      ],
      "metadata": {
        "colab": {
          "base_uri": "https://localhost:8080/"
        },
        "id": "RrL2F2bORoYL",
        "outputId": "a37057a4-b618-4ab7-e5b8-5cca736f3f07"
      },
      "execution_count": 56,
      "outputs": [
        {
          "output_type": "stream",
          "name": "stdout",
          "text": [
            "Classification Report:\n",
            "              precision    recall  f1-score   support\n",
            "\n",
            "           1       0.93      0.92      0.92      2249\n",
            "           2       0.96      0.84      0.90      2224\n",
            "           3       0.81      0.92      0.86      2304\n",
            "           4       0.75      0.77      0.76      2237\n",
            "           5       0.84      0.81      0.83      2257\n",
            "\n",
            "    accuracy                           0.85     11271\n",
            "   macro avg       0.86      0.85      0.85     11271\n",
            "weighted avg       0.86      0.85      0.85     11271\n",
            "\n",
            "F1 Macro Score: 0.853681667866276\n"
          ]
        }
      ]
    },
    {
      "cell_type": "code",
      "source": [
        "from sklearn.ensemble import StackingClassifier\n",
        "from sklearn.linear_model import LogisticRegression\n",
        "\n",
        "# Define base models\n",
        "base_models = [\n",
        "    ('xgb', xgb_churn),\n",
        "    ('rf', optimized_rf),\n",
        "    ('gbrt', gbrt)\n",
        "]\n",
        "\n",
        "# Define meta model\n",
        "meta_model = LogisticRegression()\n",
        "\n",
        "# Define StackingClassifier\n",
        "stacked_model = StackingClassifier(\n",
        "    estimators=base_models,\n",
        "    final_estimator=meta_model,\n",
        "    cv=3,\n",
        "    n_jobs=-1\n",
        ")\n",
        "\n",
        "# Train and predict\n",
        "stacked_model.fit(x_train, y_train_adjusted)\n",
        "y_pred = stacked_model.predict(x_test)\n",
        "y_pred_adjusted = y_pred + 1\n",
        "\n",
        "# Evaluate the model\n",
        "print(\"Classification Report:\")\n",
        "print(classification_report(y_true=y_test, y_pred=y_pred_adjusted))\n",
        "print(\"F1 Macro Score:\", f1_score(y_true=y_test, y_pred=y_pred_adjusted, average='macro'))\n"
      ],
      "metadata": {
        "colab": {
          "base_uri": "https://localhost:8080/"
        },
        "id": "VBJeZ2u2bntW",
        "outputId": "681a92d5-c2fc-4ec6-fe4b-2bdf17e65912"
      },
      "execution_count": 57,
      "outputs": [
        {
          "output_type": "stream",
          "name": "stdout",
          "text": [
            "Classification Report:\n",
            "              precision    recall  f1-score   support\n",
            "\n",
            "           1       0.93      0.92      0.93      2249\n",
            "           2       0.95      0.86      0.90      2224\n",
            "           3       0.81      0.92      0.86      2304\n",
            "           4       0.75      0.77      0.76      2237\n",
            "           5       0.85      0.80      0.83      2257\n",
            "\n",
            "    accuracy                           0.85     11271\n",
            "   macro avg       0.86      0.85      0.86     11271\n",
            "weighted avg       0.86      0.85      0.86     11271\n",
            "\n",
            "F1 Macro Score: 0.855386082530389\n"
          ]
        }
      ]
    },
    {
      "cell_type": "code",
      "execution_count": 58,
      "metadata": {
        "id": "7njS8vJrypNR",
        "colab": {
          "base_uri": "https://localhost:8080/",
          "height": 561
        },
        "outputId": "a6f825a1-3a62-489a-97e1-b245205116ce"
      },
      "outputs": [
        {
          "output_type": "display_data",
          "data": {
            "text/plain": [
              "<Figure size 600x600 with 2 Axes>"
            ],
            "image/png": "[encoded data removed]"
          },
          "metadata": {}
        }
      ],
      "source": [
        "fig = plt.figure(figsize=(6, 6))\n",
        "ax= plt.subplot()\n",
        "cm = confusion_matrix(y_true=y_test,y_pred=y_pred_adjusted)\n",
        "sns.heatmap(cm, annot=True, ax = ax, fmt = 'g', cmap = 'Greys')\n",
        "ax.set_xlabel('Predicted label')\n",
        "ax.set_ylabel('Actual label')\n",
        "plt.show()"
      ]
    },
    {
      "cell_type": "code",
      "source": [
        "# Збереження Mixed Model Classifier\n",
        "joblib.dump(stacked_model, '/content/drive/MyDrive/churn_prediction/models/mixed_model.pkl')"
      ],
      "metadata": {
        "colab": {
          "base_uri": "https://localhost:8080/"
        },
        "id": "dNyOE_9qC_9C",
        "outputId": "531e2062-ba38-4030-b10e-912de02fbb5c"
      },
      "execution_count": 59,
      "outputs": [
        {
          "output_type": "execute_result",
          "data": {
            "text/plain": [
              "['/content/drive/MyDrive/churn_prediction/models/mixed_model.pkl']"
            ]
          },
          "metadata": {},
          "execution_count": 59
        }
      ]
    },
    {
      "cell_type": "code",
      "execution_count": 60,
      "metadata": {
        "id": "r7XV6eogndSL"
      },
      "outputs": [],
      "source": [
        "def preload_for_test(curr_df):\n",
        "\n",
        "  curr_df.drop(['customer_id', 'Name', 'security_no', 'referral_id'], axis=1, inplace=True)\n",
        "  curr_df['avg_frequency_login_days'].replace(['Error'], np.nan, inplace=True)\n",
        "  curr_df['avg_frequency_login_days'] = curr_df['avg_frequency_login_days'].astype('float64')\n",
        "\n",
        "\n",
        "  curr_df['joining_date'] = pd.to_datetime(curr_df['joining_date'])\n",
        "  curr_df['last_visit_time'] = pd.to_datetime(curr_df['last_visit_time'])\n",
        "\n",
        "  curr_df['jday'] = curr_df['joining_date'].dt.day\n",
        "\n",
        "\n",
        "  curr_df['jday'] = curr_df['joining_date'].dt.day\n",
        "  curr_df['jmonth'] = curr_df['joining_date'].dt.month\n",
        "  curr_df['jweek'] = curr_df['joining_date'].dt.dayofweek\n",
        "  curr_df['diff'] = ((curr_df['last_visit_time'] - curr_df['joining_date']).apply(lambda x: str(x).split()[0])).astype('float64')\n",
        "\n",
        "\n",
        "\n",
        "  sm = ['gender','region_category','membership_category','joined_through_referral',\n",
        "      'preferred_offer_types','medium_of_operation','internet_option','used_special_discount',\n",
        "       'offer_application_preference']\n",
        "  df_sm = df[sm]\n",
        "  curr_df_sm = curr_df[sm]\n",
        "\n",
        "  df_sm = pd.get_dummies(df_sm)\n",
        "  curr_df_sm = pd.get_dummies(curr_df_sm)\n",
        "\n",
        "  ss = ['days_since_last_login', 'avg_time_spent', 'avg_transaction_value', 'avg_frequency_login_days',\n",
        "          'points_in_wallet', 'used_special_discount', 'churn_risk_score','sentiment', 'sent_score', 'jday', 'jmonth', 'jweek', 'diff']\n",
        "  df_ss = df[ss]\n",
        "  ss_t = ['days_since_last_login', 'avg_time_spent', 'avg_transaction_value', 'avg_frequency_login_days',\n",
        "            'points_in_wallet', 'used_special_discount','sentiment', 'sent_score', 'jday', 'jmonth', 'jweek', 'diff']\n",
        "\n",
        "  curr_df_ss = curr_df[ss_t]\n",
        "  print(curr_df_ss.shape)\n",
        "  # Concatenating the dummy columns and numerical feature columns into a new dataframe\n",
        "  df_new = pd.concat([df_ss, df_sm], axis=1)\n",
        "  print(df_new.shape)\n",
        "  curr_df_new = pd.concat([curr_df_ss, curr_df_sm], axis=1)\n",
        "\n",
        "  curr_df_new.drop(['used_special_discount'], axis=1, inplace=True)\n",
        "\n",
        "  curr_df_new['avg_frequency_login_days'].fillna(value=curr_df_new['avg_frequency_login_days'].mean(), inplace=True)\n",
        "  curr_df_new['points_in_wallet'].fillna(value=curr_df_new['points_in_wallet'].mean(), inplace=True)\n",
        "  missing_columns = []\n",
        "  for element in df_test_new.columns:\n",
        "    if element not in curr_df_new.columns:\n",
        "      missing_columns.append(element)\n",
        "  losted_sun = pd.DataFrame(columns=missing_columns)\n",
        "\n",
        "  curr_df_new = pd.concat([curr_df_new,losted_sun],axis=1)\n",
        "  losted_sun = curr_df_new[missing_columns]\n",
        "  curr_df_new = curr_df_new.drop(missing_columns, axis=1)\n",
        "  losted_sun.fillna(value=np.uint8(0), inplace=True)\n",
        "  losted_sun.index = curr_df_new.index\n",
        "  curr_df_new = pd.concat([curr_df_new,losted_sun],axis=1)\n",
        "\n",
        "  output_array = curr_df_new.values\n",
        "  output_array = scaler.transform(output_array)\n",
        "\n",
        "\n",
        "  return output_array"
      ]
    },
    {
      "cell_type": "code",
      "execution_count": 61,
      "metadata": {
        "id": "7CK1GctGna-e"
      },
      "outputs": [],
      "source": [
        "df_demo = pd.read_csv('/content/drive/MyDrive/churn_prediction/data/customers/churn_test.csv')\n",
        "df_demo = df_demo.iloc[:20]\n",
        "df_demo = df_demo.rename(columns={'content':'feedback'})\n",
        "df_demo['region_category'] = df_demo['region_category'].fillna('Other')\n",
        "df_demo['avg_transaction_value'] = df_demo['avg_transaction_value'].apply(lambda x: x*0.01)\n",
        "to_sentiment_df_demo = pd.DataFrame(df_demo[['feedback','summary']], columns=['feedback','summary'])\n",
        "to_sentiment_df_demo = to_sentiment_df_demo.rename(columns={'feedback':'content'})"
      ]
    },
    {
      "cell_type": "code",
      "execution_count": 62,
      "metadata": {
        "id": "dvi4ihJFn4Ps"
      },
      "outputs": [],
      "source": [
        "output_sentiment_df_demo = sentiment_feedback(to_sentiment_df_demo, doc2vec_model, tfidf_vectorizer, xgb_model)"
      ]
    },
    {
      "cell_type": "code",
      "source": [
        "df_pr = pd.DataFrame(df_demo['customer_id'],columns=['customer_id'])\n"
      ],
      "metadata": {
        "id": "FJOYIF2HBrNl"
      },
      "execution_count": 63,
      "outputs": []
    },
    {
      "cell_type": "code",
      "execution_count": 64,
      "metadata": {
        "id": "Zg8PbG2Iof_O"
      },
      "outputs": [],
      "source": [
        "output_sentiment_df_demo.index = df_demo.index\n",
        "df_demo = pd.concat([df_demo,output_sentiment_df_demo], axis=1)\n",
        "df_demo=df_demo.drop('Unnamed: 0', axis=1)\n",
        "df_demo=df_demo.drop('sentiments', axis=1)"
      ]
    },
    {
      "cell_type": "code",
      "execution_count": 65,
      "metadata": {
        "colab": {
          "base_uri": "https://localhost:8080/"
        },
        "id": "rFNbBxwfndHj",
        "outputId": "5b909908-4836-48fa-b55b-6739662cd5ac"
      },
      "outputs": [
        {
          "output_type": "stream",
          "name": "stdout",
          "text": [
            "(20, 12)\n",
            "(25668, 43)\n"
          ]
        }
      ],
      "source": [
        "client_score = pd.DataFrame(xgb_churn.predict(preload_for_test(df_demo)), columns=['churn_risk_score'])"
      ]
    },
    {
      "cell_type": "code",
      "execution_count": 66,
      "metadata": {
        "id": "5jY0C-dh9YyA"
      },
      "outputs": [],
      "source": [
        "df_demo = pd.read_csv('/content/drive/MyDrive/churn_prediction/data/customers/churn_test.csv')\n",
        "df_demo = df_demo.iloc[:20]\n",
        "df_demo = df_demo.rename(columns={'content':'feedback'})\n",
        "df_demo['region_category'] = df_demo['region_category'].fillna('Other')\n",
        "df_demo['avg_transaction_value'] = df_demo['avg_transaction_value'].apply(lambda x: x*0.01)\n",
        "to_sentiment_df_demo = pd.DataFrame(df_demo[['feedback','summary']], columns=['feedback','summary'])\n",
        "to_sentiment_df_demo = to_sentiment_df_demo.rename(columns={'feedback':'content'})\n",
        "output_sentiment_df_demo.index = df_demo.index\n",
        "df_demo = pd.concat([df_demo,output_sentiment_df_demo], axis=1)\n",
        "df_demo=df_demo.drop('Unnamed: 0', axis=1)\n",
        "df_demo=df_demo.drop('sentiments', axis=1)"
      ]
    },
    {
      "cell_type": "code",
      "execution_count": 67,
      "metadata": {
        "colab": {
          "base_uri": "https://localhost:8080/",
          "height": 1000
        },
        "id": "Dm8utvLL-fcm",
        "outputId": "103972cb-f2cc-4aea-ed2f-be91cd85dcaf"
      },
      "outputs": [
        {
          "output_type": "execute_result",
          "data": {
            "text/plain": [
              "                             customer_id               Name  age gender  \\\n",
              "0   fffe43004900440035003700330030003600      Evelyne Kinch   17      M   \n",
              "1       fffe4300490044003500320033003500     Franklin Lurry   22      M   \n",
              "2   fffe43004900440036003100310035003800        Alan Branum   17      M   \n",
              "3   fffe43004900440035003700380032003700          Elke Yann   55      F   \n",
              "4   fffe43004900440034003900360037003200  Nichelle Oceguera   18      F   \n",
              "5   fffe43004900440035003800370036003400       Opal Robards   57      M   \n",
              "6   fffe43004900440032003300330039003400       Audry Yarber   12      M   \n",
              "7   fffe43004900440032003100320032003500        Alayna Patt   40      M   \n",
              "8   fffe43004900440032003700360038003800      Fumiko Tracey   14      F   \n",
              "9   fffe43004900440035003200370033003500      Colby Omalley   16      M   \n",
              "10  fffe43004900440033003200350036003500        Traci Hofer   29      M   \n",
              "11  fffe43004900440035003900380039003600  Marietta Gilkison   64      M   \n",
              "12  fffe43004900440034003400350037003500   Sharita Mckinzie   41      F   \n",
              "13  fffe43004900440032003800360032003900        Dinorah Tow   26      F   \n",
              "14  fffe43004900440033003800340037003700   Damaris Zamorano   23      F   \n",
              "15  fffe43004900440035003400320034003800          Lois Kohr   27      F   \n",
              "16  fffe43004900440036003300320036003400     Janel Wierenga   50      M   \n",
              "17  fffe43004900440033003600310031003300        Nova Steger   41      M   \n",
              "18  fffe43004900440036003100320036003900        Larae Alvis   30      M   \n",
              "19  fffe43004900440031003100330030003700      Brian Strauch   19      F   \n",
              "\n",
              "   security_no region_category membership_category joining_date  \\\n",
              "0      NBV1O8W            Town    Basic Membership   2016-12-04   \n",
              "1      C3B77NU            Town       No Membership   2015-10-14   \n",
              "2      OCHQG0L         Village    Basic Membership   2016-01-21   \n",
              "3      4KPKRVX            Town    Basic Membership   2015-12-11   \n",
              "4      M0ZT1CU            City    Basic Membership   2016-04-28   \n",
              "5      QPMH483           Other    Basic Membership   2017-08-17   \n",
              "6      RHTAOKV            City    Basic Membership   2016-07-17   \n",
              "7      6NQQSL9            Town    Basic Membership   2016-05-16   \n",
              "8      RPGA9Y5            Town    Basic Membership   2015-02-16   \n",
              "9      48BNSWF            Town       No Membership   2017-08-15   \n",
              "10     B28LFA6            City    Basic Membership   2016-10-13   \n",
              "11     ZBL6S3I            Town       No Membership   2015-04-09   \n",
              "12     NT5Z823            City       No Membership   2017-10-05   \n",
              "13     VLSRAZU            City       No Membership   2017-10-06   \n",
              "14     6X94SCD            Town       No Membership   2016-04-25   \n",
              "15     MBQUP72         Village       No Membership   2017-03-17   \n",
              "16     TECTHVS           Other       No Membership   2016-03-17   \n",
              "17     H1DDM3U            Town       No Membership   2017-08-24   \n",
              "18     T50EYFX            City       No Membership   2016-02-16   \n",
              "19     ZZZS7K7            City       No Membership   2015-03-24   \n",
              "\n",
              "   joined_through_referral referral_id  ... avg_transaction_value  \\\n",
              "0                      Yes    CID53746  ...               99.4854   \n",
              "1                      Yes    CID60228  ...              193.6360   \n",
              "2                       No    xxxxxxxx  ...              489.1395   \n",
              "3                       No    xxxxxxxx  ...              307.7381   \n",
              "4                        ?    CID56250  ...              281.1233   \n",
              "5                      Yes    CID22216  ...               87.8412   \n",
              "6                      Yes    xxxxxxxx  ...              105.1017   \n",
              "7                       No    xxxxxxxx  ...              334.0972   \n",
              "8                      Yes    CID45738  ...              310.0134   \n",
              "9                       No    xxxxxxxx  ...              497.5783   \n",
              "10                     Yes    CID22412  ...              124.4524   \n",
              "11                     Yes    xxxxxxxx  ...              466.5675   \n",
              "12                      No    xxxxxxxx  ...              345.1245   \n",
              "13                     Yes    CID56650  ...              122.5454   \n",
              "14                      No    xxxxxxxx  ...              190.8492   \n",
              "15                      No    xxxxxxxx  ...              211.5084   \n",
              "16                     Yes    CID31922  ...              113.1565   \n",
              "17                      No    xxxxxxxx  ...              448.2289   \n",
              "18                      No    xxxxxxxx  ...              246.6473   \n",
              "19                     Yes    CID12710  ...              443.8599   \n",
              "\n",
              "   avg_frequency_login_days points_in_wallet used_special_discount  \\\n",
              "0                      16.0       577.830000                   Yes   \n",
              "1                     Error       528.660000                   Yes   \n",
              "2                      24.0       613.790000                   Yes   \n",
              "3                     Error       520.360000                    No   \n",
              "4                      22.0       523.410000                   Yes   \n",
              "5                      26.0       660.360000                    No   \n",
              "6                       7.0       642.800000                   Yes   \n",
              "7                      14.0              NaN                   Yes   \n",
              "8                      29.0       627.990000                   Yes   \n",
              "9                      23.0       681.700000                   Yes   \n",
              "10                     23.0       957.998151                   Yes   \n",
              "11                     25.0       617.900000                   Yes   \n",
              "12                     17.0      1143.268855                    No   \n",
              "13                    Error       634.070000                   Yes   \n",
              "14       -6.860127860435156       663.970000                   Yes   \n",
              "15                     23.0       677.830000                   Yes   \n",
              "16                      7.0       621.230000                   Yes   \n",
              "17                     22.0       630.030000                   Yes   \n",
              "18                     13.0       165.918096                   Yes   \n",
              "19                     23.0       530.370000                    No   \n",
              "\n",
              "    offer_application_preference  \\\n",
              "0                             No   \n",
              "1                             No   \n",
              "2                            Yes   \n",
              "3                            Yes   \n",
              "4                             No   \n",
              "5                            Yes   \n",
              "6                             No   \n",
              "7                             No   \n",
              "8                             No   \n",
              "9                             No   \n",
              "10                            No   \n",
              "11                            No   \n",
              "12                           Yes   \n",
              "13                            No   \n",
              "14                            No   \n",
              "15                            No   \n",
              "16                            No   \n",
              "17                            No   \n",
              "18                            No   \n",
              "19                           Yes   \n",
              "\n",
              "                                             feedback  \\\n",
              "0   I just want to say that most Meguiar's product...   \n",
              "1   This item is misrepresented.  Meguiar's no lon...   \n",
              "2                       Leaves film on car after wash   \n",
              "3   Soap is soap regardless of manufacturer ,who c...   \n",
              "4   I purchased 2 bottles, finished the first bott...   \n",
              "5                               Stinks like perfume !   \n",
              "6         bottle was leaking half of its contents....   \n",
              "7   Would have been ok but bottle had hole in top ...   \n",
              "8   Absolutely no suds when pumped through my pres...   \n",
              "9   I don't see what all the excitement is about, ...   \n",
              "10  Bought it for washing my airplane based on pos...   \n",
              "11  I'm very disappointed in Meguiar. They used to...   \n",
              "12             The packing was very poor, isn't safe.   \n",
              "13  I have a 2008 Tundra, this was an item i thoug...   \n",
              "14  Very disappointed in this product- not very we...   \n",
              "15  Will not stay in place, a ten pound box will m...   \n",
              "16  The cap is loose, and the liquid flows out. Qu...   \n",
              "17     Product came with hole in it and half drained.   \n",
              "18  It cleans the car exactly the same, as when I ...   \n",
              "19  My truck was begging for a spa day. Finally I ...   \n",
              "\n",
              "                                              summary sentiment  sent_score  \\\n",
              "0   half of the product leaked before opening...di...         1    0.965747   \n",
              "1                 Meguiar's Gold Class Clear Coat Wax         1    0.514067   \n",
              "2                                            One Star         1    0.655459   \n",
              "3                                     Give me a break         0    0.560615   \n",
              "4                                Diluted Liquid Soap!         1    0.933820   \n",
              "5                                                Hate         0    0.894235   \n",
              "6                                            One Star         1    0.950657   \n",
              "7                                     hole in product         0    0.998983   \n",
              "8               Not Compatible With Pressure Washers.         0    0.511998   \n",
              "9                              Water marks/white film         0    0.997156   \n",
              "10                               Use at your own risk         1    0.933818   \n",
              "11                                      Not the same.         0    0.999828   \n",
              "12                                          Two Stars         1    0.999685   \n",
              "13                                Not a good purchase         1    0.913957   \n",
              "14                                      disappointed!         1    0.987820   \n",
              "15                           Dont WASTE YOUR MONEY!!!         0    0.651297   \n",
              "16  Their package service sucks. The gas I consume...         1    0.999556   \n",
              "17         Great Product if you get delivered in tact         0    0.996910   \n",
              "18  Not better than any other; plus it has a bad s...         0    0.989423   \n",
              "19                             Mane 'N Tail is better         0    0.999925   \n",
              "\n",
              "   churn_risk_score  \n",
              "0                 2  \n",
              "1                 2  \n",
              "2                 4  \n",
              "3                 4  \n",
              "4                 2  \n",
              "5                 2  \n",
              "6                 2  \n",
              "7                 3  \n",
              "8                 2  \n",
              "9                 4  \n",
              "10                2  \n",
              "11                3  \n",
              "12                4  \n",
              "13                2  \n",
              "14                3  \n",
              "15                4  \n",
              "16                4  \n",
              "17                4  \n",
              "18                3  \n",
              "19                2  \n",
              "\n",
              "[20 rows x 26 columns]"
            ],
            "text/html": [
              "\n",
              "  <div id=\"df-54386d69-dcd1-4b06-a9e1-ea952466eae5\" class=\"colab-df-container\">\n",
              "    <div>\n",
              "<style scoped>\n",
              "    .dataframe tbody tr th:only-of-type {\n",
              "        vertical-align: middle;\n",
              "    }\n",
              "\n",
              "    .dataframe tbody tr th {\n",
              "        vertical-align: top;\n",
              "    }\n",
              "\n",
              "    .dataframe thead th {\n",
              "        text-align: right;\n",
              "    }\n",
              "</style>\n",
              "<table border=\"1\" class=\"dataframe\">\n",
              "  <thead>\n",
              "    <tr style=\"text-align: right;\">\n",
              "      <th></th>\n",
              "      <th>customer_id</th>\n",
              "      <th>Name</th>\n",
              "      <th>age</th>\n",
              "      <th>gender</th>\n",
              "      <th>security_no</th>\n",
              "      <th>region_category</th>\n",
              "      <th>membership_category</th>\n",
              "      <th>joining_date</th>\n",
              "      <th>joined_through_referral</th>\n",
              "      <th>referral_id</th>\n",
              "      <th>...</th>\n",
              "      <th>avg_transaction_value</th>\n",
              "      <th>avg_frequency_login_days</th>\n",
              "      <th>points_in_wallet</th>\n",
              "      <th>used_special_discount</th>\n",
              "      <th>offer_application_preference</th>\n",
              "      <th>feedback</th>\n",
              "      <th>summary</th>\n",
              "      <th>sentiment</th>\n",
              "      <th>sent_score</th>\n",
              "      <th>churn_risk_score</th>\n",
              "    </tr>\n",
              "  </thead>\n",
              "  <tbody>\n",
              "    <tr>\n",
              "      <th>0</th>\n",
              "      <td>fffe43004900440035003700330030003600</td>\n",
              "      <td>Evelyne Kinch</td>\n",
              "      <td>17</td>\n",
              "      <td>M</td>\n",
              "      <td>NBV1O8W</td>\n",
              "      <td>Town</td>\n",
              "      <td>Basic Membership</td>\n",
              "      <td>2016-12-04</td>\n",
              "      <td>Yes</td>\n",
              "      <td>CID53746</td>\n",
              "      <td>...</td>\n",
              "      <td>99.4854</td>\n",
              "      <td>16.0</td>\n",
              "      <td>577.830000</td>\n",
              "      <td>Yes</td>\n",
              "      <td>No</td>\n",
              "      <td>I just want to say that most Meguiar's product...</td>\n",
              "      <td>half of the product leaked before opening...di...</td>\n",
              "      <td>1</td>\n",
              "      <td>0.965747</td>\n",
              "      <td>2</td>\n",
              "    </tr>\n",
              "    <tr>\n",
              "      <th>1</th>\n",
              "      <td>fffe4300490044003500320033003500</td>\n",
              "      <td>Franklin Lurry</td>\n",
              "      <td>22</td>\n",
              "      <td>M</td>\n",
              "      <td>C3B77NU</td>\n",
              "      <td>Town</td>\n",
              "      <td>No Membership</td>\n",
              "      <td>2015-10-14</td>\n",
              "      <td>Yes</td>\n",
              "      <td>CID60228</td>\n",
              "      <td>...</td>\n",
              "      <td>193.6360</td>\n",
              "      <td>Error</td>\n",
              "      <td>528.660000</td>\n",
              "      <td>Yes</td>\n",
              "      <td>No</td>\n",
              "      <td>This item is misrepresented.  Meguiar's no lon...</td>\n",
              "      <td>Meguiar's Gold Class Clear Coat Wax</td>\n",
              "      <td>1</td>\n",
              "      <td>0.514067</td>\n",
              "      <td>2</td>\n",
              "    </tr>\n",
              "    <tr>\n",
              "      <th>2</th>\n",
              "      <td>fffe43004900440036003100310035003800</td>\n",
              "      <td>Alan Branum</td>\n",
              "      <td>17</td>\n",
              "      <td>M</td>\n",
              "      <td>OCHQG0L</td>\n",
              "      <td>Village</td>\n",
              "      <td>Basic Membership</td>\n",
              "      <td>2016-01-21</td>\n",
              "      <td>No</td>\n",
              "      <td>xxxxxxxx</td>\n",
              "      <td>...</td>\n",
              "      <td>489.1395</td>\n",
              "      <td>24.0</td>\n",
              "      <td>613.790000</td>\n",
              "      <td>Yes</td>\n",
              "      <td>Yes</td>\n",
              "      <td>Leaves film on car after wash</td>\n",
              "      <td>One Star</td>\n",
              "      <td>1</td>\n",
              "      <td>0.655459</td>\n",
              "      <td>4</td>\n",
              "    </tr>\n",
              "    <tr>\n",
              "      <th>3</th>\n",
              "      <td>fffe43004900440035003700380032003700</td>\n",
              "      <td>Elke Yann</td>\n",
              "      <td>55</td>\n",
              "      <td>F</td>\n",
              "      <td>4KPKRVX</td>\n",
              "      <td>Town</td>\n",
              "      <td>Basic Membership</td>\n",
              "      <td>2015-12-11</td>\n",
              "      <td>No</td>\n",
              "      <td>xxxxxxxx</td>\n",
              "      <td>...</td>\n",
              "      <td>307.7381</td>\n",
              "      <td>Error</td>\n",
              "      <td>520.360000</td>\n",
              "      <td>No</td>\n",
              "      <td>Yes</td>\n",
              "      <td>Soap is soap regardless of manufacturer ,who c...</td>\n",
              "      <td>Give me a break</td>\n",
              "      <td>0</td>\n",
              "      <td>0.560615</td>\n",
              "      <td>4</td>\n",
              "    </tr>\n",
              "    <tr>\n",
              "      <th>4</th>\n",
              "      <td>fffe43004900440034003900360037003200</td>\n",
              "      <td>Nichelle Oceguera</td>\n",
              "      <td>18</td>\n",
              "      <td>F</td>\n",
              "      <td>M0ZT1CU</td>\n",
              "      <td>City</td>\n",
              "      <td>Basic Membership</td>\n",
              "      <td>2016-04-28</td>\n",
              "      <td>?</td>\n",
              "      <td>CID56250</td>\n",
              "      <td>...</td>\n",
              "      <td>281.1233</td>\n",
              "      <td>22.0</td>\n",
              "      <td>523.410000</td>\n",
              "      <td>Yes</td>\n",
              "      <td>No</td>\n",
              "      <td>I purchased 2 bottles, finished the first bott...</td>\n",
              "      <td>Diluted Liquid Soap!</td>\n",
              "      <td>1</td>\n",
              "      <td>0.933820</td>\n",
              "      <td>2</td>\n",
              "    </tr>\n",
              "    <tr>\n",
              "      <th>5</th>\n",
              "      <td>fffe43004900440035003800370036003400</td>\n",
              "      <td>Opal Robards</td>\n",
              "      <td>57</td>\n",
              "      <td>M</td>\n",
              "      <td>QPMH483</td>\n",
              "      <td>Other</td>\n",
              "      <td>Basic Membership</td>\n",
              "      <td>2017-08-17</td>\n",
              "      <td>Yes</td>\n",
              "      <td>CID22216</td>\n",
              "      <td>...</td>\n",
              "      <td>87.8412</td>\n",
              "      <td>26.0</td>\n",
              "      <td>660.360000</td>\n",
              "      <td>No</td>\n",
              "      <td>Yes</td>\n",
              "      <td>Stinks like perfume !</td>\n",
              "      <td>Hate</td>\n",
              "      <td>0</td>\n",
              "      <td>0.894235</td>\n",
              "      <td>2</td>\n",
              "    </tr>\n",
              "    <tr>\n",
              "      <th>6</th>\n",
              "      <td>fffe43004900440032003300330039003400</td>\n",
              "      <td>Audry Yarber</td>\n",
              "      <td>12</td>\n",
              "      <td>M</td>\n",
              "      <td>RHTAOKV</td>\n",
              "      <td>City</td>\n",
              "      <td>Basic Membership</td>\n",
              "      <td>2016-07-17</td>\n",
              "      <td>Yes</td>\n",
              "      <td>xxxxxxxx</td>\n",
              "      <td>...</td>\n",
              "      <td>105.1017</td>\n",
              "      <td>7.0</td>\n",
              "      <td>642.800000</td>\n",
              "      <td>Yes</td>\n",
              "      <td>No</td>\n",
              "      <td>bottle was leaking half of its contents....</td>\n",
              "      <td>One Star</td>\n",
              "      <td>1</td>\n",
              "      <td>0.950657</td>\n",
              "      <td>2</td>\n",
              "    </tr>\n",
              "    <tr>\n",
              "      <th>7</th>\n",
              "      <td>fffe43004900440032003100320032003500</td>\n",
              "      <td>Alayna Patt</td>\n",
              "      <td>40</td>\n",
              "      <td>M</td>\n",
              "      <td>6NQQSL9</td>\n",
              "      <td>Town</td>\n",
              "      <td>Basic Membership</td>\n",
              "      <td>2016-05-16</td>\n",
              "      <td>No</td>\n",
              "      <td>xxxxxxxx</td>\n",
              "      <td>...</td>\n",
              "      <td>334.0972</td>\n",
              "      <td>14.0</td>\n",
              "      <td>NaN</td>\n",
              "      <td>Yes</td>\n",
              "      <td>No</td>\n",
              "      <td>Would have been ok but bottle had hole in top ...</td>\n",
              "      <td>hole in product</td>\n",
              "      <td>0</td>\n",
              "      <td>0.998983</td>\n",
              "      <td>3</td>\n",
              "    </tr>\n",
              "    <tr>\n",
              "      <th>8</th>\n",
              "      <td>fffe43004900440032003700360038003800</td>\n",
              "      <td>Fumiko Tracey</td>\n",
              "      <td>14</td>\n",
              "      <td>F</td>\n",
              "      <td>RPGA9Y5</td>\n",
              "      <td>Town</td>\n",
              "      <td>Basic Membership</td>\n",
              "      <td>2015-02-16</td>\n",
              "      <td>Yes</td>\n",
              "      <td>CID45738</td>\n",
              "      <td>...</td>\n",
              "      <td>310.0134</td>\n",
              "      <td>29.0</td>\n",
              "      <td>627.990000</td>\n",
              "      <td>Yes</td>\n",
              "      <td>No</td>\n",
              "      <td>Absolutely no suds when pumped through my pres...</td>\n",
              "      <td>Not Compatible With Pressure Washers.</td>\n",
              "      <td>0</td>\n",
              "      <td>0.511998</td>\n",
              "      <td>2</td>\n",
              "    </tr>\n",
              "    <tr>\n",
              "      <th>9</th>\n",
              "      <td>fffe43004900440035003200370033003500</td>\n",
              "      <td>Colby Omalley</td>\n",
              "      <td>16</td>\n",
              "      <td>M</td>\n",
              "      <td>48BNSWF</td>\n",
              "      <td>Town</td>\n",
              "      <td>No Membership</td>\n",
              "      <td>2017-08-15</td>\n",
              "      <td>No</td>\n",
              "      <td>xxxxxxxx</td>\n",
              "      <td>...</td>\n",
              "      <td>497.5783</td>\n",
              "      <td>23.0</td>\n",
              "      <td>681.700000</td>\n",
              "      <td>Yes</td>\n",
              "      <td>No</td>\n",
              "      <td>I don't see what all the excitement is about, ...</td>\n",
              "      <td>Water marks/white film</td>\n",
              "      <td>0</td>\n",
              "      <td>0.997156</td>\n",
              "      <td>4</td>\n",
              "    </tr>\n",
              "    <tr>\n",
              "      <th>10</th>\n",
              "      <td>fffe43004900440033003200350036003500</td>\n",
              "      <td>Traci Hofer</td>\n",
              "      <td>29</td>\n",
              "      <td>M</td>\n",
              "      <td>B28LFA6</td>\n",
              "      <td>City</td>\n",
              "      <td>Basic Membership</td>\n",
              "      <td>2016-10-13</td>\n",
              "      <td>Yes</td>\n",
              "      <td>CID22412</td>\n",
              "      <td>...</td>\n",
              "      <td>124.4524</td>\n",
              "      <td>23.0</td>\n",
              "      <td>957.998151</td>\n",
              "      <td>Yes</td>\n",
              "      <td>No</td>\n",
              "      <td>Bought it for washing my airplane based on pos...</td>\n",
              "      <td>Use at your own risk</td>\n",
              "      <td>1</td>\n",
              "      <td>0.933818</td>\n",
              "      <td>2</td>\n",
              "    </tr>\n",
              "    <tr>\n",
              "      <th>11</th>\n",
              "      <td>fffe43004900440035003900380039003600</td>\n",
              "      <td>Marietta Gilkison</td>\n",
              "      <td>64</td>\n",
              "      <td>M</td>\n",
              "      <td>ZBL6S3I</td>\n",
              "      <td>Town</td>\n",
              "      <td>No Membership</td>\n",
              "      <td>2015-04-09</td>\n",
              "      <td>Yes</td>\n",
              "      <td>xxxxxxxx</td>\n",
              "      <td>...</td>\n",
              "      <td>466.5675</td>\n",
              "      <td>25.0</td>\n",
              "      <td>617.900000</td>\n",
              "      <td>Yes</td>\n",
              "      <td>No</td>\n",
              "      <td>I'm very disappointed in Meguiar. They used to...</td>\n",
              "      <td>Not the same.</td>\n",
              "      <td>0</td>\n",
              "      <td>0.999828</td>\n",
              "      <td>3</td>\n",
              "    </tr>\n",
              "    <tr>\n",
              "      <th>12</th>\n",
              "      <td>fffe43004900440034003400350037003500</td>\n",
              "      <td>Sharita Mckinzie</td>\n",
              "      <td>41</td>\n",
              "      <td>F</td>\n",
              "      <td>NT5Z823</td>\n",
              "      <td>City</td>\n",
              "      <td>No Membership</td>\n",
              "      <td>2017-10-05</td>\n",
              "      <td>No</td>\n",
              "      <td>xxxxxxxx</td>\n",
              "      <td>...</td>\n",
              "      <td>345.1245</td>\n",
              "      <td>17.0</td>\n",
              "      <td>1143.268855</td>\n",
              "      <td>No</td>\n",
              "      <td>Yes</td>\n",
              "      <td>The packing was very poor, isn't safe.</td>\n",
              "      <td>Two Stars</td>\n",
              "      <td>1</td>\n",
              "      <td>0.999685</td>\n",
              "      <td>4</td>\n",
              "    </tr>\n",
              "    <tr>\n",
              "      <th>13</th>\n",
              "      <td>fffe43004900440032003800360032003900</td>\n",
              "      <td>Dinorah Tow</td>\n",
              "      <td>26</td>\n",
              "      <td>F</td>\n",
              "      <td>VLSRAZU</td>\n",
              "      <td>City</td>\n",
              "      <td>No Membership</td>\n",
              "      <td>2017-10-06</td>\n",
              "      <td>Yes</td>\n",
              "      <td>CID56650</td>\n",
              "      <td>...</td>\n",
              "      <td>122.5454</td>\n",
              "      <td>Error</td>\n",
              "      <td>634.070000</td>\n",
              "      <td>Yes</td>\n",
              "      <td>No</td>\n",
              "      <td>I have a 2008 Tundra, this was an item i thoug...</td>\n",
              "      <td>Not a good purchase</td>\n",
              "      <td>1</td>\n",
              "      <td>0.913957</td>\n",
              "      <td>2</td>\n",
              "    </tr>\n",
              "    <tr>\n",
              "      <th>14</th>\n",
              "      <td>fffe43004900440033003800340037003700</td>\n",
              "      <td>Damaris Zamorano</td>\n",
              "      <td>23</td>\n",
              "      <td>F</td>\n",
              "      <td>6X94SCD</td>\n",
              "      <td>Town</td>\n",
              "      <td>No Membership</td>\n",
              "      <td>2016-04-25</td>\n",
              "      <td>No</td>\n",
              "      <td>xxxxxxxx</td>\n",
              "      <td>...</td>\n",
              "      <td>190.8492</td>\n",
              "      <td>-6.860127860435156</td>\n",
              "      <td>663.970000</td>\n",
              "      <td>Yes</td>\n",
              "      <td>No</td>\n",
              "      <td>Very disappointed in this product- not very we...</td>\n",
              "      <td>disappointed!</td>\n",
              "      <td>1</td>\n",
              "      <td>0.987820</td>\n",
              "      <td>3</td>\n",
              "    </tr>\n",
              "    <tr>\n",
              "      <th>15</th>\n",
              "      <td>fffe43004900440035003400320034003800</td>\n",
              "      <td>Lois Kohr</td>\n",
              "      <td>27</td>\n",
              "      <td>F</td>\n",
              "      <td>MBQUP72</td>\n",
              "      <td>Village</td>\n",
              "      <td>No Membership</td>\n",
              "      <td>2017-03-17</td>\n",
              "      <td>No</td>\n",
              "      <td>xxxxxxxx</td>\n",
              "      <td>...</td>\n",
              "      <td>211.5084</td>\n",
              "      <td>23.0</td>\n",
              "      <td>677.830000</td>\n",
              "      <td>Yes</td>\n",
              "      <td>No</td>\n",
              "      <td>Will not stay in place, a ten pound box will m...</td>\n",
              "      <td>Dont WASTE YOUR MONEY!!!</td>\n",
              "      <td>0</td>\n",
              "      <td>0.651297</td>\n",
              "      <td>4</td>\n",
              "    </tr>\n",
              "    <tr>\n",
              "      <th>16</th>\n",
              "      <td>fffe43004900440036003300320036003400</td>\n",
              "      <td>Janel Wierenga</td>\n",
              "      <td>50</td>\n",
              "      <td>M</td>\n",
              "      <td>TECTHVS</td>\n",
              "      <td>Other</td>\n",
              "      <td>No Membership</td>\n",
              "      <td>2016-03-17</td>\n",
              "      <td>Yes</td>\n",
              "      <td>CID31922</td>\n",
              "      <td>...</td>\n",
              "      <td>113.1565</td>\n",
              "      <td>7.0</td>\n",
              "      <td>621.230000</td>\n",
              "      <td>Yes</td>\n",
              "      <td>No</td>\n",
              "      <td>The cap is loose, and the liquid flows out. Qu...</td>\n",
              "      <td>Their package service sucks. The gas I consume...</td>\n",
              "      <td>1</td>\n",
              "      <td>0.999556</td>\n",
              "      <td>4</td>\n",
              "    </tr>\n",
              "    <tr>\n",
              "      <th>17</th>\n",
              "      <td>fffe43004900440033003600310031003300</td>\n",
              "      <td>Nova Steger</td>\n",
              "      <td>41</td>\n",
              "      <td>M</td>\n",
              "      <td>H1DDM3U</td>\n",
              "      <td>Town</td>\n",
              "      <td>No Membership</td>\n",
              "      <td>2017-08-24</td>\n",
              "      <td>No</td>\n",
              "      <td>xxxxxxxx</td>\n",
              "      <td>...</td>\n",
              "      <td>448.2289</td>\n",
              "      <td>22.0</td>\n",
              "      <td>630.030000</td>\n",
              "      <td>Yes</td>\n",
              "      <td>No</td>\n",
              "      <td>Product came with hole in it and half drained.</td>\n",
              "      <td>Great Product if you get delivered in tact</td>\n",
              "      <td>0</td>\n",
              "      <td>0.996910</td>\n",
              "      <td>4</td>\n",
              "    </tr>\n",
              "    <tr>\n",
              "      <th>18</th>\n",
              "      <td>fffe43004900440036003100320036003900</td>\n",
              "      <td>Larae Alvis</td>\n",
              "      <td>30</td>\n",
              "      <td>M</td>\n",
              "      <td>T50EYFX</td>\n",
              "      <td>City</td>\n",
              "      <td>No Membership</td>\n",
              "      <td>2016-02-16</td>\n",
              "      <td>No</td>\n",
              "      <td>xxxxxxxx</td>\n",
              "      <td>...</td>\n",
              "      <td>246.6473</td>\n",
              "      <td>13.0</td>\n",
              "      <td>165.918096</td>\n",
              "      <td>Yes</td>\n",
              "      <td>No</td>\n",
              "      <td>It cleans the car exactly the same, as when I ...</td>\n",
              "      <td>Not better than any other; plus it has a bad s...</td>\n",
              "      <td>0</td>\n",
              "      <td>0.989423</td>\n",
              "      <td>3</td>\n",
              "    </tr>\n",
              "    <tr>\n",
              "      <th>19</th>\n",
              "      <td>fffe43004900440031003100330030003700</td>\n",
              "      <td>Brian Strauch</td>\n",
              "      <td>19</td>\n",
              "      <td>F</td>\n",
              "      <td>ZZZS7K7</td>\n",
              "      <td>City</td>\n",
              "      <td>No Membership</td>\n",
              "      <td>2015-03-24</td>\n",
              "      <td>Yes</td>\n",
              "      <td>CID12710</td>\n",
              "      <td>...</td>\n",
              "      <td>443.8599</td>\n",
              "      <td>23.0</td>\n",
              "      <td>530.370000</td>\n",
              "      <td>No</td>\n",
              "      <td>Yes</td>\n",
              "      <td>My truck was begging for a spa day. Finally I ...</td>\n",
              "      <td>Mane 'N Tail is better</td>\n",
              "      <td>0</td>\n",
              "      <td>0.999925</td>\n",
              "      <td>2</td>\n",
              "    </tr>\n",
              "  </tbody>\n",
              "</table>\n",
              "<p>20 rows × 26 columns</p>\n",
              "</div>\n",
              "    <div class=\"colab-df-buttons\">\n",
              "\n",
              "  <div class=\"colab-df-container\">\n",
              "    <button class=\"colab-df-convert\" onclick=\"convertToInteractive('df-54386d69-dcd1-4b06-a9e1-ea952466eae5')\"\n",
              "            title=\"Convert this dataframe to an interactive table.\"\n",
              "            style=\"display:none;\">\n",
              "\n",
              "  <svg xmlns=\"http://www.w3.org/2000/svg\" height=\"24px\" viewBox=\"0 -960 960 960\">\n",
              "    <path d=\"M120-120v-720h720v720H120Zm60-500h600v-160H180v160Zm220 220h160v-160H400v160Zm0 220h160v-160H400v160ZM180-400h160v-160H180v160Zm440 0h160v-160H620v160ZM180-180h160v-160H180v160Zm440 0h160v-160H620v160Z\"/>\n",
              "  </svg>\n",
              "    </button>\n",
              "\n",
              "  <style>\n",
              "    .colab-df-container {\n",
              "      display:flex;\n",
              "      gap: 12px;\n",
              "    }\n",
              "\n",
              "    .colab-df-convert {\n",
              "      background-color: #E8F0FE;\n",
              "      border: none;\n",
              "      border-radius: 50%;\n",
              "      cursor: pointer;\n",
              "      display: none;\n",
              "      fill: #1967D2;\n",
              "      height: 32px;\n",
              "      padding: 0 0 0 0;\n",
              "      width: 32px;\n",
              "    }\n",
              "\n",
              "    .colab-df-convert:hover {\n",
              "      background-color: #E2EBFA;\n",
              "      box-shadow: 0px 1px 2px rgba(60, 64, 67, 0.3), 0px 1px 3px 1px rgba(60, 64, 67, 0.15);\n",
              "      fill: #174EA6;\n",
              "    }\n",
              "\n",
              "    .colab-df-buttons div {\n",
              "      margin-bottom: 4px;\n",
              "    }\n",
              "\n",
              "    [theme=dark] .colab-df-convert {\n",
              "      background-color: #3B4455;\n",
              "      fill: #D2E3FC;\n",
              "    }\n",
              "\n",
              "    [theme=dark] .colab-df-convert:hover {\n",
              "      background-color: #434B5C;\n",
              "      box-shadow: 0px 1px 3px 1px rgba(0, 0, 0, 0.15);\n",
              "      filter: drop-shadow(0px 1px 2px rgba(0, 0, 0, 0.3));\n",
              "      fill: #FFFFFF;\n",
              "    }\n",
              "  </style>\n",
              "\n",
              "    <script>\n",
              "      const buttonEl =\n",
              "        document.querySelector('#df-54386d69-dcd1-4b06-a9e1-ea952466eae5 button.colab-df-convert');\n",
              "      buttonEl.style.display =\n",
              "        google.colab.kernel.accessAllowed ? 'block' : 'none';\n",
              "\n",
              "      async function convertToInteractive(key) {\n",
              "        const element = document.querySelector('#df-54386d69-dcd1-4b06-a9e1-ea952466eae5');\n",
              "        const dataTable =\n",
              "          await google.colab.kernel.invokeFunction('convertToInteractive',\n",
              "                                                    [key], {});\n",
              "        if (!dataTable) return;\n",
              "\n",
              "        const docLinkHtml = 'Like what you see? Visit the ' +\n",
              "          '<a target=\"_blank\" href=https://colab.research.google.com/notebooks/data_table.ipynb>data table notebook</a>'\n",
              "          + ' to learn more about interactive tables.';\n",
              "        element.innerHTML = '';\n",
              "        dataTable['output_type'] = 'display_data';\n",
              "        await google.colab.output.renderOutput(dataTable, element);\n",
              "        const docLink = document.createElement('div');\n",
              "        docLink.innerHTML = docLinkHtml;\n",
              "        element.appendChild(docLink);\n",
              "      }\n",
              "    </script>\n",
              "  </div>\n",
              "\n",
              "\n",
              "<div id=\"df-6009f7aa-ee36-44a0-99d3-235530a1bcf5\">\n",
              "  <button class=\"colab-df-quickchart\" onclick=\"quickchart('df-6009f7aa-ee36-44a0-99d3-235530a1bcf5')\"\n",
              "            title=\"Suggest charts\"\n",
              "            style=\"display:none;\">\n",
              "\n",
              "<svg xmlns=\"http://www.w3.org/2000/svg\" height=\"24px\"viewBox=\"0 0 24 24\"\n",
              "     width=\"24px\">\n",
              "    <g>\n",
              "        <path d=\"M19 3H5c-1.1 0-2 .9-2 2v14c0 1.1.9 2 2 2h14c1.1 0 2-.9 2-2V5c0-1.1-.9-2-2-2zM9 17H7v-7h2v7zm4 0h-2V7h2v10zm4 0h-2v-4h2v4z\"/>\n",
              "    </g>\n",
              "</svg>\n",
              "  </button>\n",
              "\n",
              "<style>\n",
              "  .colab-df-quickchart {\n",
              "      --bg-color: #E8F0FE;\n",
              "      --fill-color: #1967D2;\n",
              "      --hover-bg-color: #E2EBFA;\n",
              "      --hover-fill-color: #174EA6;\n",
              "      --disabled-fill-color: #AAA;\n",
              "      --disabled-bg-color: #DDD;\n",
              "  }\n",
              "\n",
              "  [theme=dark] .colab-df-quickchart {\n",
              "      --bg-color: #3B4455;\n",
              "      --fill-color: #D2E3FC;\n",
              "      --hover-bg-color: #434B5C;\n",
              "      --hover-fill-color: #FFFFFF;\n",
              "      --disabled-bg-color: #3B4455;\n",
              "      --disabled-fill-color: #666;\n",
              "  }\n",
              "\n",
              "  .colab-df-quickchart {\n",
              "    background-color: var(--bg-color);\n",
              "    border: none;\n",
              "    border-radius: 50%;\n",
              "    cursor: pointer;\n",
              "    display: none;\n",
              "    fill: var(--fill-color);\n",
              "    height: 32px;\n",
              "    padding: 0;\n",
              "    width: 32px;\n",
              "  }\n",
              "\n",
              "  .colab-df-quickchart:hover {\n",
              "    background-color: var(--hover-bg-color);\n",
              "    box-shadow: 0 1px 2px rgba(60, 64, 67, 0.3), 0 1px 3px 1px rgba(60, 64, 67, 0.15);\n",
              "    fill: var(--button-hover-fill-color);\n",
              "  }\n",
              "\n",
              "  .colab-df-quickchart-complete:disabled,\n",
              "  .colab-df-quickchart-complete:disabled:hover {\n",
              "    background-color: var(--disabled-bg-color);\n",
              "    fill: var(--disabled-fill-color);\n",
              "    box-shadow: none;\n",
              "  }\n",
              "\n",
              "  .colab-df-spinner {\n",
              "    border: 2px solid var(--fill-color);\n",
              "    border-color: transparent;\n",
              "    border-bottom-color: var(--fill-color);\n",
              "    animation:\n",
              "      spin 1s steps(1) infinite;\n",
              "  }\n",
              "\n",
              "  @keyframes spin {\n",
              "    0% {\n",
              "      border-color: transparent;\n",
              "      border-bottom-color: var(--fill-color);\n",
              "      border-left-color: var(--fill-color);\n",
              "    }\n",
              "    20% {\n",
              "      border-color: transparent;\n",
              "      border-left-color: var(--fill-color);\n",
              "      border-top-color: var(--fill-color);\n",
              "    }\n",
              "    30% {\n",
              "      border-color: transparent;\n",
              "      border-left-color: var(--fill-color);\n",
              "      border-top-color: var(--fill-color);\n",
              "      border-right-color: var(--fill-color);\n",
              "    }\n",
              "    40% {\n",
              "      border-color: transparent;\n",
              "      border-right-color: var(--fill-color);\n",
              "      border-top-color: var(--fill-color);\n",
              "    }\n",
              "    60% {\n",
              "      border-color: transparent;\n",
              "      border-right-color: var(--fill-color);\n",
              "    }\n",
              "    80% {\n",
              "      border-color: transparent;\n",
              "      border-right-color: var(--fill-color);\n",
              "      border-bottom-color: var(--fill-color);\n",
              "    }\n",
              "    90% {\n",
              "      border-color: transparent;\n",
              "      border-bottom-color: var(--fill-color);\n",
              "    }\n",
              "  }\n",
              "</style>\n",
              "\n",
              "  <script>\n",
              "    async function quickchart(key) {\n",
              "      const quickchartButtonEl =\n",
              "        document.querySelector('#' + key + ' button');\n",
              "      quickchartButtonEl.disabled = true;  // To prevent multiple clicks.\n",
              "      quickchartButtonEl.classList.add('colab-df-spinner');\n",
              "      try {\n",
              "        const charts = await google.colab.kernel.invokeFunction(\n",
              "            'suggestCharts', [key], {});\n",
              "      } catch (error) {\n",
              "        console.error('Error during call to suggestCharts:', error);\n",
              "      }\n",
              "      quickchartButtonEl.classList.remove('colab-df-spinner');\n",
              "      quickchartButtonEl.classList.add('colab-df-quickchart-complete');\n",
              "    }\n",
              "    (() => {\n",
              "      let quickchartButtonEl =\n",
              "        document.querySelector('#df-6009f7aa-ee36-44a0-99d3-235530a1bcf5 button');\n",
              "      quickchartButtonEl.style.display =\n",
              "        google.colab.kernel.accessAllowed ? 'block' : 'none';\n",
              "    })();\n",
              "  </script>\n",
              "</div>\n",
              "    </div>\n",
              "  </div>\n"
            ],
            "application/vnd.google.colaboratory.intrinsic+json": {
              "type": "dataframe",
              "variable_name": "df_pr"
            }
          },
          "metadata": {},
          "execution_count": 67
        }
      ],
      "source": [
        "df_pr = pd.concat([df_demo,client_score],axis=1)\n",
        "df_pr"
      ]
    },
    {
      "cell_type": "code",
      "execution_count": 68,
      "metadata": {
        "colab": {
          "base_uri": "https://localhost:8080/",
          "height": 200
        },
        "id": "6lK4VH-rDEBK",
        "outputId": "2eb4c122-ba55-4071-8a4b-c3351842b979"
      },
      "outputs": [
        {
          "output_type": "execute_result",
          "data": {
            "text/plain": [
              "                             customer_id              Name  age gender  \\\n",
              "14  fffe43004900440033003800340037003700  Damaris Zamorano   23      F   \n",
              "\n",
              "   security_no region_category membership_category joining_date  \\\n",
              "14     6X94SCD            Town       No Membership   2016-04-25   \n",
              "\n",
              "   joined_through_referral referral_id  ... avg_frequency_login_days  \\\n",
              "14                      No    xxxxxxxx  ...       -6.860127860435156   \n",
              "\n",
              "   points_in_wallet used_special_discount offer_application_preference  \\\n",
              "14           663.97                   Yes                           No   \n",
              "\n",
              "                                             feedback        summary  \\\n",
              "14  Very disappointed in this product- not very we...  disappointed!   \n",
              "\n",
              "    sentiment sent_score  churn_risk_score reasons  \n",
              "14          1    0.98782                 3          \n",
              "\n",
              "[1 rows x 27 columns]"
            ],
            "text/html": [
              "\n",
              "  <div id=\"df-932a36ba-6b5a-48ac-95b6-c01da6c26f4f\" class=\"colab-df-container\">\n",
              "    <div>\n",
              "<style scoped>\n",
              "    .dataframe tbody tr th:only-of-type {\n",
              "        vertical-align: middle;\n",
              "    }\n",
              "\n",
              "    .dataframe tbody tr th {\n",
              "        vertical-align: top;\n",
              "    }\n",
              "\n",
              "    .dataframe thead th {\n",
              "        text-align: right;\n",
              "    }\n",
              "</style>\n",
              "<table border=\"1\" class=\"dataframe\">\n",
              "  <thead>\n",
              "    <tr style=\"text-align: right;\">\n",
              "      <th></th>\n",
              "      <th>customer_id</th>\n",
              "      <th>Name</th>\n",
              "      <th>age</th>\n",
              "      <th>gender</th>\n",
              "      <th>security_no</th>\n",
              "      <th>region_category</th>\n",
              "      <th>membership_category</th>\n",
              "      <th>joining_date</th>\n",
              "      <th>joined_through_referral</th>\n",
              "      <th>referral_id</th>\n",
              "      <th>...</th>\n",
              "      <th>avg_frequency_login_days</th>\n",
              "      <th>points_in_wallet</th>\n",
              "      <th>used_special_discount</th>\n",
              "      <th>offer_application_preference</th>\n",
              "      <th>feedback</th>\n",
              "      <th>summary</th>\n",
              "      <th>sentiment</th>\n",
              "      <th>sent_score</th>\n",
              "      <th>churn_risk_score</th>\n",
              "      <th>reasons</th>\n",
              "    </tr>\n",
              "  </thead>\n",
              "  <tbody>\n",
              "    <tr>\n",
              "      <th>14</th>\n",
              "      <td>fffe43004900440033003800340037003700</td>\n",
              "      <td>Damaris Zamorano</td>\n",
              "      <td>23</td>\n",
              "      <td>F</td>\n",
              "      <td>6X94SCD</td>\n",
              "      <td>Town</td>\n",
              "      <td>No Membership</td>\n",
              "      <td>2016-04-25</td>\n",
              "      <td>No</td>\n",
              "      <td>xxxxxxxx</td>\n",
              "      <td>...</td>\n",
              "      <td>-6.860127860435156</td>\n",
              "      <td>663.97</td>\n",
              "      <td>Yes</td>\n",
              "      <td>No</td>\n",
              "      <td>Very disappointed in this product- not very we...</td>\n",
              "      <td>disappointed!</td>\n",
              "      <td>1</td>\n",
              "      <td>0.98782</td>\n",
              "      <td>3</td>\n",
              "      <td></td>\n",
              "    </tr>\n",
              "  </tbody>\n",
              "</table>\n",
              "<p>1 rows × 27 columns</p>\n",
              "</div>\n",
              "    <div class=\"colab-df-buttons\">\n",
              "\n",
              "  <div class=\"colab-df-container\">\n",
              "    <button class=\"colab-df-convert\" onclick=\"convertToInteractive('df-932a36ba-6b5a-48ac-95b6-c01da6c26f4f')\"\n",
              "            title=\"Convert this dataframe to an interactive table.\"\n",
              "            style=\"display:none;\">\n",
              "\n",
              "  <svg xmlns=\"http://www.w3.org/2000/svg\" height=\"24px\" viewBox=\"0 -960 960 960\">\n",
              "    <path d=\"M120-120v-720h720v720H120Zm60-500h600v-160H180v160Zm220 220h160v-160H400v160Zm0 220h160v-160H400v160ZM180-400h160v-160H180v160Zm440 0h160v-160H620v160ZM180-180h160v-160H180v160Zm440 0h160v-160H620v160Z\"/>\n",
              "  </svg>\n",
              "    </button>\n",
              "\n",
              "  <style>\n",
              "    .colab-df-container {\n",
              "      display:flex;\n",
              "      gap: 12px;\n",
              "    }\n",
              "\n",
              "    .colab-df-convert {\n",
              "      background-color: #E8F0FE;\n",
              "      border: none;\n",
              "      border-radius: 50%;\n",
              "      cursor: pointer;\n",
              "      display: none;\n",
              "      fill: #1967D2;\n",
              "      height: 32px;\n",
              "      padding: 0 0 0 0;\n",
              "      width: 32px;\n",
              "    }\n",
              "\n",
              "    .colab-df-convert:hover {\n",
              "      background-color: #E2EBFA;\n",
              "      box-shadow: 0px 1px 2px rgba(60, 64, 67, 0.3), 0px 1px 3px 1px rgba(60, 64, 67, 0.15);\n",
              "      fill: #174EA6;\n",
              "    }\n",
              "\n",
              "    .colab-df-buttons div {\n",
              "      margin-bottom: 4px;\n",
              "    }\n",
              "\n",
              "    [theme=dark] .colab-df-convert {\n",
              "      background-color: #3B4455;\n",
              "      fill: #D2E3FC;\n",
              "    }\n",
              "\n",
              "    [theme=dark] .colab-df-convert:hover {\n",
              "      background-color: #434B5C;\n",
              "      box-shadow: 0px 1px 3px 1px rgba(0, 0, 0, 0.15);\n",
              "      filter: drop-shadow(0px 1px 2px rgba(0, 0, 0, 0.3));\n",
              "      fill: #FFFFFF;\n",
              "    }\n",
              "  </style>\n",
              "\n",
              "    <script>\n",
              "      const buttonEl =\n",
              "        document.querySelector('#df-932a36ba-6b5a-48ac-95b6-c01da6c26f4f button.colab-df-convert');\n",
              "      buttonEl.style.display =\n",
              "        google.colab.kernel.accessAllowed ? 'block' : 'none';\n",
              "\n",
              "      async function convertToInteractive(key) {\n",
              "        const element = document.querySelector('#df-932a36ba-6b5a-48ac-95b6-c01da6c26f4f');\n",
              "        const dataTable =\n",
              "          await google.colab.kernel.invokeFunction('convertToInteractive',\n",
              "                                                    [key], {});\n",
              "        if (!dataTable) return;\n",
              "\n",
              "        const docLinkHtml = 'Like what you see? Visit the ' +\n",
              "          '<a target=\"_blank\" href=https://colab.research.google.com/notebooks/data_table.ipynb>data table notebook</a>'\n",
              "          + ' to learn more about interactive tables.';\n",
              "        element.innerHTML = '';\n",
              "        dataTable['output_type'] = 'display_data';\n",
              "        await google.colab.output.renderOutput(dataTable, element);\n",
              "        const docLink = document.createElement('div');\n",
              "        docLink.innerHTML = docLinkHtml;\n",
              "        element.appendChild(docLink);\n",
              "      }\n",
              "    </script>\n",
              "  </div>\n",
              "\n",
              "    </div>\n",
              "  </div>\n"
            ],
            "application/vnd.google.colaboratory.intrinsic+json": {
              "type": "dataframe",
              "variable_name": "hight_churn_risk"
            }
          },
          "metadata": {},
          "execution_count": 68
        }
      ],
      "source": [
        "hight_churn_risk = df_pr[(df_pr['sentiment']==1)&(df_pr['churn_risk_score'])]\n",
        "reasons_column = []\n",
        "for doc in hight_churn_risk['feedback'].tolist():\n",
        "  nlp_doc = nlp(doc)\n",
        "  reasons_list = []\n",
        "  for ent in nlp_doc.ents:\n",
        "    reason = str(ent.text) + \" - \" + str(ent.label_)\n",
        "    reasons_list.append(reason)\n",
        "  reason_str = ';'.join(reasons_list)\n",
        "  reasons_column.append(reason_str)\n",
        "reasons_column = pd.DataFrame(reasons_column, columns=['reasons'])\n",
        "reasons_column.index = hight_churn_risk.index\n",
        "hight_churn_risk = pd.concat([hight_churn_risk,reasons_column], axis=1)\n",
        "hight_churn_risk"
      ]
    }
  ],
  "metadata": {
    "accelerator": "GPU",
    "colab": {
      "provenance": []
    },
    "gpuClass": "standard",
    "kernelspec": {
      "display_name": "Python 3",
      "name": "python3"
    },
    "language_info": {
      "name": "python"
    }
  },
  "nbformat": 4,
  "nbformat_minor": 0
}